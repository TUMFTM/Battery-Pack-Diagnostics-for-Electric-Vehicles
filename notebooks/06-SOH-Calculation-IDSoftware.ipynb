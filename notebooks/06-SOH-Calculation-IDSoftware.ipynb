{
 "cells": [
  {
   "cell_type": "code",
   "execution_count": 1,
   "id": "99f0ccf4-41ab-4478-9e19-73170b2ed7f6",
   "metadata": {},
   "outputs": [],
   "source": [
    "import os\n",
    "import sys\n",
    "import math\n",
    "sys.path.append(os.getcwd().partition('notebooks')[0])\n",
    "from src.config_base import GeneralConfig"
   ]
  },
  {
   "cell_type": "code",
   "execution_count": 2,
   "id": "0f332a55-4f87-4112-9408-924a6c474938",
   "metadata": {},
   "outputs": [],
   "source": [
    "import pandas as pd\n",
    "import numpy as np\n",
    "import matplotlib.pyplot as plt\n",
    "import matplotlib.ticker as ticker\n",
    "import matplotlib.patches as mpatches\n",
    "import matplotlib.text as mtext\n",
    "import matplotlib.gridspec as gridspec\n",
    "from matplotlib.ticker import FixedLocator\n",
    "from matplotlib.lines import Line2D\n",
    "from matplotlib.patches import Patch"
   ]
  },
  {
   "cell_type": "code",
   "execution_count": 3,
   "id": "d9759eb3-e37e-44b4-958b-87c819517cf3",
   "metadata": {},
   "outputs": [],
   "source": [
    "from src.data.read_pickle import ReadPickle\n",
    "from src.filtering.filter_methods import FilterMethods\n",
    "from src.voltage_capacity_analysis.dva import DVA\n",
    "from src.visualization.config_visualization import VisualizationConfig, instantiate_matplotlib_parameters, cm2inch\n",
    "instantiate_matplotlib_parameters()\n",
    "from src.visualization.colormaps import ColorMaps\n",
    "from src.visualization.colormaps import ColorMaps"
   ]
  },
  {
   "cell_type": "markdown",
   "id": "ee3c2407-93ae-499b-bf1f-0d10ea2a581b",
   "metadata": {},
   "source": [
    "## Data"
   ]
  },
  {
   "cell_type": "code",
   "execution_count": 4,
   "id": "1fa413d4-ed78-4314-9b7c-691a4a14a27c",
   "metadata": {},
   "outputs": [
    {
     "data": {
      "image/png": "[encoded data removed]",
      "text/html": [
       "<div style=\"vertical-align: middle;\"><strong>tum_orange</strong> </div><div class=\"cmap\"><img alt=\"tum_orange colormap\" title=\"tum_orange\" style=\"border: 1px solid #555;\" src=\"data:image/png;base64,iVBORw0KGgoAAAANSUhEUgAAAgAAAABACAYAAABsv8+/AAAAGXRFWHRUaXRsZQB0dW1fb3JhbmdlIGNvbG9ybWFwixbW5QAAAB90RVh0RGVzY3JpcHRpb24AdHVtX29yYW5nZSBjb2xvcm1hcPE+F6sAAAAwdEVYdEF1dGhvcgBNYXRwbG90bGliIHYzLjguNCwgaHR0cHM6Ly9tYXRwbG90bGliLm9yZ2TOsrQAAAAydEVYdFNvZnR3YXJlAE1hdHBsb3RsaWIgdjMuOC40LCBodHRwczovL21hdHBsb3RsaWIub3JnSmgtkwAAAYpJREFUeJzt1kFugzAUQEHco/SIvXIP0myyqaMohRBo9GY2ETICI39Fb3x/ff4sv4zrz5iuV67f3LdM1xvf8/A5G9f3es68fvc799rvk+/Zer6rz3+n99z7joPndTxY331eT5+jlft42fkfNa/LdP2qef3j+unnv22/49k5erf/q/8+R9P6xwIA5AgAAAgSAAAQJAAAIEgAAECQAACAIAEAAEECAACCBAAABAkAAAgSAAAQJAAAIEgAAECQAACAIAEAAEECAACCBAAABAkAAAgSAAAQJAAAIEgAAECQAACAIAEAAEECAACCBAAABAkAAAgSAAAQJAAAIEgAAECQAACAIAEAAEECAACCBAAABAkAAAgSAAAQJAAAIEgAAECQAACAIAEAAEECAACCBAAABAkAAAgSAAAQJAAAIEgAAECQAACAIAEAAEECAACCBAAABAkAAAgSAAAQJAAAIEgAAECQAACAIAEAAEECAACCBAAABAkAAAgSAAAQJAAAIEgAAECQAACAIAEAAEEXgqwELiXJxakAAAAASUVORK5CYII=\"></div><div style=\"vertical-align: middle; max-width: 514px; display: flex; justify-content: space-between;\"><div style=\"float: left;\"><div title=\"#e37222ff\" style=\"display: inline-block; width: 1em; height: 1em; margin: 0; vertical-align: middle; border: 1px solid #555; background-color: #e37222ff;\"></div> under</div><div style=\"margin: 0 auto; display: inline-block;\">bad <div title=\"#00000000\" style=\"display: inline-block; width: 1em; height: 1em; margin: 0; vertical-align: middle; border: 1px solid #555; background-color: #00000000;\"></div></div><div style=\"float: right;\">over <div title=\"#e6e6e6ff\" style=\"display: inline-block; width: 1em; height: 1em; margin: 0; vertical-align: middle; border: 1px solid #555; background-color: #e6e6e6ff;\"></div></div>"
      ],
      "text/plain": [
       "<matplotlib.colors.ListedColormap at 0x164b8ae94d0>"
      ]
     },
     "execution_count": 4,
     "metadata": {},
     "output_type": "execute_result"
    }
   ],
   "source": [
    "tum_orange_cmap = ColorMaps.orange_tum()\n",
    "orange_colors = tum_orange_cmap(np.linspace(0,1, 10))\n",
    "tum_orange_cmap"
   ]
  },
  {
   "cell_type": "code",
   "execution_count": 5,
   "id": "8126e131-4ae1-41e8-b506-8d20db066420",
   "metadata": {},
   "outputs": [
    {
     "data": {
      "image/png": "[encoded data removed]",
      "text/html": [
       "<div style=\"vertical-align: middle;\"><strong>tum_blue</strong> </div><div class=\"cmap\"><img alt=\"tum_blue colormap\" title=\"tum_blue\" style=\"border: 1px solid #555;\" src=\"data:image/png;base64,iVBORw0KGgoAAAANSUhEUgAAAgAAAABACAYAAABsv8+/AAAAF3RFWHRUaXRsZQB0dW1fYmx1ZSBjb2xvcm1hcKbbBgQAAAAddEVYdERlc2NyaXB0aW9uAHR1bV9ibHVlIGNvbG9ybWFwj6XhLQAAADB0RVh0QXV0aG9yAE1hdHBsb3RsaWIgdjMuOC40LCBodHRwczovL21hdHBsb3RsaWIub3JnZM6ytAAAADJ0RVh0U29mdHdhcmUATWF0cGxvdGxpYiB2My44LjQsIGh0dHBzOi8vbWF0cGxvdGxpYi5vcmdKaC2TAAABqElEQVR4nO3WXW6CQBhAUeheu8yurX3RtFphQOhPcs95MRPJlxlGkztPr2/v0xfzfPkcrufV77/PW39+NH/7/uZN86edz4/mj/e37/zTwfd1/n1c17cD//4+Hp9nvL+fvo/18yzv77nf4/K8jfPvnptO2tfyvGPzP+ed8z9Z3t9z88fnvV+vn//37+P2PP/nPh6fZ7y/Y+/r/Pu4rvf+Xs69j5cJAMgRAAAQJAAAIEgAAECQAACAIAEAAEECAACCBAAABAkAAAgSAAAQJAAAIEgAAECQAACAIAEAAEECAACCBAAABAkAAAgSAAAQJAAAIEgAAECQAACAIAEAAEECAACCBAAABAkAAAgSAAAQJAAAIEgAAECQAACAIAEAAEECAACCBAAABAkAAAgSAAAQJAAAIEgAAECQAACAIAEAAEECAACCBAAABAkAAAgSAAAQJAAAIEgAAECQAACAIAEAAEECAACCBAAABAkAAAgSAAAQJAAAIEgAAECQAACAIAEAAEECAACCBAAABAkAAAgSAAAQJAAAIEgAAECQAACAIAEAAEECAACCPgAujQQuZCaHmgAAAABJRU5ErkJggg==\"></div><div style=\"vertical-align: middle; max-width: 514px; display: flex; justify-content: space-between;\"><div style=\"float: left;\"><div title=\"#0065bdff\" style=\"display: inline-block; width: 1em; height: 1em; margin: 0; vertical-align: middle; border: 1px solid #555; background-color: #0065bdff;\"></div> under</div><div style=\"margin: 0 auto; display: inline-block;\">bad <div title=\"#00000000\" style=\"display: inline-block; width: 1em; height: 1em; margin: 0; vertical-align: middle; border: 1px solid #555; background-color: #00000000;\"></div></div><div style=\"float: right;\">over <div title=\"#e6e6e6ff\" style=\"display: inline-block; width: 1em; height: 1em; margin: 0; vertical-align: middle; border: 1px solid #555; background-color: #e6e6e6ff;\"></div></div>"
      ],
      "text/plain": [
       "<matplotlib.colors.ListedColormap at 0x164b81a0b90>"
      ]
     },
     "execution_count": 5,
     "metadata": {},
     "output_type": "execute_result"
    }
   ],
   "source": [
    "tum_blue_cmap = ColorMaps.blue_tum()\n",
    "blue_colors = tum_blue_cmap(np.linspace(0,1, 10))\n",
    "tum_blue_cmap"
   ]
  },
  {
   "cell_type": "code",
   "execution_count": 6,
   "id": "174fcff7-303e-477e-b26e-01bcb3667336",
   "metadata": {},
   "outputs": [
    {
     "data": {
      "image/png": "[encoded data removed]",
      "text/plain": [
       "<Figure size 329.736x236.22 with 1 Axes>"
      ]
     },
     "metadata": {},
     "output_type": "display_data"
    }
   ],
   "source": [
    "heigth = 6\n",
    "fig,axes= plt.subplots(1,1,figsize=(VisualizationConfig.columnwidth_in_in.value,\n",
    "                                cm2inch(heigth)))\n",
    "\n",
    "\n",
    "width = 0.3  # the width of the bars\n",
    "offset = width/2\n",
    "xpos = 0.5\n",
    "# SOH energy\n",
    "rects = axes.barh(xpos+ offset, 55, width,color=VisualizationConfig.TUMhellblau.value,edgecolor=\"k\")\n",
    "rects = axes.barh(xpos - offset, 58.9, width,color=VisualizationConfig.TUMhellblau.value,edgecolor=\"k\",hatch=\"///\")\n",
    "rects = axes.barh(0 , 59.4, width,color=VisualizationConfig.TUMdunkelblau.value,edgecolor=\"k\")\n",
    "\n",
    "#spines\n",
    "axes.spines['top'].set_color('white')\n",
    "axes.spines['right'].set_color('white')\n",
    "\n",
    "# tickz\n",
    "#axes.set_ylim([0-width/2-0.01,1+width+0.01])\n",
    "axes.set_xlim([0,74])\n",
    "tick_positions = np.array([0,20,40])\n",
    "axes.set_xticks(tick_positions)\n",
    "axes.xaxis.set_minor_locator(FixedLocator([0,10,30,50]))\n",
    "axes.grid(axis='x')\n",
    "axes.set_axisbelow(True)\n",
    "# labels\n",
    "axes.set_xlabel(r\"Vehicle energy in kWh\",fontsize=9)\n",
    "tick_positions = np.array([0,0.5])\n",
    "axes.set_yticks(tick_positions)\n",
    "tick_labels = [\"2024\",\"2023\"]\n",
    "axes.set_yticklabels(tick_labels,rotation=0,fontsize=9,ha='right',va=\"center\",rotation_mode=\"anchor\")\n",
    "axes.yaxis.set_ticks_position('none') \n",
    "# legend\n",
    "handles, labels =axes.get_legend_handles_labels()  \n",
    "patch1 =  Patch(label='ID.Software 3.1 (meas.)', facecolor=VisualizationConfig.TUMhellblau.value)\n",
    "patch2 =  Patch(label='ID.Software 3.1 (est.)', facecolor=VisualizationConfig.TUMhellblau.value,hatch=\"////\")\n",
    "patch3 =  Patch(label='ID.Software 3.2 (meas.)', facecolor=VisualizationConfig.TUMdunkelblau.value)\n",
    "# add manual symbols to auto legend\n",
    "handles.extend([patch1,patch2,patch3])\n",
    "lgd = axes.legend(handles=handles,loc=\"center\",fontsize=9,ncols=1,handletextpad=0.4,\n",
    "           framealpha =1 , fancybox=False,labelspacing=0.5,columnspacing=0.7,edgecolor=\"black\",bbox_to_anchor=(0.35,1.3))\n",
    "# annotations\n",
    "axes.annotate(\"\",xy=(66, xpos+width/2), xycoords='data',\n",
    "                xytext=(66, xpos-width/2), textcoords='data',\n",
    "                arrowprops=dict(arrowstyle=\"<|-\", #linestyle=\"dashed\",\n",
    "                                color=\"0\",\n",
    "                                shrinkA=5, shrinkB=5,\n",
    "                                patchA=None,\n",
    "                                patchB=None,\n",
    "                                connectionstyle=\"bar,fraction=0.7\",))\n",
    "axes.annotate(\"\",\n",
    "                xy=(64.5, xpos+width/2), xycoords='data',\n",
    "                xytext=(68, xpos+width/2), textcoords='data',\n",
    "                arrowprops=dict(arrowstyle=\"-\", #linestyle=\"dashed\",\n",
    "                                color=\"0\",\n",
    "                                shrinkA=0, shrinkB=0,\n",
    "                                patchA=None,\n",
    "                                patchB=None))\n",
    "axes.annotate(text='+7.1 %', xy=(74,xpos+0.01),fontsize=9,rotation=90,ha=\"left\",va=\"center\",bbox=dict(boxstyle='square,pad=0',fc='white', ec='none', alpha=0))\n",
    "axes.annotate(text='55.0', xy=(55.0+2-0.8,xpos+width/2),fontsize=9,rotation=0,ha=\"left\",va=\"center\",bbox=dict(boxstyle='square,pad=0',fc='white', ec='none', alpha=0))\n",
    "axes.annotate(text='58.9', xy=(58.9+2,xpos-width/2),fontsize=9,rotation=0,ha=\"left\",va=\"center\",bbox=dict(boxstyle='square,pad=0.2',fc='white', ec='none', alpha=0))\n",
    "axes.annotate(text='59.4', xy=(59.4+2,0),fontsize=9,rotation=0,ha=\"left\",va=\"center\",bbox=dict(boxstyle='square,pad=0.2',fc='white', ec='none', alpha=0))\n",
    "plt.tight_layout(rect=(0,0,1,1.1))\n",
    "fig.savefig(os.path.join(GeneralConfig.path2figures.value,\"06-SOH_Def_VW_SUpdf\"),bbox_extra_artists=(lgd))\n",
    "fig.savefig(os.path.join(GeneralConfig.path2figures.value,\"06-SOH_Def_VW_SU.png\"),dpi=300,bbox_extra_artists=(lgd))"
   ]
  },
  {
   "cell_type": "code",
   "execution_count": 7,
   "id": "ca563e5d-863a-40ee-8306-5883358cc37f",
   "metadata": {},
   "outputs": [
    {
     "data": {
      "text/plain": [
       "7.090909090909088"
      ]
     },
     "execution_count": 7,
     "metadata": {},
     "output_type": "execute_result"
    }
   ],
   "source": [
    "(58.9-55)/55*100"
   ]
  },
  {
   "cell_type": "code",
   "execution_count": null,
   "id": "a1f78e8c-2a56-4f37-a4dd-fb4cab485f32",
   "metadata": {},
   "outputs": [],
   "source": []
  }
 ],
 "metadata": {
  "kernelspec": {
   "display_name": "Python 3 (ipykernel)",
   "language": "python",
   "name": "python3"
  },
  "language_info": {
   "codemirror_mode": {
    "name": "ipython",
    "version": 3
   },
   "file_extension": ".py",
   "mimetype": "text/x-python",
   "name": "python",
   "nbconvert_exporter": "python",
   "pygments_lexer": "ipython3",
   "version": "3.11.9"
  }
 },
 "nbformat": 4,
 "nbformat_minor": 5
}
