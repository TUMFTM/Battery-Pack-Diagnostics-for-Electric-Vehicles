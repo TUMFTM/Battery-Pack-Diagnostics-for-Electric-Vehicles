{
 "cells": [
  {
   "cell_type": "markdown",
   "id": "097dcd49-80d2-4f4a-a3d1-490f5ed0d0cb",
   "metadata": {},
   "source": [
    "# Transfer Cell 2 Pack\n",
    "## Compare the Cell pOCV, DVA and ICA with the DVA from the vehicles VW and Tesla\n",
    "## aligned by the lower cut-off voltage"
   ]
  },
  {
   "cell_type": "code",
   "execution_count": 1,
   "id": "6bb20a9f-82c5-45b2-a146-4f39494520fb",
   "metadata": {},
   "outputs": [],
   "source": [
    "import os\n",
    "import sys\n",
    "import math\n",
    "sys.path.append(os.getcwd().partition('notebooks')[0])\n",
    "from src.config_base import GeneralConfig"
   ]
  },
  {
   "cell_type": "code",
   "execution_count": 2,
   "id": "2636f5b3-2bc4-4299-a00c-2e723219de6c",
   "metadata": {},
   "outputs": [],
   "source": [
    "import pandas as pd\n",
    "import numpy as np\n",
    "import matplotlib.pyplot as plt\n",
    "import matplotlib.ticker as ticker\n",
    "from matplotlib.ticker import FormatStrFormatter\n",
    "from matplotlib.ticker import AutoMinorLocator, FixedLocator"
   ]
  },
  {
   "cell_type": "code",
   "execution_count": 3,
   "id": "9386ba4e-7043-4bcb-97cc-f5fb1faf27ba",
   "metadata": {},
   "outputs": [],
   "source": [
    "from src.data.read_pickle import ReadPickle\n",
    "from src.filtering.filter_methods import FilterMethods\n",
    "from src.voltage_capacity_analysis.ica import ICA\n",
    "from src.voltage_capacity_analysis.dva import DVA\n",
    "from src.visualization.config_visualization import VisualizationConfig, instantiate_matplotlib_parameters, cm2inch\n",
    "instantiate_matplotlib_parameters()\n",
    "from src.visualization.colormaps import ColorMaps"
   ]
  },
  {
   "cell_type": "code",
   "execution_count": 4,
   "id": "d12e51fb-4c3a-42d5-a062-5afdd175cd14",
   "metadata": {},
   "outputs": [
    {
     "data": {
      "image/png": "[encoded data removed]",
      "text/html": [
       "<div style=\"vertical-align: middle;\"><strong>tum_orange</strong> </div><div class=\"cmap\"><img alt=\"tum_orange colormap\" title=\"tum_orange\" style=\"border: 1px solid #555;\" src=\"data:image/png;base64,iVBORw0KGgoAAAANSUhEUgAAAgAAAABACAYAAABsv8+/AAAAGXRFWHRUaXRsZQB0dW1fb3JhbmdlIGNvbG9ybWFwixbW5QAAAB90RVh0RGVzY3JpcHRpb24AdHVtX29yYW5nZSBjb2xvcm1hcPE+F6sAAAAwdEVYdEF1dGhvcgBNYXRwbG90bGliIHYzLjguNCwgaHR0cHM6Ly9tYXRwbG90bGliLm9yZ2TOsrQAAAAydEVYdFNvZnR3YXJlAE1hdHBsb3RsaWIgdjMuOC40LCBodHRwczovL21hdHBsb3RsaWIub3JnSmgtkwAAAYpJREFUeJzt1kFugzAUQEHco/SIvXIP0myyqaMohRBo9GY2ETICI39Fb3x/ff4sv4zrz5iuV67f3LdM1xvf8/A5G9f3es68fvc799rvk+/Zer6rz3+n99z7joPndTxY331eT5+jlft42fkfNa/LdP2qef3j+unnv22/49k5erf/q/8+R9P6xwIA5AgAAAgSAAAQJAAAIEgAAECQAACAIAEAAEECAACCBAAABAkAAAgSAAAQJAAAIEgAAECQAACAIAEAAEECAACCBAAABAkAAAgSAAAQJAAAIEgAAECQAACAIAEAAEECAACCBAAABAkAAAgSAAAQJAAAIEgAAECQAACAIAEAAEECAACCBAAABAkAAAgSAAAQJAAAIEgAAECQAACAIAEAAEECAACCBAAABAkAAAgSAAAQJAAAIEgAAECQAACAIAEAAEECAACCBAAABAkAAAgSAAAQJAAAIEgAAECQAACAIAEAAEECAACCBAAABAkAAAgSAAAQJAAAIEgAAECQAACAIAEAAEEXgqwELiXJxakAAAAASUVORK5CYII=\"></div><div style=\"vertical-align: middle; max-width: 514px; display: flex; justify-content: space-between;\"><div style=\"float: left;\"><div title=\"#e37222ff\" style=\"display: inline-block; width: 1em; height: 1em; margin: 0; vertical-align: middle; border: 1px solid #555; background-color: #e37222ff;\"></div> under</div><div style=\"margin: 0 auto; display: inline-block;\">bad <div title=\"#00000000\" style=\"display: inline-block; width: 1em; height: 1em; margin: 0; vertical-align: middle; border: 1px solid #555; background-color: #00000000;\"></div></div><div style=\"float: right;\">over <div title=\"#e6e6e6ff\" style=\"display: inline-block; width: 1em; height: 1em; margin: 0; vertical-align: middle; border: 1px solid #555; background-color: #e6e6e6ff;\"></div></div>"
      ],
      "text/plain": [
       "<matplotlib.colors.ListedColormap at 0x18ff52de850>"
      ]
     },
     "execution_count": 4,
     "metadata": {},
     "output_type": "execute_result"
    }
   ],
   "source": [
    "tum_orange_cmap = ColorMaps.orange_tum()\n",
    "orange_colors = tum_orange_cmap(np.linspace(0,1, 10))\n",
    "tum_orange_cmap"
   ]
  },
  {
   "cell_type": "code",
   "execution_count": 5,
   "id": "db58749d-9da0-4cef-bf17-fc71114f62d9",
   "metadata": {},
   "outputs": [
    {
     "data": {
      "image/png": "[encoded data removed]",
      "text/html": [
       "<div style=\"vertical-align: middle;\"><strong>tum_blue</strong> </div><div class=\"cmap\"><img alt=\"tum_blue colormap\" title=\"tum_blue\" style=\"border: 1px solid #555;\" src=\"data:image/png;base64,iVBORw0KGgoAAAANSUhEUgAAAgAAAABACAYAAABsv8+/AAAAF3RFWHRUaXRsZQB0dW1fYmx1ZSBjb2xvcm1hcKbbBgQAAAAddEVYdERlc2NyaXB0aW9uAHR1bV9ibHVlIGNvbG9ybWFwj6XhLQAAADB0RVh0QXV0aG9yAE1hdHBsb3RsaWIgdjMuOC40LCBodHRwczovL21hdHBsb3RsaWIub3JnZM6ytAAAADJ0RVh0U29mdHdhcmUATWF0cGxvdGxpYiB2My44LjQsIGh0dHBzOi8vbWF0cGxvdGxpYi5vcmdKaC2TAAABqElEQVR4nO3WXW6CQBhAUeheu8yurX3RtFphQOhPcs95MRPJlxlGkztPr2/v0xfzfPkcrufV77/PW39+NH/7/uZN86edz4/mj/e37/zTwfd1/n1c17cD//4+Hp9nvL+fvo/18yzv77nf4/K8jfPvnptO2tfyvGPzP+ed8z9Z3t9z88fnvV+vn//37+P2PP/nPh6fZ7y/Y+/r/Pu4rvf+Xs69j5cJAMgRAAAQJAAAIEgAAECQAACAIAEAAEECAACCBAAABAkAAAgSAAAQJAAAIEgAAECQAACAIAEAAEECAACCBAAABAkAAAgSAAAQJAAAIEgAAECQAACAIAEAAEECAACCBAAABAkAAAgSAAAQJAAAIEgAAECQAACAIAEAAEECAACCBAAABAkAAAgSAAAQJAAAIEgAAECQAACAIAEAAEECAACCBAAABAkAAAgSAAAQJAAAIEgAAECQAACAIAEAAEECAACCBAAABAkAAAgSAAAQJAAAIEgAAECQAACAIAEAAEECAACCBAAABAkAAAgSAAAQJAAAIEgAAECQAACAIAEAAEECAACCPgAujQQuZCaHmgAAAABJRU5ErkJggg==\"></div><div style=\"vertical-align: middle; max-width: 514px; display: flex; justify-content: space-between;\"><div style=\"float: left;\"><div title=\"#0065bdff\" style=\"display: inline-block; width: 1em; height: 1em; margin: 0; vertical-align: middle; border: 1px solid #555; background-color: #0065bdff;\"></div> under</div><div style=\"margin: 0 auto; display: inline-block;\">bad <div title=\"#00000000\" style=\"display: inline-block; width: 1em; height: 1em; margin: 0; vertical-align: middle; border: 1px solid #555; background-color: #00000000;\"></div></div><div style=\"float: right;\">over <div title=\"#e6e6e6ff\" style=\"display: inline-block; width: 1em; height: 1em; margin: 0; vertical-align: middle; border: 1px solid #555; background-color: #e6e6e6ff;\"></div></div>"
      ],
      "text/plain": [
       "<matplotlib.colors.ListedColormap at 0x18ff67ae110>"
      ]
     },
     "execution_count": 5,
     "metadata": {},
     "output_type": "execute_result"
    }
   ],
   "source": [
    "tum_blue_cmap = ColorMaps.blue_tum()\n",
    "blue_colors = tum_blue_cmap(np.linspace(0,1, 10))\n",
    "tum_blue_cmap"
   ]
  },
  {
   "cell_type": "markdown",
   "id": "65a0f1e9-3ae9-4e9a-af64-8f1c023166fa",
   "metadata": {},
   "source": [
    "## Read VW Cell File"
   ]
  },
  {
   "cell_type": "code",
   "execution_count": 6,
   "id": "d2f03bd8-487a-4a4d-81fc-259fc51a7f52",
   "metadata": {},
   "outputs": [],
   "source": [
    "path2files = os.path.join(GeneralConfig.path2data.value,\"VW\",\"cell\")"
   ]
  },
  {
   "cell_type": "code",
   "execution_count": 7,
   "id": "3d07edd1-7d1b-4318-8a3c-4da7524bb815",
   "metadata": {
    "tags": []
   },
   "outputs": [],
   "source": [
    "def filter_func_preprocess_U(signal):\n",
    "    perc_filter = 0.1/100 * len(signal) #% filter\n",
    "    filtered_signal = FilterMethods().rolling_mean_df(signal,window_size=FilterMethods().round_to_next_odd_number(perc_filter))\n",
    "    #filtered_signal = FilterMethods().savgol(signal,window_size=FilterMethods().round_to_next_odd_number(perc_filter/100 * len(signal)))\n",
    "    return filtered_signal"
   ]
  },
  {
   "cell_type": "code",
   "execution_count": 8,
   "id": "93ea98cb-229e-4d40-8579-4e639e90b8d4",
   "metadata": {},
   "outputs": [],
   "source": [
    "def filter_func_preprocess_Q(signal):\n",
    "    perc_filter = 0.1/100 * len(signal) #% filter\n",
    "    filtered_signal = FilterMethods().rolling_mean_df(signal,window_size=FilterMethods().round_to_next_odd_number(perc_filter))\n",
    "    #filtered_signal = FilterMethods().savgol(signal,window_size=FilterMethods().round_to_next_odd_number(perc_filter/100 * len(signal)))\n",
    "    return filtered_signal"
   ]
  },
  {
   "cell_type": "code",
   "execution_count": 9,
   "id": "40946bd2-6433-4706-bc83-f6979e107b40",
   "metadata": {},
   "outputs": [],
   "source": [
    "read_pickle = ReadPickle()\n",
    "read_pickle.set_filter_U(filter_func_preprocess_U)\n",
    "read_pickle.set_filter_Q(filter_func_preprocess_Q)"
   ]
  },
  {
   "cell_type": "code",
   "execution_count": 10,
   "id": "19584a01-a20b-4c75-8256-46b03c47110f",
   "metadata": {},
   "outputs": [],
   "source": [
    "df_cell_vw =  read_pickle.read(os.path.join(path2files,\"VW_LG_78Ah_NMC_20deg_CP_C45.pkl\"))"
   ]
  },
  {
   "cell_type": "code",
   "execution_count": 11,
   "id": "3b701d63-e4ab-4c94-ab3b-5c262db3620c",
   "metadata": {},
   "outputs": [],
   "source": [
    "def filter_func(signal):\n",
    "    perc_filter = 0.5 #% filter\n",
    "    filtered_signal = FilterMethods().rolling_mean_numpy(signal,window_size=FilterMethods().round_to_next_odd_number(perc_filter/100 * len(signal)))\n",
    "    filtered_signal_reverse = FilterMethods().rolling_mean_numpy(np.flip(signal),window_size=FilterMethods().round_to_next_odd_number(perc_filter/100 * len(signal)))\n",
    "    return (filtered_signal+np.flip(filtered_signal_reverse))/2"
   ]
  },
  {
   "cell_type": "code",
   "execution_count": 12,
   "id": "fd3b56d5-eade-41d0-86b2-3df0f8400d23",
   "metadata": {},
   "outputs": [],
   "source": [
    "dva_extractor = DVA()\n",
    "dva_extractor.set_filter(filter_func)\n",
    "dva_cell_vw, cap_cell_vw =dva_extractor.get_dva(time=df_cell_vw[\"time_h\"], capacity=df_cell_vw[\"Q\"], voltage=df_cell_vw[\"U\"],crop_cap_Ah=(0,79.5))"
   ]
  },
  {
   "cell_type": "code",
   "execution_count": 13,
   "id": "7907f946-13dd-4415-bf24-0c8926da126c",
   "metadata": {},
   "outputs": [],
   "source": [
    "ica_extractor = ICA()\n",
    "ica_extractor.set_filter(filter_func)\n",
    "ica_cell_vw, volt_cell_vw =ica_extractor.get_ica(time=df_cell_vw[\"time_h\"], capacity=df_cell_vw[\"Q\"], voltage=df_cell_vw[\"U\"],crop_volt_V=(2.8,4.2))"
   ]
  },
  {
   "cell_type": "markdown",
   "id": "1eb86108-b5fe-41aa-9cc3-185cc9ee229b",
   "metadata": {},
   "source": [
    "## Read VW Vehicle Files"
   ]
  },
  {
   "cell_type": "code",
   "execution_count": 14,
   "id": "97e04f3b-29c3-46ea-9f71-8d0b90f753a3",
   "metadata": {},
   "outputs": [],
   "source": [
    "path2files_vw = os.path.join(GeneralConfig.path2data.value,\"VW\",\"vehicle\")"
   ]
  },
  {
   "cell_type": "code",
   "execution_count": 15,
   "id": "d61f0a66-3bb8-4813-9c48-c364e0f38c55",
   "metadata": {},
   "outputs": [],
   "source": [
    "def filter_func_preprocess_v_U(signal):\n",
    "    perc_filter = 1 #% filter\n",
    "    filtered_signal = FilterMethods().rolling_mean_df(signal,window_size=FilterMethods().round_to_next_odd_number(perc_filter/100 * len(signal)))\n",
    "    #filtered_signal = FilterMethods().savgol(signal,window_size=FilterMethods().round_to_next_odd_number(perc_filter/100 * len(signal)))\n",
    "    return filtered_signal"
   ]
  },
  {
   "cell_type": "code",
   "execution_count": 16,
   "id": "806301b9-8f18-46b3-97ee-213ee7c633b0",
   "metadata": {},
   "outputs": [],
   "source": [
    "def filter_func_preprocess_v_Q(signal):\n",
    "    perc_filter = 1 #% filter\n",
    "    filtered_signal = FilterMethods().rolling_mean_df(signal,window_size=FilterMethods().round_to_next_odd_number(perc_filter/100 * len(signal)))\n",
    "    #filtered_signal = FilterMethods().savgol(signal,window_size=FilterMethods().round_to_next_odd_number(perc_filter/100 * len(signal)))\n",
    "    return filtered_signal"
   ]
  },
  {
   "cell_type": "code",
   "execution_count": 17,
   "id": "213c8ef4-85de-4a59-86e2-dec85d972a7e",
   "metadata": {},
   "outputs": [],
   "source": [
    "read_pickle = ReadPickle()\n",
    "read_pickle.set_filter_U(filter_func_preprocess_v_U)\n",
    "read_pickle.set_filter_Q(filter_func_preprocess_v_Q)"
   ]
  },
  {
   "cell_type": "code",
   "execution_count": 18,
   "id": "ebf32c65-6d2f-4374-9757-f72bb2790b60",
   "metadata": {},
   "outputs": [],
   "source": [
    "df_vw =  read_pickle.read(os.path.join(path2files_vw,\"VW_ID3_JB_8A_C40_2021.pkl\"))"
   ]
  },
  {
   "cell_type": "code",
   "execution_count": 19,
   "id": "d7b87cd8-8b4e-4e85-bcf4-b0bdba30467a",
   "metadata": {},
   "outputs": [
    {
     "data": {
      "text/plain": [
       "359.30385781303863"
      ]
     },
     "execution_count": 19,
     "metadata": {},
     "output_type": "execute_result"
    }
   ],
   "source": [
    "df_vw[\"U\"].min()"
   ]
  },
  {
   "cell_type": "code",
   "execution_count": 20,
   "id": "c9dd65b8-b162-44bd-8bd3-0a790bf3459e",
   "metadata": {},
   "outputs": [],
   "source": [
    "def filter_func_v(signal):\n",
    "    perc_filter = 1 #% filter\n",
    "    filtered_signal = FilterMethods().rolling_mean_numpy(signal,window_size=FilterMethods().round_to_next_odd_number(perc_filter/100 * len(signal)))\n",
    "    filtered_signal_reverse = FilterMethods().rolling_mean_numpy(np.flip(signal),window_size=FilterMethods().round_to_next_odd_number(perc_filter/100 * len(signal)))\n",
    "    return (filtered_signal+np.flip(filtered_signal_reverse))/2"
   ]
  },
  {
   "cell_type": "code",
   "execution_count": 21,
   "id": "a0015b1c-d523-4a73-b092-b71b3cb7e191",
   "metadata": {},
   "outputs": [],
   "source": [
    "dva_extractor = DVA()\n",
    "dva_extractor.set_filter(filter_func_v)"
   ]
  },
  {
   "cell_type": "code",
   "execution_count": 22,
   "id": "3c8b3769-753b-4588-a48f-32ccbdf2bbab",
   "metadata": {},
   "outputs": [],
   "source": [
    "dva_vw, cap_vw =dva_extractor.get_dva(time=df_vw[\"time_h\"], capacity=df_vw[\"Q\"], voltage=df_vw[\"U\"],crop_cap_Ah=(1,180))"
   ]
  },
  {
   "cell_type": "code",
   "execution_count": 23,
   "id": "37b515cf-684a-47d6-b10f-650a3056a652",
   "metadata": {},
   "outputs": [],
   "source": [
    "deltaQ_vw =  dva_extractor.get_Q_shift_for_lower_cut_off_voltage(df_vehicle = df_vw, df_cell = df_cell_vw,n_seriell=108,n_parallel=2)"
   ]
  },
  {
   "cell_type": "code",
   "execution_count": 24,
   "id": "9fb7a48d-3834-4ab4-a7ae-69f3fbf08084",
   "metadata": {},
   "outputs": [
    {
     "data": {
      "text/plain": [
       "6.379358561700205"
      ]
     },
     "execution_count": 24,
     "metadata": {},
     "output_type": "execute_result"
    }
   ],
   "source": [
    "deltaQ_vw"
   ]
  },
  {
   "cell_type": "code",
   "execution_count": 25,
   "id": "17463082-5e39-4e6e-8968-e84edf8350d7",
   "metadata": {},
   "outputs": [],
   "source": [
    "ica_extractor = ICA()\n",
    "ica_extractor.set_filter(filter_func_v)\n",
    "ica_extractor.set_post_filter(filter_func_v)\n",
    "ica_vw, volt_vw =ica_extractor.get_ica(time=df_vw[\"time_h\"], capacity=df_vw[\"Q\"], voltage=df_vw[\"U\"],crop_volt_V=(360,500))"
   ]
  },
  {
   "cell_type": "markdown",
   "id": "73f07e44-9286-4356-b7a2-08ff8ce893bc",
   "metadata": {},
   "source": [
    "## Read Tesla Cell File"
   ]
  },
  {
   "cell_type": "code",
   "execution_count": 26,
   "id": "dc99c575-ec62-402c-bf50-02d818ca2a5f",
   "metadata": {},
   "outputs": [],
   "source": [
    "path2files = os.path.join(GeneralConfig.path2data.value,\"Tesla\",\"cell\")"
   ]
  },
  {
   "cell_type": "code",
   "execution_count": 27,
   "id": "a3d6a6a0-a4a0-44f2-8d76-f3eaf12f9e95",
   "metadata": {
    "tags": []
   },
   "outputs": [],
   "source": [
    "def filter_func_preprocess_U(signal):\n",
    "    perc_filter = 0.1/100 * len(signal) #% filter\n",
    "    filtered_signal = FilterMethods().rolling_mean_df(signal,window_size=FilterMethods().round_to_next_odd_number(perc_filter))\n",
    "    #filtered_signal = FilterMethods().savgol(signal,window_size=FilterMethods().round_to_next_odd_number(perc_filter/100 * len(signal)))\n",
    "    return filtered_signal"
   ]
  },
  {
   "cell_type": "code",
   "execution_count": 28,
   "id": "b125f8e3-c468-4380-aec7-cb1df12360a1",
   "metadata": {},
   "outputs": [],
   "source": [
    "def filter_func_preprocess_Q(signal):\n",
    "    perc_filter = 0.1/100 * len(signal) #% filter\n",
    "    filtered_signal = FilterMethods().rolling_mean_df(signal,window_size=FilterMethods().round_to_next_odd_number(perc_filter))\n",
    "    #filtered_signal = FilterMethods().savgol(signal,window_size=FilterMethods().round_to_next_odd_number(perc_filter/100 * len(signal)))\n",
    "    return filtered_signal"
   ]
  },
  {
   "cell_type": "code",
   "execution_count": 29,
   "id": "cb17d20a-4c59-4cbe-9141-2217d25ec84d",
   "metadata": {},
   "outputs": [],
   "source": [
    "read_pickle = ReadPickle()\n",
    "read_pickle.set_filter_U(filter_func_preprocess_U)\n",
    "read_pickle.set_filter_Q(filter_func_preprocess_Q)"
   ]
  },
  {
   "cell_type": "code",
   "execution_count": 30,
   "id": "d30e2c08-7b8a-4445-8b72-c1c1ef9ed56f",
   "metadata": {},
   "outputs": [],
   "source": [
    "df_cell_tesla =  read_pickle.read(os.path.join(path2files,\"Tesla_CATL_161Ah_LFP_20deg_C57.pkl\"))"
   ]
  },
  {
   "cell_type": "markdown",
   "id": "aa511063-45a4-4f63-a154-3c741e20ffab",
   "metadata": {},
   "source": [
    "### Tesla Cell DVA/ICA"
   ]
  },
  {
   "cell_type": "code",
   "execution_count": 31,
   "id": "4d9596af-52f4-4408-b2fd-a2b56b16cef2",
   "metadata": {},
   "outputs": [],
   "source": [
    "def filter_func(signal):\n",
    "    perc_filter = 0.5 #% filter\n",
    "    filtered_signal = FilterMethods().rolling_mean_numpy(signal,window_size=FilterMethods().round_to_next_odd_number(perc_filter/100 * len(signal)))\n",
    "    filtered_signal_reverse = FilterMethods().rolling_mean_numpy(np.flip(signal),window_size=FilterMethods().round_to_next_odd_number(perc_filter/100 * len(signal)))\n",
    "    return (filtered_signal+np.flip(filtered_signal_reverse))/2"
   ]
  },
  {
   "cell_type": "code",
   "execution_count": 32,
   "id": "e016edc6-4382-4178-b44d-1a1092900739",
   "metadata": {},
   "outputs": [],
   "source": [
    "dva_extractor = DVA()\n",
    "dva_extractor.set_filter(filter_func)\n",
    "dva_cell_tesla, cap_cell_tesla =dva_extractor.get_dva(time=df_cell_tesla[\"time_h\"], capacity=df_cell_tesla[\"Q\"], voltage=df_cell_tesla[\"U\"],crop_cap_Ah=(0,180))"
   ]
  },
  {
   "cell_type": "code",
   "execution_count": 33,
   "id": "f532662a-4d53-414a-a955-c4b5f760680a",
   "metadata": {},
   "outputs": [],
   "source": [
    "ica_extractor = ICA()\n",
    "ica_extractor.set_filter(filter_func)\n",
    "ica_cell_tesla, volt_cell_tesla =ica_extractor.get_ica(time=df_cell_tesla[\"time_h\"], capacity=df_cell_tesla[\"Q\"], voltage=df_cell_tesla[\"U\"],crop_volt_V=(2.6,3.6))"
   ]
  },
  {
   "cell_type": "markdown",
   "id": "8c19ac09-6406-480b-afe6-bb0facee1545",
   "metadata": {},
   "source": [
    "## Read Tesla Vehicle Files"
   ]
  },
  {
   "cell_type": "code",
   "execution_count": 34,
   "id": "3f74c076-efcd-44bc-9ed6-75e3a0cd6cf1",
   "metadata": {},
   "outputs": [],
   "source": [
    "path2files_tesla = os.path.join(GeneralConfig.path2data.value,\"Tesla\",\"vehicle\")"
   ]
  },
  {
   "cell_type": "code",
   "execution_count": 35,
   "id": "bfa86bbe-2000-42ac-9252-46d48c4486e3",
   "metadata": {},
   "outputs": [],
   "source": [
    "def filter_func_preprocess_v_U(signal):\n",
    "    perc_filter = 1 #% filter\n",
    "    filtered_signal = FilterMethods().rolling_mean_df(signal,window_size=FilterMethods().round_to_next_odd_number(perc_filter/100 * len(signal)))\n",
    "    #filtered_signal = FilterMethods().savgol(signal,window_size=FilterMethods().round_to_next_odd_number(perc_filter/100 * len(signal)))\n",
    "    return filtered_signal"
   ]
  },
  {
   "cell_type": "code",
   "execution_count": 36,
   "id": "5bc2da34-ef45-4348-8792-703974690ff6",
   "metadata": {},
   "outputs": [],
   "source": [
    "def filter_func_preprocess_v_Q(signal):\n",
    "    perc_filter = 1 #% filter\n",
    "    filtered_signal = FilterMethods().rolling_mean_df(signal,window_size=FilterMethods().round_to_next_odd_number(perc_filter/100 * len(signal)))\n",
    "    #filtered_signal = FilterMethods().savgol(signal,window_size=FilterMethods().round_to_next_odd_number(perc_filter/100 * len(signal)))\n",
    "    return filtered_signal"
   ]
  },
  {
   "cell_type": "code",
   "execution_count": 37,
   "id": "e6064480-abbb-4e0d-9c4a-a0c3b3cc0024",
   "metadata": {},
   "outputs": [],
   "source": [
    "read_pickle = ReadPickle()\n",
    "read_pickle.set_filter_U(filter_func_preprocess_v_U)\n",
    "read_pickle.set_filter_Q(filter_func_preprocess_v_Q)"
   ]
  },
  {
   "cell_type": "code",
   "execution_count": 38,
   "id": "ef276e82-b686-4cdc-ada6-3787ad39a70e",
   "metadata": {},
   "outputs": [],
   "source": [
    "df_tesla =  read_pickle.read(os.path.join(path2files_tesla,\"Tesla_JB_8A_CEE7_C57_2022.pkl\"))"
   ]
  },
  {
   "cell_type": "code",
   "execution_count": 39,
   "id": "0dfba715-a1ab-461a-81b6-3ff8d93f95e9",
   "metadata": {},
   "outputs": [
    {
     "data": {
      "text/plain": [
       "367.91735086952457"
      ]
     },
     "execution_count": 39,
     "metadata": {},
     "output_type": "execute_result"
    }
   ],
   "source": [
    "df_tesla[\"U\"].max()"
   ]
  },
  {
   "cell_type": "code",
   "execution_count": 40,
   "id": "91f06f7e-7ed0-475f-a3ff-d55b61894aa8",
   "metadata": {},
   "outputs": [],
   "source": [
    "def filter_func_v(signal):\n",
    "    perc_filter = 1 #% filter\n",
    "    filtered_signal = FilterMethods().rolling_mean_numpy(signal,window_size=FilterMethods().round_to_next_odd_number(perc_filter/100 * len(signal)))\n",
    "    filtered_signal_reverse = FilterMethods().rolling_mean_numpy(np.flip(signal),window_size=FilterMethods().round_to_next_odd_number(perc_filter/100 * len(signal)))\n",
    "    return (filtered_signal+np.flip(filtered_signal_reverse))/2"
   ]
  },
  {
   "cell_type": "code",
   "execution_count": 41,
   "id": "67749484-08f3-48c4-8914-b67c257c986e",
   "metadata": {},
   "outputs": [],
   "source": [
    "dva_extractor = DVA()\n",
    "dva_extractor.set_filter(filter_func_v)"
   ]
  },
  {
   "cell_type": "code",
   "execution_count": 42,
   "id": "519e050e-3304-47ee-abcf-028f310712f8",
   "metadata": {},
   "outputs": [],
   "source": [
    "dva_tesla, cap_tesla = dva_extractor.get_dva(time=df_tesla[\"time_h\"], capacity=df_tesla[\"Q\"], voltage=df_tesla[\"U\"],crop_cap_Ah=(1,180))"
   ]
  },
  {
   "cell_type": "code",
   "execution_count": 43,
   "id": "5ed56fad-8066-4bbe-a8b3-b05bd6cbc3dd",
   "metadata": {},
   "outputs": [],
   "source": [
    "deltaQ_tesla =  dva_extractor.get_Q_shift_for_lower_cut_off_voltage(df_vehicle = df_tesla, df_cell = df_cell_tesla,n_seriell=106,n_parallel=1)"
   ]
  },
  {
   "cell_type": "code",
   "execution_count": 44,
   "id": "a6a4e449-347d-482d-95a2-0dcb8e254c87",
   "metadata": {},
   "outputs": [
    {
     "data": {
      "text/plain": [
       "4.9751308972825745"
      ]
     },
     "execution_count": 44,
     "metadata": {},
     "output_type": "execute_result"
    }
   ],
   "source": [
    "deltaQ_tesla"
   ]
  },
  {
   "cell_type": "code",
   "execution_count": 45,
   "id": "7b533f3c-856b-4f23-b83e-df520a377a0b",
   "metadata": {},
   "outputs": [],
   "source": [
    "ica_extractor = ICA()\n",
    "ica_extractor.set_filter(filter_func_v)\n",
    "ica_extractor.set_post_filter(filter_func_v)\n",
    "ica_tesla, volt_tesla = ica_extractor.get_ica(time=df_tesla[\"time_h\"], capacity=df_tesla[\"Q\"], voltage=df_tesla[\"U\"],crop_volt_V=(280,390),postfilter=True,postfilter_volt_range=(350,360))"
   ]
  },
  {
   "cell_type": "markdown",
   "id": "7aa0a7bd-d02a-4818-aba1-f14a0764bfc4",
   "metadata": {},
   "source": [
    "## Plot"
   ]
  },
  {
   "cell_type": "code",
   "execution_count": 46,
   "id": "09f1cbef-63f4-46d1-ad29-9e0d1d3206af",
   "metadata": {
    "tags": []
   },
   "outputs": [],
   "source": [
    "def myround(x, prec=2, base=.05):\n",
    "    return round(base * round(float(x)/base),prec)"
   ]
  },
  {
   "cell_type": "code",
   "execution_count": 47,
   "id": "52842176-5aaa-43b7-a04e-38d63c850f12",
   "metadata": {},
   "outputs": [],
   "source": [
    "def plot_pOCV_vw(axes,\n",
    "          cap_cell, U_cell,\n",
    "          cap_vehicle, U_vehicle,\n",
    "          lst_Q_shift_factor):\n",
    "    \n",
    "    sec_ax = axes.twinx()\n",
    "    axes.set_zorder(sec_ax.get_zorder()+1)  # default zorder is 0 for ax1 and ax2\n",
    "    axes.patch.set_visible(False)  # prevents ax1 from hiding ax2\n",
    "    Q_nom = 78\n",
    "    axes.plot(cap_cell*2,U_cell*108,color = VisualizationConfig.TUMblau.value,linewidth=2) # shitty solver for gridlines overlaying secaxis\n",
    "    axes.plot(cap_vehicle+lst_Q_shift_factor,U_vehicle,color=VisualizationConfig.TUMorange.value,linewidth=2)\n",
    "    \n",
    "    axes.set_ylabel(r\"Vehicle voltage in V\",fontsize=9)\n",
    "    axes.set_xlabel(r\"Vehicle charge in Ah\",fontsize=9) \n",
    "    axes.set_xlim([0,160])\n",
    "    tick_positions = np.array([0,40,80,120,156])\n",
    "    axes.set_xticks(tick_positions)\n",
    "    axes.set_ylim([303,455])#456\n",
    "    tick_positions = np.array(list(range(303,456,38)))\n",
    "    axes.set_yticks(tick_positions)\n",
    "    axes.grid(axis='both')\n",
    "    # Minor X-axis divided into 10 parts between each X-axis major grid\n",
    "    axes.xaxis.set_minor_locator(FixedLocator([20,60,100,140]))\n",
    "    axes.set_axisbelow(True)\n",
    "    axes.tick_params('x', top=False, labeltop=False,bottom=True, labelbottom=True)\n",
    "    axes.tick_params('y', left=True, labelleft=True,right=True, labelright=False)\n",
    "    axes.tick_params(axis='x', labelsize=9)\n",
    "    axes.tick_params(axis='y', labelsize=9)\n",
    "    \n",
    "    \n",
    "    sec_ax.plot(cap_cell*2,U_cell,color = VisualizationConfig.TUMblau.value,linewidth=2)\n",
    "\n",
    "    sec_ax.set_xlim([0,160])\n",
    "    sec_ax.set_ylim([303/108,455/108])\n",
    "    tick_labels = np.array(list(range(303,456,38)))/108\n",
    "    sec_ax.set_yticks(tick_labels)\n",
    "    sec_ax.set_yticklabels([f\"{myround(label):.2f}\" for label in tick_labels])\n",
    "    sec_ax.tick_params(axis='y', labelsize=9)\n",
    "    \n",
    "    # sec_ax.tick_params('x', top=False, labeltop=False,bottom=True, labelbottom=True)\n",
    "    # sec_ax.tick_params('y', left=True, labelleft=False,right=True, labelright=True)\n",
    "    sec_ax.set_ylabel(r\"Cell voltage in V\",fontsize=9)\n",
    "    \n",
    "    # axes.get_yaxis().set_label_coords(-0.16,0.5)\n",
    "    # sec_ax.get_yaxis().set_label_coords(1.16,0.5)\n",
    "    \n",
    "    twiny = axes.twiny()\n",
    "    twiny.set_xlabel(r\"$\\bf{VW\\ ID.3\\ Pro\\ Performance}$\"+\"\\n\"+\"Cell charge in Ah\",fontsize=9) \n",
    "    twiny.set_xlim(0,80)\n",
    "    tick_positions = np.array([0,20,40,60,78])\n",
    "    twiny.set_xticks(tick_positions)\n",
    "    # Minor X-axis divided into 10 parts between each X-axis major grid\n",
    "    twiny.xaxis.set_minor_locator(FixedLocator([10,30,50,70]))\n",
    "    twiny.tick_params(axis='x', labelsize=9)\n",
    "    return axes"
   ]
  },
  {
   "cell_type": "code",
   "execution_count": 48,
   "id": "b290844d-130e-4814-9505-72a937ff96da",
   "metadata": {},
   "outputs": [],
   "source": [
    "def plot_pOCV_tesla(axes,\n",
    "          cap_cell, U_cell,\n",
    "          cap_vehicle, U_vehicle,\n",
    "          lst_Q_shift_factor):\n",
    "    \n",
    "    sec_ax = axes.twinx()\n",
    "    axes.set_zorder(sec_ax.get_zorder()+1)  # default zorder is 0 for ax1 and ax2\n",
    "    axes.patch.set_visible(False)  # prevents ax1 from hiding ax2\n",
    "    Q_nom = 161\n",
    "    axes.plot(cap_cell,U_cell*106,color = VisualizationConfig.TUMblau.value,linewidth=2)\n",
    "    axes.plot(cap_vehicle+lst_Q_shift_factor,U_vehicle,color=VisualizationConfig.TUMorange.value,linewidth=2)\n",
    "    axes.set_ylabel(r\"Vehicle voltage in V\",fontsize=9)\n",
    "    axes.set_xlabel(r\"Vehicle charge in Ah\",fontsize=9) \n",
    "    axes.set_xlim([0,166])\n",
    "    tick_positions = np.array([0,40,80,120,161])\n",
    "    axes.set_xticks(tick_positions)\n",
    "    axes.set_ylim([278,382])\n",
    "    tick_positions = np.array(list(range(278,383,26)))\n",
    "    axes.set_yticks(tick_positions)\n",
    "    axes.grid(axis='both')\n",
    "    axes.xaxis.set_minor_locator(FixedLocator([20,60,100,140]))\n",
    "    axes.set_axisbelow(True)\n",
    "    axes.tick_params('x', top=False, labeltop=False,bottom=True, labelbottom=True)\n",
    "    axes.tick_params('y', left=True, labelleft=True,right=True, labelright=False)\n",
    "    axes.tick_params(axis='x', labelsize=9)\n",
    "    axes.tick_params(axis='y', labelsize=9)\n",
    "    \n",
    "    sec_ax.plot(cap_cell,U_cell,color = VisualizationConfig.TUMblau.value,linewidth=2)\n",
    "\n",
    "    sec_ax.set_xlim([0,166])\n",
    "    sec_ax.set_ylim([278/106,382/106])\n",
    "    tick_labels = np.array(list(range(278,383,26)))/106\n",
    "    sec_ax.set_yticks(tick_labels)\n",
    "    sec_ax.set_yticklabels([f\"{myround(label):.2f}\" for label in tick_labels])\n",
    "    sec_ax.tick_params(axis='y', labelsize=9)\n",
    "    # sec_ax.tick_params('x', top=False, labeltop=False,bottom=True, labelbottom=True)\n",
    "    # sec_ax.tick_params('y', left=True, labelleft=False,right=True, labelright=True)\n",
    "    sec_ax.set_ylabel(r\"Cell voltage in V\",fontsize=9)\n",
    "    \n",
    "    # axes.get_yaxis().set_label_coords(-0.16,0.5)\n",
    "    # sec_ax.get_yaxis().set_label_coords(1.16,0.5)\n",
    "\n",
    "    twiny = axes.twiny()\n",
    "    twiny.set_xlabel(r\"$\\bf{Tesla\\ Model\\ 3\\ Standard\\ Range\\ Plus}$\"+\"\\n\"+\"Cell charge in Ah\",fontsize=9) \n",
    "    twiny.set_xlim(0,166)\n",
    "    tick_positions = np.array([0,40,80,120,161])\n",
    "    twiny.set_xticks(tick_positions)\n",
    "    twiny.xaxis.set_minor_locator(FixedLocator([20,60,100,140]))\n",
    "    twiny.tick_params(axis='x', labelsize=9)\n",
    "    return axes"
   ]
  },
  {
   "cell_type": "code",
   "execution_count": 49,
   "id": "1e1b34d2-86ba-476e-bab2-93cdbfd7c5f3",
   "metadata": {},
   "outputs": [],
   "source": [
    "def plot_dva_vw(axes,\n",
    "                  cap_cell, dva_cell,\n",
    "                  cap_v, dva_v,\n",
    "                  shift_factor):\n",
    "\n",
    "    sec_ax = axes.twinx()\n",
    "    axes.set_zorder(sec_ax.get_zorder()+1)  # default zorder is 0 for ax1 and ax2\n",
    "    axes.patch.set_visible(False)  # prevents ax1 from hiding ax2\n",
    "    Q_nom = 78\n",
    "    axes.plot(2*cap_cell,dva_cell*Q_nom*108,color=VisualizationConfig.TUMblau.value)\n",
    "    axes.plot(cap_v+shift_factor,dva_v*Q_nom*2,color=VisualizationConfig.TUMorange.value)\n",
    "\n",
    "    axes.set_ylabel(r\"$Q_{veh.}\\cdot \\frac{dU_{veh.}}{dQ_{veh.}}$ in V\",fontsize=9)\n",
    "    axes.set_xlabel(r\"Vehicle charge in Ah\",fontsize=9) \n",
    "    axes.set_xlim([0,160])\n",
    "    axes.set_ylim([0,216])\n",
    "    tick_positions =np.array([0,54,108,162,216])\n",
    "    axes.set_yticks(tick_positions)\n",
    "    tick_positions = np.array([0,40,80,120,156])\n",
    "    axes.set_xticks(tick_positions)\n",
    "    axes.grid(axis='both')\n",
    "    axes.xaxis.set_minor_locator(FixedLocator([20,60,100,140]))\n",
    "    axes.set_axisbelow(True)\n",
    "    axes.tick_params('x', top=False, labeltop=False,bottom=True, labelbottom=True)\n",
    "    axes.tick_params('y', left=True, labelleft=True,right=True, labelright=False)\n",
    "    axes.tick_params(axis='x', labelsize=9)\n",
    "    axes.tick_params(axis='y', labelsize=9)\n",
    "    \n",
    "    sec_ax.plot(2*cap_cell,dva_cell*Q_nom,color=VisualizationConfig.TUMblau.value)\n",
    "    sec_ax.set_xlim([0,160])\n",
    "    sec_ax.set_ylim([0,216/108])\n",
    " \n",
    "    tick_positions =np.array([0,40,80,120,156])\n",
    "    sec_ax.set_xticks(tick_positions)\n",
    "    \n",
    "    sec_ax.tick_params('x', top=False, labeltop=False,bottom=True, labelbottom=True)\n",
    "    \n",
    "    sec_ax.tick_params('y', left=True, labelleft=False,right=True, labelright=True)\n",
    "    sec_ax.set_ylabel(r\"$Q_{cell}\\cdot \\frac{dU_{cell}}{dQ_{cell}}$ in V\",fontsize=9)\n",
    "    tick_labels = np.array([0,54,108,162,216])/108\n",
    "    sec_ax.set_yticks(tick_labels)\n",
    "    #sec_ax.set_yticklabels([f\"{label:.2f}\" for label in tick_labels])\n",
    "    sec_ax.set_yticklabels([\"0\",\"0.50\",\"1.00\",\"1.50\",\"2.00\"])\n",
    "    sec_ax.tick_params(axis='y', labelsize=9)\n",
    "    \n",
    "    # axes.get_yaxis().set_label_coords(-0.16,0.5)\n",
    "    # sec_ax.get_yaxis().set_label_coords(1.16,0.5)\n",
    "    \n",
    "    twiny = axes.twiny()\n",
    "    twiny.set_xlabel(r\"Cell charge in Ah\",fontsize=9) \n",
    "    twiny.set_xlim(0,80)\n",
    "    tick_positions = np.array([0,20,40,60,78])\n",
    "    twiny.set_xticks(tick_positions)\n",
    "    # Minor X-axis divided into 10 parts between each X-axis major grid\n",
    "    twiny.xaxis.set_minor_locator(FixedLocator([10,30,50,70]))\n",
    "    twiny.tick_params(axis='x', labelsize=9)\n",
    " \n",
    "    return axes"
   ]
  },
  {
   "cell_type": "code",
   "execution_count": 50,
   "id": "82df4835-1caa-4399-bcee-d43e70df4d33",
   "metadata": {},
   "outputs": [],
   "source": [
    "def plot_dva_tesla(axes,\n",
    "                  cap_cell, dva_cell,\n",
    "                  cap_v, dva_v,\n",
    "                  shift_factor):\n",
    "\n",
    "    sec_ax = axes.twinx()\n",
    "    axes.set_zorder(sec_ax.get_zorder()+1)  # default zorder is 0 for ax1 and ax2\n",
    "    axes.patch.set_visible(False)  # prevents ax1 from hiding ax2\n",
    "    Q_nom = 161\n",
    "    axes.plot(cap_cell,dva_cell*Q_nom*106,color=VisualizationConfig.TUMblau.value)\n",
    "    axes.plot(cap_v+shift_factor,dva_v*Q_nom,color=VisualizationConfig.TUMorange.value)\n",
    "\n",
    "    axes.set_ylabel(r\"$Q_{veh.}\\cdot \\frac{dU_{veh.}}{dQ_{veh.}}$ in V\",fontsize=9)\n",
    "    axes.set_xlabel(r\"Vehicle charge in Ah\",fontsize=9) \n",
    "    axes.set_xlim([0,166])\n",
    "    axes.set_ylim([0,106])\n",
    "    tick_positions =np.array([0,27,54,81,106])\n",
    "    axes.set_yticks(tick_positions)\n",
    "    tick_positions = np.array([0,40,80,120,161])\n",
    "    axes.set_xticks(tick_positions)\n",
    "    axes.grid(axis='both')\n",
    "    axes.set_axisbelow(True)\n",
    "    axes.xaxis.set_minor_locator(FixedLocator([20,60,100,140]))\n",
    "    axes.tick_params('x', top=False, labeltop=False,bottom=True, labelbottom=True)\n",
    "    axes.tick_params('y', left=True, labelleft=True,right=True, labelright=False)\n",
    "    axes.tick_params(axis='x', labelsize=9)\n",
    "    axes.tick_params(axis='y', labelsize=9)\n",
    "    \n",
    "    sec_ax.plot(cap_cell,dva_cell*Q_nom,color=VisualizationConfig.TUMblau.value)\n",
    "    sec_ax.set_xlim([0,166])\n",
    "    sec_ax.set_ylim([0,106/106])\n",
    " \n",
    "    tick_positions = np.array([0,40,80,120,161])\n",
    "    sec_ax.set_xticks(tick_positions)\n",
    "    \n",
    "    sec_ax.tick_params('x', top=False, labeltop=False,bottom=True, labelbottom=True)\n",
    " \n",
    "    sec_ax.tick_params('y', left=True, labelleft=False,right=True, labelright=True)\n",
    "    sec_ax.set_ylabel(r\"$Q_{cell}\\cdot \\frac{dU_{cell}}{dQ_{cell}}$ in V\",fontsize=9)\n",
    "    tick_labels = np.array([0,27,54,81,106])/106\n",
    "    sec_ax.set_yticks(tick_labels)\n",
    "    #sec_ax.set_yticklabels([f\"{round(label):.2f}\" for label in tick_labels])\n",
    "    sec_ax.set_yticklabels([\"0\",\"0.25\",\"0.50\",\"0.75\",\"1.00\"])\n",
    "    sec_ax.tick_params(axis='y', labelsize=9)\n",
    "    \n",
    "    # axes.get_yaxis().set_label_coords(-0.16,0.5)\n",
    "    # sec_ax.get_yaxis().set_label_coords(1.16,0.5)\n",
    "    \n",
    "    twiny = axes.twiny()\n",
    "    twiny.set_xlabel(r\"Cell charge in Ah\",fontsize=9) \n",
    "    twiny.set_xlim(0,166)\n",
    "    tick_positions = np.array([0,40,80,120,161])\n",
    "    twiny.set_xticks(tick_positions)\n",
    "    twiny.xaxis.set_minor_locator(FixedLocator([20,60,100,140]))\n",
    "    twiny.tick_params(axis='x', labelsize=9)\n",
    "    return axes"
   ]
  },
  {
   "cell_type": "code",
   "execution_count": 51,
   "id": "25b0b563-9682-427e-960f-e593ff19cfb6",
   "metadata": {},
   "outputs": [],
   "source": [
    "def plot_ica_vw(axes,\n",
    "                  volt_cell, ica_cell,\n",
    "                  volt_v, ica_v):\n",
    "\n",
    "    sec_ax = axes.twinx()\n",
    "    axes.set_zorder(sec_ax.get_zorder()+1)  # default zorder is 0 for ax1 and ax2\n",
    "    axes.patch.set_visible(False)  # prevents ax1 from hiding ax2\n",
    "    \n",
    "    axes.plot(volt_cell*108,ica_cell/108*2,color=VisualizationConfig.TUMblau.value)\n",
    "    axes.plot(volt_v,ica_v,color=VisualizationConfig.TUMorange.value)\n",
    "\n",
    "    axes.set_ylabel(r\"$\\frac{dQ_{veh.}}{dU_{veh.}}$ in $\\frac{Ah}{V}$\",fontsize=9)\n",
    "    axes.set_xlabel(r\"Vehicle voltage in V\",fontsize=9) \n",
    "    axes.set_xlim([360,450])\n",
    "    axes.set_ylim([0,5])\n",
    "    tick_positions =np.array([0,1,2,3,4,5])\n",
    "    axes.set_yticks(tick_positions)\n",
    "    tick_positions = np.array(list(range(360,451,18)))\n",
    "    axes.set_xticks(tick_positions)\n",
    "    axes.grid(axis='both')\n",
    "    #axes.xaxis.set_minor_locator(FixedLocator([20,60,100,140]))\n",
    "    axes.set_axisbelow(True)\n",
    "    axes.tick_params('x', top=False, labeltop=False,bottom=True, labelbottom=True)\n",
    "    axes.tick_params('y', left=True, labelleft=True,right=True, labelright=False)\n",
    "    axes.tick_params(axis='x', labelsize=9)\n",
    "    axes.tick_params(axis='y', labelsize=9)\n",
    "    \n",
    "    sec_ax.plot(volt_cell*108,ica_cell,color=VisualizationConfig.TUMblau.value)\n",
    "    sec_ax.set_xlim([360,450])\n",
    "    sec_ax.set_ylim([0,5*108/2])\n",
    " \n",
    "    tick_positions = np.array(list(range(360,451,18)))\n",
    "    sec_ax.set_xticks(tick_positions)\n",
    "    \n",
    "    sec_ax.tick_params('x', top=False, labeltop=False,bottom=True, labelbottom=True)\n",
    "    \n",
    "    sec_ax.tick_params('y', left=True, labelleft=False,right=True, labelright=True)\n",
    "    sec_ax.set_ylabel(r\"$\\frac{dQ_{cell}}{dU_{cell}}$ in $\\frac{Ah}{V}$\",fontsize=9)\n",
    "    tick_labels = np.array([0,1,2,3,4,5])*108/2\n",
    "    sec_ax.set_yticks(tick_labels)\n",
    "    #sec_ax.set_yticklabels([f\"${label:.2f}$\" for label in tick_labels])\n",
    "    sec_ax.tick_params(axis='y', labelsize=9)\n",
    "    \n",
    "    # axes.get_yaxis().set_label_coords(-0.16,0.5)\n",
    "    # sec_ax.get_yaxis().set_label_coords(1.16,0.5)\n",
    "    \n",
    "    twiny = axes.twiny()\n",
    "    twiny.set_xlabel(r\"Cell voltage in V\",fontsize=9) \n",
    "    twiny.set_xlim([360/108,450/108])\n",
    "    tick_positions = np.array(list(range(360,451,18)))/108\n",
    "    twiny.set_xticks(tick_positions)\n",
    "    twiny.set_xticklabels([f\"{myround(label):.2f}\" for label in tick_positions])\n",
    "    # Minor X-axis divided into 10 parts between each X-axis major grid\n",
    "    #twiny.xaxis.set_minor_locator(FixedLocator([10,30,50,70]))\n",
    "    twiny.tick_params(axis='x', labelsize=9)\n",
    " \n",
    "    return axes"
   ]
  },
  {
   "cell_type": "code",
   "execution_count": 52,
   "id": "8889066d-5957-4770-8d47-c64093395d8d",
   "metadata": {},
   "outputs": [],
   "source": [
    "def plot_ica_tesla(axes,\n",
    "                  volt_cell, ica_cell,\n",
    "                  volt_v, ica_v):\n",
    "\n",
    "    sec_ax = axes.twinx()\n",
    "    axes.set_zorder(sec_ax.get_zorder()+1)  # default zorder is 0 for ax1 and ax2\n",
    "    axes.patch.set_visible(False)  # prevents ax1 from hiding ax2\n",
    "    axes.plot(volt_cell*106,ica_cell/106,color=VisualizationConfig.TUMblau.value)\n",
    "    axes.plot(volt_v,ica_v,color=VisualizationConfig.TUMorange.value)\n",
    "    \n",
    "    axes.set_ylabel(r\"$\\frac{dQ_{veh.}}{dU_{veh.}}$ in $\\frac{Ah}{V}$\",fontsize=9)\n",
    "    axes.set_xlabel(r\"Vehicle voltage in V\",fontsize=9) \n",
    "    axes.set_xlim([340,360])\n",
    "    axes.set_ylim([0,200])\n",
    "    tick_positions =np.array([0,50,100,150,200])\n",
    "    axes.set_yticks(tick_positions)\n",
    "    tick_positions = np.array(list(range(340,361,5)))#np.array([330,356,382])\n",
    "    axes.set_xticks(tick_positions)\n",
    "    axes.grid(axis='both')\n",
    "    #axes.xaxis.set_minor_locator(FixedLocator([20,60,100,140]))\n",
    "    axes.set_axisbelow(True)\n",
    "    axes.tick_params('x', top=False, labeltop=False,bottom=True, labelbottom=True)\n",
    "    axes.tick_params('y', left=True, labelleft=True,right=True, labelright=False)\n",
    "    axes.tick_params(axis='x', labelsize=9)\n",
    "    axes.tick_params(axis='y', labelsize=9)\n",
    "    \n",
    "    sec_ax.plot(volt_cell*106,ica_cell,color=VisualizationConfig.TUMblau.value)\n",
    "    sec_ax.set_xlim([340,360])\n",
    "    sec_ax.set_ylim([0,200*106])\n",
    " \n",
    "    tick_positions =np.array(list(range(340,361,5)))# np.array([330,356,382])\n",
    "    sec_ax.set_xticks(tick_positions)\n",
    "    \n",
    "    sec_ax.tick_params('x', top=False, labeltop=False,bottom=True, labelbottom=True)\n",
    "    \n",
    "    sec_ax.tick_params('y', left=True, labelleft=False,right=True, labelright=True)\n",
    "    sec_ax.set_ylabel(r\"$\\frac{dQ_{cell}}{dU_{cell}}$ in $\\frac{Ah}{V}$\",fontsize=9)\n",
    "    tick_labels = np.array([0,50,100,150,200])*106\n",
    "    sec_ax.set_yticks(tick_labels)\n",
    "    #sec_ax.ticklabel_format(axis='y', style='scientific', scilimits=(0,3), useOffset=None, useLocale=None, useMathText=None)\n",
    "    #sec_ax.set_yticklabels([f\"${label:.2f}$\" for label in tick_labels])\n",
    "    sec_ax.tick_params(axis='y', labelsize=9)\n",
    "    \n",
    "    # axes.get_yaxis().set_label_coords(-0.16,0.5)\n",
    "    # sec_ax.get_yaxis().set_label_coords(1.16,0.5)\n",
    "    \n",
    "    twiny = axes.twiny()\n",
    "    twiny.set_xlabel(r\"Cell voltage in V\",fontsize=9) \n",
    "    twiny.set_xlim([340/106,360/106])\n",
    "    tick_positions = np.array(list(range(340,361,5)))/106#np.array([330,356,382])/106\n",
    "    twiny.set_xticks(tick_positions)\n",
    "    twiny.set_xticklabels([f\"{myround(label):.2f}\" for label in tick_positions])\n",
    "    # Minor X-axis divided into 10 parts between each X-axis major grid\n",
    "    #twiny.xaxis.set_minor_locator(FixedLocator([10,30,50,70]))\n",
    "    twiny.tick_params(axis='x', labelsize=9)\n",
    "    \n",
    "    \n",
    "    # inset axes left\n",
    "    axins = axes.inset_axes([341.5, 55, 7,90],transform = axes.transData) # [x0, y0, width, height]\n",
    "    axins.plot(volt_v,ica_v,color=VisualizationConfig.TUMorange.value)\n",
    "    axins.plot(volt_cell*106,ica_cell/106,color=VisualizationConfig.TUMblau.value)\n",
    "    #axins.annotate(text='A', xy=(342,125), xytext=(342,125),fontsize=9,zorder=5,transform = axes.transData) \n",
    "    handles, labels =axins.get_legend_handles_labels()  \n",
    "    axins.legend(handles=handles,loc=\"center\",fontsize=9,ncols=1,handletextpad=0,title=\"A\",\n",
    "                 bbox_to_anchor=(342.2,125),  bbox_transform=axes.transData,\n",
    "            framealpha =1 , fancybox=False,labelspacing=0,columnspacing=0,edgecolor=\"none\",facecolor=\"none\")\n",
    "    # subregion of the original image\n",
    "    x1, x2, y1, y2 = 342, 344,1,20\n",
    "    axins.set_xlim(x1, x2)\n",
    "    axins.set_ylim(y1, y2)\n",
    "    axins.set_xticklabels([])\n",
    "    axins.set_yticklabels([])\n",
    "    axins.set_xticks([])\n",
    "    axins.set_yticks([])\n",
    "    #axins.grid()\n",
    "    axes.indicate_inset_zoom(axins, edgecolor=\"black\")\n",
    " \n",
    "    return axes"
   ]
  },
  {
   "cell_type": "code",
   "execution_count": 53,
   "id": "df1cbea9-e5f8-449d-8132-1bb2e841a8a7",
   "metadata": {},
   "outputs": [],
   "source": [
    "def add_FOI_DVA_VW(axes):\n",
    "        #stages\n",
    "    axes.annotate(text='4L', xy=(12*2,1.152*108), xytext=(7*2,1.6*108-5),fontsize=9,verticalalignment=\"bottom\",\n",
    "                      arrowprops=dict(arrowstyle='-', shrinkA=0, shrinkB=0,facecolor=\"k\", mutation_scale=20))\n",
    "    axes.annotate(text='3L', xy=(16*2,1.15*108), xytext=(15*2,1.6*108-5),fontsize=9,verticalalignment=\"bottom\",\n",
    "                      arrowprops=dict(arrowstyle='-', shrinkA=0, shrinkB=0,facecolor=\"k\", mutation_scale=20))\n",
    "    axes.annotate(text='2L', xy=(20*2,0.95*108), xytext=(23*2+4,1.2*108-5),fontsize=9,\n",
    "                      arrowprops=dict(arrowstyle='-', shrinkA=0, shrinkB=0,facecolor=\"k\", mutation_scale=20))\n",
    "    axes.annotate(text='stage 2', xy=(47*2-2,1.5*108-18), xytext=(30.5*2-3,1.7*108-5),fontsize=9,verticalalignment=\"bottom\",\n",
    "                      arrowprops=dict(arrowstyle='-', shrinkA=0, shrinkB=0,facecolor=\"k\", mutation_scale=20))             \n",
    "    #axes.annotate(text='H1', xy=(7.8*2,0.33*108+10), xytext=(13*2,0.05*108+5),fontsize=9,\n",
    "    #               arrowprops=dict(arrowstyle='-', shrinkA=0, shrinkB=0,facecolor=\"k\", mutation_scale=20))                 \n",
    "    axes.annotate(text='H2', xy=(70*2,1.0*108), xytext=(72*2,0.55*108),fontsize=9,\n",
    "                      arrowprops=dict(arrowstyle='-', shrinkA=0, shrinkB=0,facecolor=\"k\", mutation_scale=20))\n",
    "    return axes"
   ]
  },
  {
   "cell_type": "code",
   "execution_count": 54,
   "id": "b1014a54-137f-445c-b590-bc3666425706",
   "metadata": {},
   "outputs": [],
   "source": [
    "def add_FOI_ICA_VW(axes):\n",
    "    axes.annotate(text='A', xy=(371.5,2.85), xytext=(363,3.3),fontsize=9,\n",
    "                      arrowprops=dict(arrowstyle='-', shrinkA=0, shrinkB=0,facecolor=\"k\", mutation_scale=20))   \n",
    "    \n",
    "    axes.annotate(text='B', xy=(395,4.5), xytext=(403,4.1),fontsize=9,\n",
    "                      arrowprops=dict(arrowstyle='-', shrinkA=0, shrinkB=0,facecolor=\"k\", mutation_scale=20))\n",
    "    \n",
    "    axes.annotate(text='C', xy=(405,0.95), xytext=(397,0.25),fontsize=9,\n",
    "                      arrowprops=dict(arrowstyle='-', shrinkA=0, shrinkB=0,facecolor=\"k\", mutation_scale=20))\n",
    "    \n",
    "    axes.annotate(text='D', xy=(440,1.5), xytext=(444.5,2.3),fontsize=9,\n",
    "                      arrowprops=dict(arrowstyle='-', shrinkA=0, shrinkB=0,facecolor=\"k\", mutation_scale=20))\n",
    "    return axes"
   ]
  },
  {
   "cell_type": "code",
   "execution_count": 55,
   "id": "38ed964c-2024-45ed-b037-4c1ded10b69b",
   "metadata": {},
   "outputs": [],
   "source": [
    "def add_FOI_DVA_T(axes):\n",
    "        #stages\n",
    "    axes.annotate(text='4L', xy=(22,75), xytext=(14,87),fontsize=9,verticalalignment=\"bottom\",\n",
    "                      arrowprops=dict(arrowstyle='-', shrinkA=0, shrinkB=0,facecolor=\"k\", mutation_scale=20))\n",
    "    axes.annotate(text='3L', xy=(38.5,56), xytext=(47,57),fontsize=9,verticalalignment=\"bottom\",\n",
    "                      arrowprops=dict(arrowstyle='-', shrinkA=0, shrinkB=0,facecolor=\"k\", mutation_scale=20))\n",
    "    axes.annotate(text='2L', xy=(47,28), xytext=(55,34),fontsize=9,\n",
    "                      arrowprops=dict(arrowstyle='-', shrinkA=0, shrinkB=0,facecolor=\"k\", mutation_scale=20))\n",
    "    axes.annotate(text='stage 2', xy=(100,66), xytext=(82,85),fontsize=9,verticalalignment=\"bottom\",\n",
    "                      arrowprops=dict(arrowstyle='-', shrinkA=0, shrinkB=0,facecolor=\"k\", mutation_scale=20))             \n",
    "    return axes"
   ]
  },
  {
   "cell_type": "code",
   "execution_count": 56,
   "id": "c552b2a5-2b1a-495f-a1af-84a8aeef6879",
   "metadata": {},
   "outputs": [],
   "source": [
    "def add_FOI_ICA_T(axes): \n",
    "    # A is annotated in the axins\n",
    "    axes.annotate(text='B', xy=(352.4,53), xytext=(353.5,70),fontsize=9,\n",
    "                      arrowprops=dict(arrowstyle='-', shrinkA=0, shrinkB=0,facecolor=\"k\", mutation_scale=20))\n",
    "    \n",
    "    axes.annotate(text='C', xy=(356.5,190), xytext=(358,160),fontsize=9,\n",
    "                      arrowprops=dict(arrowstyle='-', shrinkA=0, shrinkB=0,facecolor=\"k\", mutation_scale=20))\n",
    "    return axes"
   ]
  },
  {
   "cell_type": "code",
   "execution_count": 57,
   "id": "e32043a2-63bf-4106-98e3-a7ad7e00bc66",
   "metadata": {},
   "outputs": [
    {
     "data": {
      "image/png": "[encoded data removed]",
      "text/plain": [
       "<Figure size 684.386x531.496 with 18 Axes>"
      ]
     },
     "metadata": {},
     "output_type": "display_data"
    }
   ],
   "source": [
    "nrows = 2\n",
    "heigth = 4.5 #cm\n",
    "fig, axes= plt.subplots(3,2,\n",
    "                        figsize=(VisualizationConfig.textwidth_in_in.value,\n",
    "                                3 * cm2inch(heigth)))\n",
    "\n",
    "axes[0][0] = plot_pOCV_vw(axes[0][0],\n",
    "          cap_cell = df_cell_vw[\"Q\"], U_cell = df_cell_vw[\"U\"],\n",
    "          cap_vehicle = df_vw[\"Q\"], U_vehicle  = df_vw[\"U\"],\n",
    "          lst_Q_shift_factor = deltaQ_vw)\n",
    "\n",
    "axes[0][1] = plot_pOCV_tesla(axes[0][1],\n",
    "          cap_cell = df_cell_tesla[\"Q\"], U_cell = df_cell_tesla[\"U\"],\n",
    "          cap_vehicle = df_tesla[\"Q\"], U_vehicle  = df_tesla[\"U\"],\n",
    "          lst_Q_shift_factor = deltaQ_tesla)\n",
    "\n",
    "\n",
    "axes[1][0] = plot_dva_vw(axes = axes[1][0],\n",
    "                  cap_cell = cap_cell_vw, dva_cell = dva_cell_vw,\n",
    "                  cap_v = cap_vw, dva_v=dva_vw,\n",
    "                  shift_factor = deltaQ_vw)\n",
    "\n",
    "axes[1][1] = plot_dva_tesla(axes = axes[1][1],\n",
    "                  cap_cell = cap_cell_tesla, dva_cell = dva_cell_tesla,\n",
    "                  cap_v = cap_tesla, dva_v=dva_tesla,\n",
    "                  shift_factor = deltaQ_tesla)\n",
    "\n",
    "\n",
    "axes[2][0] = plot_ica_vw(axes[2][0],\n",
    "                  volt_cell = volt_cell_vw, ica_cell = ica_cell_vw,\n",
    "                  volt_v = volt_vw , ica_v = ica_vw)\n",
    "\n",
    "axes[2][1] = plot_ica_tesla(axes[2][1],\n",
    "                  volt_cell = volt_cell_tesla, ica_cell = ica_cell_tesla,\n",
    "                  volt_v = volt_tesla , ica_v = ica_tesla)\n",
    "\n",
    "# annotations\n",
    "axes[1][0] = add_FOI_DVA_VW(axes[1][0])\n",
    "axes[2][0] = add_FOI_ICA_VW(axes[2][0])\n",
    "\n",
    "axes[1][1] = add_FOI_DVA_T(axes[1][1])\n",
    "axes[2][1] = add_FOI_ICA_T(axes[2][1])\n",
    "# legend\n",
    "handles, labels =axes[1][0].get_legend_handles_labels()  \n",
    "line2 = plt.hlines(0,0,1,label=r'Cell', color=VisualizationConfig.TUMblau.value)\n",
    "line3 = plt.hlines(0,0,1,label=r'Vehicle',color=VisualizationConfig.TUMorange.value)\n",
    "# add manual symbols to auto legend\n",
    "handles.extend([line2, line3])\n",
    "fig.legend(handles=handles,loc=\"center\",fontsize=9,ncols=1,handletextpad=0.4,\n",
    "            framealpha =1 , fancybox=False,labelspacing=0.5,columnspacing=0.7,edgecolor=\"black\",bbox_to_anchor=(0.48,0.96))\n",
    "plt.tight_layout()\n",
    "\n",
    "axes[0][0].text(-0.15, 1.3, 'a)', horizontalalignment='left',fontsize=9,\n",
    "     verticalalignment='center', transform=axes[0][0].transAxes)\n",
    "axes[0][1].text(-0.15, 1.3, r'b)', horizontalalignment='left',fontsize=9,\n",
    "     verticalalignment='center', transform=axes[0][1].transAxes)\n",
    "axes[1][0].text(-0.15, 1.3, r'c)', horizontalalignment='left',fontsize=9,\n",
    "     verticalalignment='center', transform=axes[1][0].transAxes)\n",
    "axes[1][1].text(-0.15, 1.3, r'd)', horizontalalignment='left',fontsize=9,\n",
    "     verticalalignment='center', transform=axes[1][1].transAxes)\n",
    "axes[2][0].text(-0.15, 1.3, r'e)', horizontalalignment='left',fontsize=9,\n",
    "     verticalalignment='center', transform=axes[2][0].transAxes)\n",
    "axes[2][1].text(-0.15, 1.3, r'f)', horizontalalignment='left',fontsize=9,\n",
    "     verticalalignment='center', transform=axes[2][1].transAxes)\n",
    "fig.savefig(os.path.join(GeneralConfig.path2figures.value,\"04-POCV_DVA_ICA_VW_Tesla.pdf\")) \n",
    "fig.savefig(os.path.join(GeneralConfig.path2figures.value,\"04-POCV_DVA_ICA_VW_Tesla.png\"),dpi=300, pad_inches = 0) "
   ]
  },
  {
   "cell_type": "code",
   "execution_count": null,
   "id": "ddb11cfa-b1ca-4e10-ae59-0885d0aa39e3",
   "metadata": {},
   "outputs": [],
   "source": []
  }
 ],
 "metadata": {
  "kernelspec": {
   "display_name": "Python 3 (ipykernel)",
   "language": "python",
   "name": "python3"
  },
  "language_info": {
   "codemirror_mode": {
    "name": "ipython",
    "version": 3
   },
   "file_extension": ".py",
   "mimetype": "text/x-python",
   "name": "python",
   "nbconvert_exporter": "python",
   "pygments_lexer": "ipython3",
   "version": "3.11.9"
  }
 },
 "nbformat": 4,
 "nbformat_minor": 5
}
