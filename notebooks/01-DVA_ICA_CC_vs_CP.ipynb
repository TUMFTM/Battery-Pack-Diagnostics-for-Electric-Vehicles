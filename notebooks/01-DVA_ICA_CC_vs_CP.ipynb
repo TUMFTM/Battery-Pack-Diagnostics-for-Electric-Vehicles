{
 "cells": [
  {
   "cell_type": "markdown",
   "id": "cc54ebd5-6b14-4b2e-a0ff-1dca64f10e60",
   "metadata": {},
   "source": [
    "# CC vs CP\n",
    "## How do these charging paradigms change the DVA and ICA on cell level"
   ]
  },
  {
   "cell_type": "code",
   "execution_count": 1,
   "id": "e678909b-dac7-4fb6-891b-16dca863c292",
   "metadata": {},
   "outputs": [],
   "source": [
    "import os\n",
    "import sys\n",
    "import math\n",
    "sys.path.append(os.path.join(os.getcwd().partition('Code')[0], \"Code\"))\n",
    "from src.config_base import GeneralConfig"
   ]
  },
  {
   "cell_type": "code",
   "execution_count": 2,
   "id": "0771252b-02cb-48dd-ac73-2d2006e5ae9d",
   "metadata": {},
   "outputs": [],
   "source": [
    "import pandas as pd\n",
    "import numpy as np\n",
    "import matplotlib.pyplot as plt\n",
    "import matplotlib.ticker as ticker\n",
    "from matplotlib.ticker import FormatStrFormatter\n",
    "import matplotlib.gridspec as gridspec\n",
    "from matplotlib.ticker import AutoMinorLocator, FixedLocator"
   ]
  },
  {
   "cell_type": "code",
   "execution_count": 3,
   "id": "5d1e3c60-9aec-4877-a269-0f4d0887fd07",
   "metadata": {},
   "outputs": [],
   "source": [
    "from src.data.read_pickle import ReadPickle\n",
    "from src.filtering.filter_methods import FilterMethods\n",
    "from src.voltage_capacity_analysis.ica import ICA\n",
    "from src.voltage_capacity_analysis.dva import DVA\n",
    "from src.visualization.config_visualization import VisualizationConfig, instantiate_matplotlib_parameters, cm2inch\n",
    "instantiate_matplotlib_parameters()\n",
    "from src.visualization.colormaps import ColorMaps"
   ]
  },
  {
   "cell_type": "code",
   "execution_count": 4,
   "id": "87951398-4830-46a0-bfdc-3483a4e1e85b",
   "metadata": {},
   "outputs": [
    {
     "data": {
      "image/png": "[encoded data removed]",
      "text/html": [
       "<div style=\"vertical-align: middle;\"><strong>tum_orange</strong> </div><div class=\"cmap\"><img alt=\"tum_orange colormap\" title=\"tum_orange\" style=\"border: 1px solid #555;\" src=\"data:image/png;base64,iVBORw0KGgoAAAANSUhEUgAAAgAAAABACAYAAABsv8+/AAAAGXRFWHRUaXRsZQB0dW1fb3JhbmdlIGNvbG9ybWFwixbW5QAAAB90RVh0RGVzY3JpcHRpb24AdHVtX29yYW5nZSBjb2xvcm1hcPE+F6sAAAAwdEVYdEF1dGhvcgBNYXRwbG90bGliIHYzLjguNCwgaHR0cHM6Ly9tYXRwbG90bGliLm9yZ2TOsrQAAAAydEVYdFNvZnR3YXJlAE1hdHBsb3RsaWIgdjMuOC40LCBodHRwczovL21hdHBsb3RsaWIub3JnSmgtkwAAAYpJREFUeJzt1kFugzAUQEHco/SIvXIP0myyqaMohRBo9GY2ETICI39Fb3x/ff4sv4zrz5iuV67f3LdM1xvf8/A5G9f3es68fvc799rvk+/Zer6rz3+n99z7joPndTxY331eT5+jlft42fkfNa/LdP2qef3j+unnv22/49k5erf/q/8+R9P6xwIA5AgAAAgSAAAQJAAAIEgAAECQAACAIAEAAEECAACCBAAABAkAAAgSAAAQJAAAIEgAAECQAACAIAEAAEECAACCBAAABAkAAAgSAAAQJAAAIEgAAECQAACAIAEAAEECAACCBAAABAkAAAgSAAAQJAAAIEgAAECQAACAIAEAAEECAACCBAAABAkAAAgSAAAQJAAAIEgAAECQAACAIAEAAEECAACCBAAABAkAAAgSAAAQJAAAIEgAAECQAACAIAEAAEECAACCBAAABAkAAAgSAAAQJAAAIEgAAECQAACAIAEAAEECAACCBAAABAkAAAgSAAAQJAAAIEgAAECQAACAIAEAAEEXgqwELiXJxakAAAAASUVORK5CYII=\"></div><div style=\"vertical-align: middle; max-width: 514px; display: flex; justify-content: space-between;\"><div style=\"float: left;\"><div title=\"#e37222ff\" style=\"display: inline-block; width: 1em; height: 1em; margin: 0; vertical-align: middle; border: 1px solid #555; background-color: #e37222ff;\"></div> under</div><div style=\"margin: 0 auto; display: inline-block;\">bad <div title=\"#00000000\" style=\"display: inline-block; width: 1em; height: 1em; margin: 0; vertical-align: middle; border: 1px solid #555; background-color: #00000000;\"></div></div><div style=\"float: right;\">over <div title=\"#e6e6e6ff\" style=\"display: inline-block; width: 1em; height: 1em; margin: 0; vertical-align: middle; border: 1px solid #555; background-color: #e6e6e6ff;\"></div></div>"
      ],
      "text/plain": [
       "<matplotlib.colors.ListedColormap at 0x273a4129990>"
      ]
     },
     "execution_count": 4,
     "metadata": {},
     "output_type": "execute_result"
    }
   ],
   "source": [
    "tum_orange_cmap = ColorMaps.orange_tum()\n",
    "orange_colors = tum_orange_cmap(np.linspace(0,1, 10))\n",
    "tum_orange_cmap"
   ]
  },
  {
   "cell_type": "code",
   "execution_count": 5,
   "id": "0cacc1cd-6902-4222-858a-0715e9cfd3bb",
   "metadata": {},
   "outputs": [
    {
     "data": {
      "image/png": "[encoded data removed]",
      "text/html": [
       "<div style=\"vertical-align: middle;\"><strong>tum_blue</strong> </div><div class=\"cmap\"><img alt=\"tum_blue colormap\" title=\"tum_blue\" style=\"border: 1px solid #555;\" src=\"data:image/png;base64,iVBORw0KGgoAAAANSUhEUgAAAgAAAABACAYAAABsv8+/AAAAF3RFWHRUaXRsZQB0dW1fYmx1ZSBjb2xvcm1hcKbbBgQAAAAddEVYdERlc2NyaXB0aW9uAHR1bV9ibHVlIGNvbG9ybWFwj6XhLQAAADB0RVh0QXV0aG9yAE1hdHBsb3RsaWIgdjMuOC40LCBodHRwczovL21hdHBsb3RsaWIub3JnZM6ytAAAADJ0RVh0U29mdHdhcmUATWF0cGxvdGxpYiB2My44LjQsIGh0dHBzOi8vbWF0cGxvdGxpYi5vcmdKaC2TAAABqElEQVR4nO3WXW6CQBhAUeheu8yurX3RtFphQOhPcs95MRPJlxlGkztPr2/v0xfzfPkcrufV77/PW39+NH/7/uZN86edz4/mj/e37/zTwfd1/n1c17cD//4+Hp9nvL+fvo/18yzv77nf4/K8jfPvnptO2tfyvGPzP+ed8z9Z3t9z88fnvV+vn//37+P2PP/nPh6fZ7y/Y+/r/Pu4rvf+Xs69j5cJAMgRAAAQJAAAIEgAAECQAACAIAEAAEECAACCBAAABAkAAAgSAAAQJAAAIEgAAECQAACAIAEAAEECAACCBAAABAkAAAgSAAAQJAAAIEgAAECQAACAIAEAAEECAACCBAAABAkAAAgSAAAQJAAAIEgAAECQAACAIAEAAEECAACCBAAABAkAAAgSAAAQJAAAIEgAAECQAACAIAEAAEECAACCBAAABAkAAAgSAAAQJAAAIEgAAECQAACAIAEAAEECAACCBAAABAkAAAgSAAAQJAAAIEgAAECQAACAIAEAAEECAACCBAAABAkAAAgSAAAQJAAAIEgAAECQAACAIAEAAEECAACCPgAujQQuZCaHmgAAAABJRU5ErkJggg==\"></div><div style=\"vertical-align: middle; max-width: 514px; display: flex; justify-content: space-between;\"><div style=\"float: left;\"><div title=\"#0065bdff\" style=\"display: inline-block; width: 1em; height: 1em; margin: 0; vertical-align: middle; border: 1px solid #555; background-color: #0065bdff;\"></div> under</div><div style=\"margin: 0 auto; display: inline-block;\">bad <div title=\"#00000000\" style=\"display: inline-block; width: 1em; height: 1em; margin: 0; vertical-align: middle; border: 1px solid #555; background-color: #00000000;\"></div></div><div style=\"float: right;\">over <div title=\"#e6e6e6ff\" style=\"display: inline-block; width: 1em; height: 1em; margin: 0; vertical-align: middle; border: 1px solid #555; background-color: #e6e6e6ff;\"></div></div>"
      ],
      "text/plain": [
       "<matplotlib.colors.ListedColormap at 0x273bcbf4e50>"
      ]
     },
     "execution_count": 5,
     "metadata": {},
     "output_type": "execute_result"
    }
   ],
   "source": [
    "tum_blue_cmap = ColorMaps.blue_tum()\n",
    "blue_colors = tum_blue_cmap(np.linspace(0,1, 10))\n",
    "tum_blue_cmap"
   ]
  },
  {
   "cell_type": "code",
   "execution_count": 6,
   "id": "ed53abde-e024-41da-b8cd-b490bf7a4a18",
   "metadata": {},
   "outputs": [
    {
     "data": {
      "image/png": "[encoded data removed]",
      "text/html": [
       "<div style=\"vertical-align: middle;\"><strong>tum_orange_blue</strong> </div><div class=\"cmap\"><img alt=\"tum_orange_blue colormap\" title=\"tum_orange_blue\" style=\"border: 1px solid #555;\" src=\"data:image/png;base64,iVBORw0KGgoAAAANSUhEUgAAAgAAAABACAYAAABsv8+/AAAAHnRFWHRUaXRsZQB0dW1fb3JhbmdlX2JsdWUgY29sb3JtYXDqIpipAAAAJHRFWHREZXNjcmlwdGlvbgB0dW1fb3JhbmdlX2JsdWUgY29sb3JtYXAgnnHGAAAAMHRFWHRBdXRob3IATWF0cGxvdGxpYiB2My44LjQsIGh0dHBzOi8vbWF0cGxvdGxpYi5vcmdkzrK0AAAAMnRFWHRTb2Z0d2FyZQBNYXRwbG90bGliIHYzLjguNCwgaHR0cHM6Ly9tYXRwbG90bGliLm9yZ0poLZMAAAHXSURBVHic7dZdTsJAGEDRAdfqMt1a8cFWk0Idfh40uee8lDJh8tEWck/j/eMyxhjn0xhfx9O4eX6erG/n58n6X+032ee0nr8d7PO9fjDX1fpursP17fPnF9e/57/9PdfDeNvNtT+//368eN/+63Ny7/f887le3G97Y3VZlu3F7nhZD7+vb+fX++zWD97fHy/LZH3y+au5l9k8v8/1s89k/XCug+v45FzX+xzNNbvOT9735cV5t/XlsXnvnevu5/Xovi0PPq9PP88PXsfJ7+vR53H9mwAASgQAAAQJAAAIEgAAECQAACBIAABAkAAAgCABAABBAgAAggQAAAQJAAAIEgAAECQAACBIAABAkAAAgCABAABBAgAAggQAAAQJAAAIEgAAECQAACBIAABAkAAAgCABAABBAgAAggQAAAQJAAAIEgAAECQAACBIAABAkAAAgCABAABBAgAAggQAAAQJAAAIEgAAECQAACBIAABAkAAAgCABAABBAgAAggQAAAQJAAAIEgAAECQAACBIAABAkAAAgCABAABBAgAAggQAAAQJAAAIEgAAECQAACBIAABAkAAAgCABAABBAgAAggQAAAQJAAAIEgAAECQAACBIAABAkAAAgKBP7UEdBRt3jfsAAAAASUVORK5CYII=\"></div><div style=\"vertical-align: middle; max-width: 514px; display: flex; justify-content: space-between;\"><div style=\"float: left;\"><div title=\"#0065bdff\" style=\"display: inline-block; width: 1em; height: 1em; margin: 0; vertical-align: middle; border: 1px solid #555; background-color: #0065bdff;\"></div> under</div><div style=\"margin: 0 auto; display: inline-block;\">bad <div title=\"#00000000\" style=\"display: inline-block; width: 1em; height: 1em; margin: 0; vertical-align: middle; border: 1px solid #555; background-color: #00000000;\"></div></div><div style=\"float: right;\">over <div title=\"#e37222ff\" style=\"display: inline-block; width: 1em; height: 1em; margin: 0; vertical-align: middle; border: 1px solid #555; background-color: #e37222ff;\"></div></div>"
      ],
      "text/plain": [
       "<matplotlib.colors.ListedColormap at 0x273bcf2da90>"
      ]
     },
     "execution_count": 6,
     "metadata": {},
     "output_type": "execute_result"
    }
   ],
   "source": [
    "tum_cmap = ColorMaps.blue_orange_tum(grayscale=1)\n",
    "colors = tum_cmap(np.linspace(0,1, 5))\n",
    "tum_cmap"
   ]
  },
  {
   "cell_type": "markdown",
   "id": "93efea44-8b74-4876-97cc-4654f91d1002",
   "metadata": {},
   "source": [
    "## Read Cell File"
   ]
  },
  {
   "cell_type": "code",
   "execution_count": 7,
   "id": "4a045e27-c3bc-4850-aa40-2f809a6a5047",
   "metadata": {},
   "outputs": [],
   "source": [
    "path2files = os.path.join(GeneralConfig.path2data.value,\"VW\",\"cell\")"
   ]
  },
  {
   "cell_type": "code",
   "execution_count": 8,
   "id": "876e2f40-3558-4b5e-a28b-efd1534788a6",
   "metadata": {
    "tags": []
   },
   "outputs": [],
   "source": [
    "def filter_func_preprocess_U(signal):\n",
    "    perc_filter = 0.1/100 * len(signal) #% filter\n",
    "    filtered_signal = FilterMethods().rolling_mean_df(signal,window_size=FilterMethods().round_to_next_odd_number(perc_filter))\n",
    "    #filtered_signal = FilterMethods().savgol(signal,window_size=FilterMethods().round_to_next_odd_number(perc_filter/100 * len(signal)))\n",
    "    return filtered_signal"
   ]
  },
  {
   "cell_type": "code",
   "execution_count": 9,
   "id": "4398f2b6-dbb3-4271-a57e-c901370831f4",
   "metadata": {},
   "outputs": [],
   "source": [
    "def filter_func_preprocess_Q(signal):\n",
    "    perc_filter = 0.1/100 * len(signal) #% filter\n",
    "    filtered_signal = FilterMethods().rolling_mean_df(signal,window_size=FilterMethods().round_to_next_odd_number(perc_filter))\n",
    "    #filtered_signal = FilterMethods().savgol(signal,window_size=FilterMethods().round_to_next_odd_number(perc_filter/100 * len(signal)))\n",
    "    return filtered_signal"
   ]
  },
  {
   "cell_type": "code",
   "execution_count": 10,
   "id": "bfcbe916-bdca-47b3-aacd-2ac8a1c41a03",
   "metadata": {},
   "outputs": [],
   "source": [
    "read_pickle = ReadPickle()\n",
    "read_pickle.set_filter_U(filter_func_preprocess_U)\n",
    "read_pickle.set_filter_Q(filter_func_preprocess_Q)"
   ]
  },
  {
   "cell_type": "code",
   "execution_count": 11,
   "id": "13a82c03-55dd-40ee-bc62-323f8a051aa3",
   "metadata": {},
   "outputs": [],
   "source": [
    "df_cc =  read_pickle.read(os.path.join(path2files,\"VW_LG_78Ah_NMC_20deg_CC_C45.pkl\"))\n",
    "df_cc_c6 =  read_pickle.read(os.path.join(path2files,\"VW_LG_78Ah_NMC_20deg_CC_C6.pkl\"))"
   ]
  },
  {
   "cell_type": "code",
   "execution_count": 12,
   "id": "c995531f-4c04-45e3-8c65-c2e4ae88893f",
   "metadata": {},
   "outputs": [],
   "source": [
    "df_cp =  read_pickle.read(os.path.join(path2files,\"VW_LG_78Ah_NMC_20deg_CP_C45.pkl\"))\n",
    "df_cp_c6 =  read_pickle.read(os.path.join(path2files,\"VW_LG_78Ah_NMC_20deg_CP_C6.pkl\"))"
   ]
  },
  {
   "cell_type": "markdown",
   "id": "21d58841-abc1-482e-a99f-f1542cd1b1e6",
   "metadata": {},
   "source": [
    "### Cell DVA/ICA"
   ]
  },
  {
   "cell_type": "code",
   "execution_count": 13,
   "id": "e0e8e03d-531e-4c89-89fa-0dc56ee431f3",
   "metadata": {},
   "outputs": [],
   "source": [
    "def filter_func(signal):\n",
    "    perc_filter = 0.5 #% filter\n",
    "    filtered_signal = FilterMethods().rolling_mean_numpy(signal,window_size=FilterMethods().round_to_next_odd_number(perc_filter/100 * len(signal)))\n",
    "    filtered_signal_reverse = FilterMethods().rolling_mean_numpy(np.flip(signal),window_size=FilterMethods().round_to_next_odd_number(perc_filter/100 * len(signal)))\n",
    "    return (filtered_signal+np.flip(filtered_signal_reverse))/2"
   ]
  },
  {
   "cell_type": "code",
   "execution_count": 14,
   "id": "41fd76fc-ae86-4df6-8de7-10b503796685",
   "metadata": {},
   "outputs": [],
   "source": [
    "dva_extractor = DVA()\n",
    "dva_extractor.set_filter(filter_func)\n",
    "dva_cc, cap_cc =dva_extractor.get_dva(time=df_cc[\"time_h\"], capacity=df_cc[\"Q\"], voltage=df_cc[\"U\"],crop_cap_Ah=(0,80.5))\n",
    "dva_cp, cap_cp =dva_extractor.get_dva(time=df_cp[\"time_h\"], capacity=df_cp[\"Q\"], voltage=df_cp[\"U\"],crop_cap_Ah=(0,80.5))\n",
    "\n",
    "dva_cc_c6, cap_cc_c6 =dva_extractor.get_dva(time=df_cc_c6[\"time_h\"], capacity=df_cc_c6[\"Q\"], voltage=df_cc_c6[\"U\"],crop_cap_Ah=(0,79.5))\n",
    "dva_cp_c6, cap_cp_c6 =dva_extractor.get_dva(time=df_cp_c6[\"time_h\"], capacity=df_cp_c6[\"Q\"], voltage=df_cp_c6[\"U\"],crop_cap_Ah=(0,79.5))"
   ]
  },
  {
   "cell_type": "code",
   "execution_count": 15,
   "id": "322bed80-d474-4b73-9076-bc831d9020d0",
   "metadata": {},
   "outputs": [],
   "source": [
    "ica_extractor = ICA()\n",
    "ica_extractor.set_filter(filter_func)\n",
    "ica_cc, volt_cc = ica_extractor.get_ica(time=df_cc[\"time_h\"], capacity=df_cc[\"Q\"], voltage=df_cc[\"U\"],crop_volt_V=(2.8,4.2))\n",
    "ica_cp, volt_cp = ica_extractor.get_ica(time=df_cp[\"time_h\"], capacity=df_cp[\"Q\"], voltage=df_cp[\"U\"],crop_volt_V=(2.8,4.2))\n",
    "\n",
    "ica_cc_c6, volt_cc_c6 = ica_extractor.get_ica(time=df_cc_c6[\"time_h\"], capacity=df_cc_c6[\"Q\"], voltage=df_cc_c6[\"U\"],crop_volt_V=(2.8,4.2))\n",
    "ica_cp_c6, volt_cp_c6 = ica_extractor.get_ica(time=df_cp_c6[\"time_h\"], capacity=df_cp_c6[\"Q\"], voltage=df_cp_c6[\"U\"],crop_volt_V=(2.8,4.2))"
   ]
  },
  {
   "cell_type": "markdown",
   "id": "21ee7fc7-1b06-4f56-aec3-27f4d0f53945",
   "metadata": {},
   "source": [
    "## Plot C/45 & C/6"
   ]
  },
  {
   "cell_type": "code",
   "execution_count": 16,
   "id": "eb13a272-986c-4f09-bf80-36e76fec01f9",
   "metadata": {},
   "outputs": [],
   "source": [
    "def I_C45(axes,df_cc,df_cp):  \n",
    "    axes.plot(df_cc[\"time_h\"],df_cc[\"I\"],color=colors[0])\n",
    "    axes.plot(df_cp[\"time_h\"]+1,df_cp[\"I\"],color=colors[1],linestyle=\"--\")\n",
    "    \n",
    "    axes.set_ylabel(r\"Cell current in A\",fontsize=9)\n",
    "    axes.set_xlabel(r\"Time in h\",fontsize=9)\n",
    "    \n",
    "    axes.set_ylim([0,6])\n",
    "    axes.set_xlim([0,45])\n",
    "    \n",
    "    tick_positions = np.array([0,2,4,6])\n",
    "    axes.set_yticks(tick_positions)\n",
    "    #axes.yaxis.set_major_formatter(FormatStrFormatter(r'%.1f'))\n",
    "    axes.yaxis.set_minor_locator(FixedLocator([1,3,5]))\n",
    "    tick_positions = np.array([0,15,30,45])\n",
    "    axes.set_xticks(tick_positions)\n",
    "    \n",
    "    axes.grid(which=\"both\")\n",
    "    axes.set_axisbelow(True)\n",
    "    return axes"
   ]
  },
  {
   "cell_type": "code",
   "execution_count": 17,
   "id": "5b96969b-f6cc-4e2b-ad0c-0e764224865f",
   "metadata": {},
   "outputs": [],
   "source": [
    "def I_C6(axes, df_cc_c6, df_cp_c6):  \n",
    "    axes.plot(df_cc_c6[\"time_h\"],df_cc_c6[\"I\"],color=colors[-1])\n",
    "    axes.plot(df_cp_c6[\"time_h\"]+0.1,df_cp_c6[\"I\"],color=colors[-2],linestyle=\"--\")\n",
    "    \n",
    "    axes.set_ylabel(r\"Cell current in A\",fontsize=9)\n",
    "    axes.set_xlabel(r\"Time in h\",fontsize=9)\n",
    "    \n",
    "    axes.set_ylim([10,16])\n",
    "    axes.set_xlim([0,6])\n",
    "    \n",
    "    tick_positions = np.array([10,12,14,16])\n",
    "    axes.set_yticks(tick_positions)\n",
    "    #axes.yaxis.set_major_formatter(FormatStrFormatter(r'%.1f'))\n",
    "    axes.yaxis.set_minor_locator(FixedLocator([11,13,15]))\n",
    "    tick_positions = np.array([0,2,4,6])\n",
    "    axes.set_xticks(tick_positions)\n",
    "    \n",
    "    axes.grid(which=\"both\")\n",
    "    axes.set_axisbelow(True)\n",
    "    return axes"
   ]
  },
  {
   "cell_type": "code",
   "execution_count": 18,
   "id": "478a3efe-070d-4cb7-9004-6f20f0ff6a95",
   "metadata": {},
   "outputs": [],
   "source": [
    "def pOCV(axes,df_cc,df_cp, df_cc_c6, df_cp_c6):\n",
    "    #0.1 for better vis\n",
    "    axes.plot(df_cc[\"Q\"]+0.1,df_cc[\"U\"],color=colors[0])\n",
    "    axes.plot(df_cp[\"Q\"]+0.1,df_cp[\"U\"],color=colors[1],linestyle=\"--\")\n",
    "    \n",
    "    axes.plot(df_cc_c6[\"Q\"]+0.1,df_cc_c6[\"U\"],color=colors[-1])\n",
    "    axes.plot(df_cp_c6[\"Q\"]+0.1,df_cp_c6[\"U\"],color=colors[-2],linestyle=\"--\")\n",
    "    \n",
    "    axes.set_ylabel(r\"Cell voltage in V\",fontsize=9)\n",
    "    axes.set_xlabel(r\"Cell charge in Ah\",fontsize=9)\n",
    "    \n",
    "    axes.set_ylim([2.8,4.2])\n",
    "    axes.set_xlim([0,80])\n",
    "    \n",
    "    tick_positions = np.array([2.8,3.0,3.4,3.8,4.2])\n",
    "    axes.set_yticks(tick_positions)\n",
    "    axes.yaxis.set_minor_locator(FixedLocator([3.2,3.6,4.0]))\n",
    "    tick_positions = np.array([0,20,40,60,78])\n",
    "    axes.set_xticks(tick_positions)\n",
    "    axes.xaxis.set_minor_locator(FixedLocator([10,30,50,70]))\n",
    "    \n",
    "    axes.grid()\n",
    "    axes.set_axisbelow(True)\n",
    "    return axes"
   ]
  },
  {
   "cell_type": "code",
   "execution_count": 19,
   "id": "68dfb26c-b973-4d8a-b405-fcf10d2c99ba",
   "metadata": {},
   "outputs": [],
   "source": [
    "def Error_U(axes,df_cc,df_cp, df_cc_c6, df_cp_c6):\n",
    "    #C/45\n",
    "    df_cc = df_cc[df_cc[\"U\"]>=2.8] # 2.8 is the lower bound after relax and so the delta Capa must be aligned to zero again\n",
    "    df_cc[\"Q\"] = df_cc[\"Q\"].values-df_cc[\"Q\"].min()\n",
    "    df_c45 = pd.merge_asof(left=df_cc,right=df_cp, on =\"Q\") # dataframes must be aliged on the Q signal or else errors are evaluted by shifted signals\n",
    "    df_c45.dropna(subset=[\"U_x\",\"U_y\"], inplace=True)\n",
    "    error = (df_c45[\"U_y\"].values-df_c45[\"U_x\"].values)*1000\n",
    "    print(np.mean(np.abs(error)))\n",
    "    # C/6\n",
    "    df_cc_c6 = df_cc_c6[df_cc_c6[\"U\"]>=3.02] # 3.02 is the lower bound after relax and so the delta Capa must be aligned to zero again\n",
    "    df_cc_c6[\"Q\"] = df_cc_c6[\"Q\"].values-df_cc_c6[\"Q\"].min()\n",
    "    df_c6 = pd.merge_asof(left=df_cc_c6,right=df_cp_c6, on =\"Q\") # dataframes must be aliged on the Q signal or else errors are evaluted by shifted signals\n",
    "    df_c6.dropna(subset=[\"U_x\",\"U_y\"], inplace=True)\n",
    "    error_c6 = (df_c6[\"U_y\"].values-df_c6[\"U_x\"].values)*1000\n",
    "    print(np.mean(np.abs(error_c6)))\n",
    "    axes.plot(df_c45[\"Q\"]-0.1,error,color=colors[0]) #-0.1 better vis\n",
    "    axes.plot(df_c6[\"Q\"]-0.1,error_c6,color=colors[-1])\n",
    "    \n",
    "    axes.set_ylabel(r\"$\\Delta U$ in mV\",fontsize=9)\n",
    "    axes.set_xlabel(r\"Cell charge in Ah\",fontsize=9)\n",
    "    \n",
    "    axes.set_ylim([-10,10])\n",
    "    axes.set_xlim([0,80])\n",
    "    \n",
    "    tick_positions = np.array([-10,-5,0,5,10])\n",
    "    axes.set_yticks(tick_positions)\n",
    "    tick_positions = np.array([0,20,40,60,78])\n",
    "    axes.set_xticks(tick_positions)\n",
    "    axes.xaxis.set_minor_locator(FixedLocator([10,30,50,70]))\n",
    "    \n",
    "    axes.grid()\n",
    "    axes.set_axisbelow(True)\n",
    "    return axes"
   ]
  },
  {
   "cell_type": "code",
   "execution_count": 20,
   "id": "20a3d4a3-bbec-44b5-ba20-f1643e70038e",
   "metadata": {},
   "outputs": [],
   "source": [
    "def DVA(axes,cap_cc,dva_cc,cap_cp,dva_cp,cap_cc_c6,dva_cc_c6,cap_cp_c6,dva_cp_c6):\n",
    "    Q_nom = 78\n",
    "    axes.plot(cap_cc,dva_cc*Q_nom,color=colors[0],linewidth=1)\n",
    "    axes.plot(cap_cp,dva_cp*Q_nom,color=colors[1],linestyle=\"--\",linewidth=1)\n",
    "    \n",
    "    axes.plot(cap_cc_c6,dva_cc_c6*Q_nom,color=colors[-1],linewidth=1)\n",
    "    axes.plot(cap_cp_c6,dva_cp_c6*Q_nom,color=colors[-2],linestyle=\"--\",linewidth=1)\n",
    "    \n",
    "    axes.set_ylabel(r\"$Q_{cell}\\ \\cdot \\ \\frac{dU_{cell}}{dQ_{cell}}$ in V\",fontsize=9)\n",
    "    axes.set_xlabel(r\"Cell charge in Ah\",fontsize=9) \n",
    "    \n",
    "    axes.set_ylim([0,2])\n",
    "    tick_positions = np.array([0,0.5,1.0,1.5,2.0])\n",
    "    axes.set_yticks(tick_positions)\n",
    "    axes.set_xlim([0,80])\n",
    "    tick_positions = np.array([0,20,40,60,78])\n",
    "    axes.set_xticks(tick_positions)\n",
    "    axes.xaxis.set_minor_locator(FixedLocator([10,30,50,70]))\n",
    "    \n",
    "    axes.grid()\n",
    "    axes.set_axisbelow(True)\n",
    "    \n",
    "    # inset axes left\n",
    "    axins = axes.inset_axes([22, 1.05, 17,0.8],transform = axes.transData) # [x0, y0, width, height]\n",
    "    axins.plot(cap_cc,dva_cc*Q_nom,color=colors[0],linewidth=1)\n",
    "    axins.plot(cap_cp,dva_cp*Q_nom,color=colors[1],linestyle=\"--\",linewidth=1)\n",
    "    \n",
    "    axins.plot(cap_cc_c6,dva_cc_c6*Q_nom,color=colors[-1])\n",
    "    axins.plot(cap_cp_c6,dva_cp_c6*Q_nom,color=colors[-2],linestyle=\"--\",linewidth=1)\n",
    "    # subregion of the original image\n",
    "    x1, x2, y1, y2 = 8, 20.5,0.5,1.2\n",
    "    axins.set_xlim(x1, x2)\n",
    "    axins.set_ylim(y1, y2)\n",
    "    axins.set_xticklabels([])\n",
    "    axins.set_yticklabels([])\n",
    "    axins.set_xticks([])\n",
    "    axins.set_yticks([])\n",
    "    #axins.grid()\n",
    "    axes.indicate_inset_zoom(axins, edgecolor=\"black\")\n",
    "\n",
    "    # inset axes right\n",
    "    axins2 = axes.inset_axes([55, 0.1, 17, 0.7],transform = axes.transData) # [x0, y0, width, height]\n",
    "    axins2.plot(cap_cc,dva_cc*Q_nom,color=colors[0],linewidth=1)\n",
    "    axins2.plot(cap_cp,dva_cp*Q_nom,color=colors[1],linestyle=\"--\",linewidth=1)\n",
    "    \n",
    "    axins2.plot(cap_cc_c6,dva_cc_c6*Q_nom,color=colors[-1],linewidth=1)\n",
    "    axins2.plot(cap_cp_c6,dva_cp_c6*Q_nom,color=colors[-2],linestyle=\"--\",linewidth=1)\n",
    "    # subregion of the original image\n",
    "    x1, x2, y1, y2 = 44, 52,0.7,1.7\n",
    "    axins2.set_xlim(x1, x2)\n",
    "    axins2.set_ylim(y1, y2)\n",
    "    axins2.set_xticklabels([])\n",
    "    axins2.set_yticklabels([])\n",
    "    axins2.set_xticks([])\n",
    "    axins2.set_yticks([])\n",
    "    #axins.grid()\n",
    "    axes.indicate_inset_zoom(axins2, edgecolor=\"black\")\n",
    "    \n",
    "    return axes"
   ]
  },
  {
   "cell_type": "code",
   "execution_count": 21,
   "id": "a5ac4c3d-cb6e-4fe8-adba-862efa4f5546",
   "metadata": {},
   "outputs": [],
   "source": [
    "def ICA(axes,volt_cc,ica_cc,volt_cp,ica_cp, volt_cc_c6,ica_cc_c6,volt_cp_c6,ica_cp_c6):\n",
    "\n",
    "    axes.plot(volt_cc,ica_cc,color=colors[0],linewidth=1)\n",
    "    axes.plot(volt_cp,ica_cp,color=colors[1],linestyle=\"--\",linewidth=1)\n",
    "    \n",
    "    axes.plot(volt_cc_c6,ica_cc_c6,color=colors[-1],linewidth=1)\n",
    "    axes.plot(volt_cp_c6,ica_cp_c6,color=colors[-2],linestyle=\"--\",linewidth=1)\n",
    "    \n",
    "    axes.set_ylabel(r\"$\\frac{dQ_{cell}}{dU_{cell}}$ in $\\frac{Ah}{V}$\",fontsize=9)\n",
    "    axes.set_xlabel(r\"Cell voltage in V\",fontsize=9) \n",
    "    \n",
    "    axes.set_ylim([0,250])\n",
    "    tick_positions = np.array([0,50,100,150,200,250])\n",
    "    axes.set_yticks(tick_positions)\n",
    "    axes.set_xlim([2.8,4.2])\n",
    "    tick_positions = np.array([2.8,3.0,3.4,3.8,4.2])\n",
    "    axes.set_xticks(tick_positions)\n",
    "    axes.xaxis.set_minor_locator(FixedLocator([3.2,3.6,4.0]))\n",
    "    \n",
    "    axes.grid()\n",
    "    axes.set_axisbelow(True)\n",
    "    \n",
    "    # inset axes left\n",
    "    axins = axes.inset_axes([3.05, 75, 0.3,140],transform = axes.transData) # [x0, y0, width, height]\n",
    "    axins.plot(volt_cc,ica_cc,color=colors[0],linewidth=1)\n",
    "    axins.plot(volt_cp,ica_cp,color=colors[1],linestyle=\"--\",linewidth=1)\n",
    "    \n",
    "    axins.plot(volt_cc_c6,ica_cc_c6,color=colors[-1],linewidth=1)\n",
    "    axins.plot(volt_cp_c6,ica_cp_c6,color=colors[-2],linestyle=\"--\",linewidth=1)\n",
    "    # subregion of the original image\n",
    "    x1, x2, y1, y2 = 3.42, 3.58,55,155\n",
    "    axins.set_xlim(x1, x2)\n",
    "    axins.set_ylim(y1, y2)\n",
    "    axins.set_xticklabels([])\n",
    "    axins.set_yticklabels([])\n",
    "    axins.set_xticks([])\n",
    "    axins.set_yticks([])\n",
    "    #axins.grid()\n",
    "    axes.indicate_inset_zoom(axins, edgecolor=\"black\")\n",
    "\n",
    "    # inset axes right\n",
    "    axins2 = axes.inset_axes([3.83, 140, 0.3, 100],transform = axes.transData) # [x0, y0, width, height]\n",
    "    axins2.plot(volt_cc,ica_cc,color=colors[0],linewidth=1)\n",
    "    axins2.plot(volt_cp,ica_cp,color=colors[1],linestyle=\"--\",linewidth=1)\n",
    "    \n",
    "    axins2.plot(volt_cc_c6,ica_cc_c6,color=colors[-1],linewidth=1)\n",
    "    axins2.plot(volt_cp_c6,ica_cp_c6,color=colors[-2],linestyle=\"--\",linewidth=1)\n",
    "    # subregion of the original image\n",
    "    x1, x2, y1, y2 = 3.7, 3.83,44,120\n",
    "    axins2.set_xlim(x1, x2)\n",
    "    axins2.set_ylim(y1, y2)\n",
    "    axins2.set_xticklabels([])\n",
    "    axins2.set_yticklabels([])\n",
    "    axins2.set_xticks([])\n",
    "    axins2.set_yticks([])\n",
    "    #axins.grid()\n",
    "    axes.indicate_inset_zoom(axins2, edgecolor=\"black\")\n",
    "    return axes"
   ]
  },
  {
   "cell_type": "code",
   "execution_count": 22,
   "id": "321bc158-b8c9-491f-87a0-aa713f13e924",
   "metadata": {},
   "outputs": [
    {
     "name": "stderr",
     "output_type": "stream",
     "text": [
      "C:\\Users\\ga97req\\AppData\\Local\\Temp\\ipykernel_12940\\995202094.py:4: SettingWithCopyWarning: \n",
      "A value is trying to be set on a copy of a slice from a DataFrame.\n",
      "Try using .loc[row_indexer,col_indexer] = value instead\n",
      "\n",
      "See the caveats in the documentation: https://pandas.pydata.org/pandas-docs/stable/user_guide/indexing.html#returning-a-view-versus-a-copy\n",
      "  df_cc[\"Q\"] = df_cc[\"Q\"].values-df_cc[\"Q\"].min()\n",
      "C:\\Users\\ga97req\\AppData\\Local\\Temp\\ipykernel_12940\\995202094.py:11: SettingWithCopyWarning: \n",
      "A value is trying to be set on a copy of a slice from a DataFrame.\n",
      "Try using .loc[row_indexer,col_indexer] = value instead\n",
      "\n",
      "See the caveats in the documentation: https://pandas.pydata.org/pandas-docs/stable/user_guide/indexing.html#returning-a-view-versus-a-copy\n",
      "  df_cc_c6[\"Q\"] = df_cc_c6[\"Q\"].values-df_cc_c6[\"Q\"].min()\n"
     ]
    },
    {
     "name": "stdout",
     "output_type": "stream",
     "text": [
      "1.0959219758025056\n",
      "1.278266754414569\n"
     ]
    },
    {
     "name": "stderr",
     "output_type": "stream",
     "text": [
      "C:\\Users\\ga97req\\AppData\\Local\\Temp\\ipykernel_12940\\3396886952.py:38: UserWarning: The figure layout has changed to tight\n",
      "  plt.tight_layout()\n"
     ]
    },
    {
     "data": {
      "image/png": "[encoded data removed]",
      "text/plain": [
       "<Figure size 329.736x661.417 with 6 Axes>"
      ]
     },
     "metadata": {},
     "output_type": "display_data"
    }
   ],
   "source": [
    "nrow = 4.2\n",
    "fig= plt.figure(figsize=(VisualizationConfig.columnwidth_in_in.value,\n",
    "                                nrow*cm2inch(4)),layout=\"constrained\")\n",
    "gs = gridspec.GridSpec(5, 2,height_ratios=[1.3, 1.3,1, 1.5,1.5])\n",
    "\n",
    "axes_C45 = fig.add_subplot(gs[0, 0])\n",
    "axes_C45 = I_C45(axes_C45,df_cc,df_cp)\n",
    "\n",
    "axes_C6 = fig.add_subplot(gs[0, 1])\n",
    "axes_C6 = I_C6(axes_C6,df_cc_c6,df_cp_c6)\n",
    "\n",
    "axes_pocv = fig.add_subplot(gs[1, :])\n",
    "axes_pocv = pOCV(axes_pocv,df_cc,df_cp,df_cc_c6,df_cp_c6)\n",
    "\n",
    "axes_error = fig.add_subplot(gs[2, :])\n",
    "axes_error = Error_U(axes_error,df_cc,df_cp,df_cc_c6,df_cp_c6)\n",
    "\n",
    "axes_DVA = fig.add_subplot(gs[3, :])\n",
    "axes_DVA = DVA(axes_DVA,cap_cc,dva_cc,cap_cp,dva_cp,\n",
    "                      cap_cc_c6,dva_cc_c6,cap_cp_c6,dva_cp_c6)\n",
    "\n",
    "axes_ICA = fig.add_subplot(gs[4, :])\n",
    "axes_ICA = ICA(axes_ICA,volt_cc,ica_cc,volt_cp,ica_cp,\n",
    "             volt_cc_c6,ica_cc_c6,volt_cp_c6,ica_cp_c6)\n",
    "\n",
    "handles, labels =axes_ICA.get_legend_handles_labels()  \n",
    "line = plt.hlines(0,0,1,label=r'C/45',color=colors[0])\n",
    "line2 = plt.hlines(0,0,1,label=r'C/6', color=colors[-1])\n",
    "line3 = plt.hlines(0,0,1,label=r'CC',color=\"black\")\n",
    "line4 = plt.hlines(0,0,1,label=r'CP', color=\"black\",linestyle=\"--\")\n",
    "# add manual symbols to auto legend\n",
    "handles.extend([line, line2, line3,line4])\n",
    "lgd = fig.legend(handles=handles,loc=\"center\",fontsize=9,ncols=4,handletextpad=0.4,\n",
    "           framealpha =1 , fancybox=False,labelspacing=0.5,columnspacing=0.7,edgecolor=\"black\",bbox_to_anchor=(0.577,1.03))\n",
    "\n",
    "fig.align_ylabels([axes_C45,axes_pocv,axes_error,axes_DVA,axes_ICA])\n",
    "\n",
    "plt.tight_layout()\n",
    "axes_C45.text(-0.3, 1.2, r'a)', horizontalalignment='center', fontsize=9,\n",
    "     verticalalignment='center', transform=axes_C45.transAxes)\n",
    "axes_C6.text(-0.3, 1.2, r'b)', horizontalalignment='center',fontsize=9,\n",
    "     verticalalignment='center', transform=axes_C6.transAxes)\n",
    "axes_pocv.text(-0.11, 1.2, r'c)', horizontalalignment='center',fontsize=9,\n",
    "     verticalalignment='center', transform=axes_pocv.transAxes)\n",
    "axes_error.text(-0.11,1.2, r'd)', horizontalalignment='center',fontsize=9,\n",
    "     verticalalignment='center', transform=axes_error.transAxes)\n",
    "axes_DVA.text(-0.11, 1.2, r'e)', horizontalalignment='center',fontsize=9,\n",
    "     verticalalignment='center', transform=axes_DVA.transAxes)\n",
    "axes_ICA.text(-0.11, 1.2, r'f)', horizontalalignment='center',fontsize=9,\n",
    "     verticalalignment='center', transform=axes_ICA.transAxes)\n",
    "fig.savefig(os.path.join(GeneralConfig.path2figures.value,\"01-POCV_DVA_ICA_VW_CC_vs_CP_crate_comp.pdf\"),bbox_extra_artists=([lgd]),bbox_inches=\"tight\")\n",
    "fig.savefig(os.path.join(GeneralConfig.path2figures.value,\"01-POCV_DVA_ICA_VW_CC_vs_CP_crate_comp.png\"),dpi=300,bbox_inches=\"tight\")"
   ]
  },
  {
   "cell_type": "code",
   "execution_count": null,
   "id": "7c29cec9-0d0a-41a6-ba43-17a53f51eda7",
   "metadata": {},
   "outputs": [],
   "source": []
  },
  {
   "cell_type": "code",
   "execution_count": null,
   "id": "b0e8a6ba-2606-4918-a11f-29e91661bccb",
   "metadata": {},
   "outputs": [],
   "source": []
  }
 ],
 "metadata": {
  "kernelspec": {
   "display_name": "Python 3 (ipykernel)",
   "language": "python",
   "name": "python3"
  },
  "language_info": {
   "codemirror_mode": {
    "name": "ipython",
    "version": 3
   },
   "file_extension": ".py",
   "mimetype": "text/x-python",
   "name": "python",
   "nbconvert_exporter": "python",
   "pygments_lexer": "ipython3",
   "version": "3.11.9"
  }
 },
 "nbformat": 4,
 "nbformat_minor": 5
}
