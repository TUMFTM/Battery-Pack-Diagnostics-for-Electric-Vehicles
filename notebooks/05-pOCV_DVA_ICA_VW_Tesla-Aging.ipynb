{
 "cells": [
  {
   "cell_type": "markdown",
   "id": "097dcd49-80d2-4f4a-a3d1-490f5ed0d0cb",
   "metadata": {},
   "source": [
    "# Comparison of an Initial to an aged state\n",
    "## aligned by the lower cut-off voltage of the initial state"
   ]
  },
  {
   "cell_type": "code",
   "execution_count": 1,
   "id": "6bb20a9f-82c5-45b2-a146-4f39494520fb",
   "metadata": {},
   "outputs": [],
   "source": [
    "import os\n",
    "import sys\n",
    "import math\n",
    "sys.path.append(os.path.join(os.getcwd().partition('Code')[0], \"Code\"))\n",
    "from src.config_base import GeneralConfig"
   ]
  },
  {
   "cell_type": "code",
   "execution_count": 2,
   "id": "2636f5b3-2bc4-4299-a00c-2e723219de6c",
   "metadata": {},
   "outputs": [],
   "source": [
    "import pandas as pd\n",
    "import numpy as np\n",
    "import matplotlib.pyplot as plt\n",
    "import matplotlib.ticker as ticker\n",
    "from matplotlib.ticker import FormatStrFormatter\n",
    "from matplotlib.ticker import AutoMinorLocator, FixedLocator\n",
    "from matplotlib.patches import Patch, Circle"
   ]
  },
  {
   "cell_type": "code",
   "execution_count": 3,
   "id": "9386ba4e-7043-4bcb-97cc-f5fb1faf27ba",
   "metadata": {},
   "outputs": [],
   "source": [
    "from src.data.read_pickle import ReadPickle\n",
    "from src.filtering.filter_methods import FilterMethods\n",
    "from src.voltage_capacity_analysis.ica import ICA\n",
    "from src.voltage_capacity_analysis.dva import DVA\n",
    "from src.visualization.config_visualization import VisualizationConfig, instantiate_matplotlib_parameters, cm2inch\n",
    "instantiate_matplotlib_parameters()\n",
    "from src.visualization.colormaps import ColorMaps"
   ]
  },
  {
   "cell_type": "code",
   "execution_count": 4,
   "id": "d12e51fb-4c3a-42d5-a062-5afdd175cd14",
   "metadata": {},
   "outputs": [
    {
     "data": {
      "image/png": "[encoded data removed]",
      "text/html": [
       "<div style=\"vertical-align: middle;\"><strong>tum_orange</strong> </div><div class=\"cmap\"><img alt=\"tum_orange colormap\" title=\"tum_orange\" style=\"border: 1px solid #555;\" src=\"data:image/png;base64,iVBORw0KGgoAAAANSUhEUgAAAgAAAABACAYAAABsv8+/AAAAGXRFWHRUaXRsZQB0dW1fb3JhbmdlIGNvbG9ybWFwixbW5QAAAB90RVh0RGVzY3JpcHRpb24AdHVtX29yYW5nZSBjb2xvcm1hcPE+F6sAAAAwdEVYdEF1dGhvcgBNYXRwbG90bGliIHYzLjguNCwgaHR0cHM6Ly9tYXRwbG90bGliLm9yZ2TOsrQAAAAydEVYdFNvZnR3YXJlAE1hdHBsb3RsaWIgdjMuOC40LCBodHRwczovL21hdHBsb3RsaWIub3JnSmgtkwAAAYpJREFUeJzt1kFugzAUQEHco/SIvXIP0myyqaMohRBo9GY2ETICI39Fb3x/ff4sv4zrz5iuV67f3LdM1xvf8/A5G9f3es68fvc799rvk+/Zer6rz3+n99z7joPndTxY331eT5+jlft42fkfNa/LdP2qef3j+unnv22/49k5erf/q/8+R9P6xwIA5AgAAAgSAAAQJAAAIEgAAECQAACAIAEAAEECAACCBAAABAkAAAgSAAAQJAAAIEgAAECQAACAIAEAAEECAACCBAAABAkAAAgSAAAQJAAAIEgAAECQAACAIAEAAEECAACCBAAABAkAAAgSAAAQJAAAIEgAAECQAACAIAEAAEECAACCBAAABAkAAAgSAAAQJAAAIEgAAECQAACAIAEAAEECAACCBAAABAkAAAgSAAAQJAAAIEgAAECQAACAIAEAAEECAACCBAAABAkAAAgSAAAQJAAAIEgAAECQAACAIAEAAEECAACCBAAABAkAAAgSAAAQJAAAIEgAAECQAACAIAEAAEEXgqwELiXJxakAAAAASUVORK5CYII=\"></div><div style=\"vertical-align: middle; max-width: 514px; display: flex; justify-content: space-between;\"><div style=\"float: left;\"><div title=\"#e37222ff\" style=\"display: inline-block; width: 1em; height: 1em; margin: 0; vertical-align: middle; border: 1px solid #555; background-color: #e37222ff;\"></div> under</div><div style=\"margin: 0 auto; display: inline-block;\">bad <div title=\"#00000000\" style=\"display: inline-block; width: 1em; height: 1em; margin: 0; vertical-align: middle; border: 1px solid #555; background-color: #00000000;\"></div></div><div style=\"float: right;\">over <div title=\"#e6e6e6ff\" style=\"display: inline-block; width: 1em; height: 1em; margin: 0; vertical-align: middle; border: 1px solid #555; background-color: #e6e6e6ff;\"></div></div>"
      ],
      "text/plain": [
       "<matplotlib.colors.ListedColormap at 0x21ab4f39050>"
      ]
     },
     "execution_count": 4,
     "metadata": {},
     "output_type": "execute_result"
    }
   ],
   "source": [
    "tum_orange_cmap = ColorMaps.orange_tum()\n",
    "orange_colors = tum_orange_cmap(np.linspace(0,1, 10))\n",
    "tum_orange_cmap"
   ]
  },
  {
   "cell_type": "code",
   "execution_count": 5,
   "id": "db58749d-9da0-4cef-bf17-fc71114f62d9",
   "metadata": {},
   "outputs": [
    {
     "data": {
      "image/png": "[encoded data removed]",
      "text/html": [
       "<div style=\"vertical-align: middle;\"><strong>tum_blue</strong> </div><div class=\"cmap\"><img alt=\"tum_blue colormap\" title=\"tum_blue\" style=\"border: 1px solid #555;\" src=\"data:image/png;base64,iVBORw0KGgoAAAANSUhEUgAAAgAAAABACAYAAABsv8+/AAAAF3RFWHRUaXRsZQB0dW1fYmx1ZSBjb2xvcm1hcKbbBgQAAAAddEVYdERlc2NyaXB0aW9uAHR1bV9ibHVlIGNvbG9ybWFwj6XhLQAAADB0RVh0QXV0aG9yAE1hdHBsb3RsaWIgdjMuOC40LCBodHRwczovL21hdHBsb3RsaWIub3JnZM6ytAAAADJ0RVh0U29mdHdhcmUATWF0cGxvdGxpYiB2My44LjQsIGh0dHBzOi8vbWF0cGxvdGxpYi5vcmdKaC2TAAABqElEQVR4nO3WXW6CQBhAUeheu8yurX3RtFphQOhPcs95MRPJlxlGkztPr2/v0xfzfPkcrufV77/PW39+NH/7/uZN86edz4/mj/e37/zTwfd1/n1c17cD//4+Hp9nvL+fvo/18yzv77nf4/K8jfPvnptO2tfyvGPzP+ed8z9Z3t9z88fnvV+vn//37+P2PP/nPh6fZ7y/Y+/r/Pu4rvf+Xs69j5cJAMgRAAAQJAAAIEgAAECQAACAIAEAAEECAACCBAAABAkAAAgSAAAQJAAAIEgAAECQAACAIAEAAEECAACCBAAABAkAAAgSAAAQJAAAIEgAAECQAACAIAEAAEECAACCBAAABAkAAAgSAAAQJAAAIEgAAECQAACAIAEAAEECAACCBAAABAkAAAgSAAAQJAAAIEgAAECQAACAIAEAAEECAACCBAAABAkAAAgSAAAQJAAAIEgAAECQAACAIAEAAEECAACCBAAABAkAAAgSAAAQJAAAIEgAAECQAACAIAEAAEECAACCBAAABAkAAAgSAAAQJAAAIEgAAECQAACAIAEAAEECAACCPgAujQQuZCaHmgAAAABJRU5ErkJggg==\"></div><div style=\"vertical-align: middle; max-width: 514px; display: flex; justify-content: space-between;\"><div style=\"float: left;\"><div title=\"#0065bdff\" style=\"display: inline-block; width: 1em; height: 1em; margin: 0; vertical-align: middle; border: 1px solid #555; background-color: #0065bdff;\"></div> under</div><div style=\"margin: 0 auto; display: inline-block;\">bad <div title=\"#00000000\" style=\"display: inline-block; width: 1em; height: 1em; margin: 0; vertical-align: middle; border: 1px solid #555; background-color: #00000000;\"></div></div><div style=\"float: right;\">over <div title=\"#e6e6e6ff\" style=\"display: inline-block; width: 1em; height: 1em; margin: 0; vertical-align: middle; border: 1px solid #555; background-color: #e6e6e6ff;\"></div></div>"
      ],
      "text/plain": [
       "<matplotlib.colors.ListedColormap at 0x21ab4fff1d0>"
      ]
     },
     "execution_count": 5,
     "metadata": {},
     "output_type": "execute_result"
    }
   ],
   "source": [
    "tum_blue_cmap = ColorMaps.blue_tum()\n",
    "blue_colors = tum_blue_cmap(np.linspace(0,1, 10))\n",
    "tum_blue_cmap"
   ]
  },
  {
   "cell_type": "markdown",
   "id": "65a0f1e9-3ae9-4e9a-af64-8f1c023166fa",
   "metadata": {},
   "source": [
    "## Read VW Cell File"
   ]
  },
  {
   "cell_type": "code",
   "execution_count": 6,
   "id": "d2f03bd8-487a-4a4d-81fc-259fc51a7f52",
   "metadata": {},
   "outputs": [],
   "source": [
    "path2files = os.path.join(GeneralConfig.path2data.value,\"VW\",\"cell\")"
   ]
  },
  {
   "cell_type": "code",
   "execution_count": 7,
   "id": "3d07edd1-7d1b-4318-8a3c-4da7524bb815",
   "metadata": {
    "tags": []
   },
   "outputs": [],
   "source": [
    "def filter_func_preprocess_U(signal):\n",
    "    perc_filter = 0.1/100 * len(signal) #% filter\n",
    "    filtered_signal = FilterMethods().rolling_mean_df(signal,window_size=FilterMethods().round_to_next_odd_number(perc_filter))\n",
    "    #filtered_signal = FilterMethods().savgol(signal,window_size=FilterMethods().round_to_next_odd_number(perc_filter/100 * len(signal)))\n",
    "    return filtered_signal"
   ]
  },
  {
   "cell_type": "code",
   "execution_count": 8,
   "id": "93ea98cb-229e-4d40-8579-4e639e90b8d4",
   "metadata": {},
   "outputs": [],
   "source": [
    "def filter_func_preprocess_Q(signal):\n",
    "    perc_filter = 0.1/100 * len(signal) #% filter\n",
    "    filtered_signal = FilterMethods().rolling_mean_df(signal,window_size=FilterMethods().round_to_next_odd_number(perc_filter))\n",
    "    #filtered_signal = FilterMethods().savgol(signal,window_size=FilterMethods().round_to_next_odd_number(perc_filter/100 * len(signal)))\n",
    "    return filtered_signal"
   ]
  },
  {
   "cell_type": "code",
   "execution_count": 9,
   "id": "40946bd2-6433-4706-bc83-f6979e107b40",
   "metadata": {},
   "outputs": [],
   "source": [
    "read_pickle = ReadPickle()\n",
    "read_pickle.set_filter_U(filter_func_preprocess_U)\n",
    "read_pickle.set_filter_Q(filter_func_preprocess_Q)"
   ]
  },
  {
   "cell_type": "code",
   "execution_count": 10,
   "id": "19584a01-a20b-4c75-8256-46b03c47110f",
   "metadata": {},
   "outputs": [],
   "source": [
    "df_cell_vw =  read_pickle.read(os.path.join(path2files,\"VW_LG_78Ah_NMC_20deg_CP_C45.pkl\"))"
   ]
  },
  {
   "cell_type": "code",
   "execution_count": 11,
   "id": "3b701d63-e4ab-4c94-ab3b-5c262db3620c",
   "metadata": {},
   "outputs": [],
   "source": [
    "def filter_func(signal):\n",
    "    perc_filter = 0.5 #% filter\n",
    "    filtered_signal = FilterMethods().rolling_mean_numpy(signal,window_size=FilterMethods().round_to_next_odd_number(perc_filter/100 * len(signal)))\n",
    "    filtered_signal_reverse = FilterMethods().rolling_mean_numpy(np.flip(signal),window_size=FilterMethods().round_to_next_odd_number(perc_filter/100 * len(signal)))\n",
    "    return (filtered_signal+np.flip(filtered_signal_reverse))/2"
   ]
  },
  {
   "cell_type": "code",
   "execution_count": 12,
   "id": "fd3b56d5-eade-41d0-86b2-3df0f8400d23",
   "metadata": {},
   "outputs": [],
   "source": [
    "dva_extractor = DVA()\n",
    "dva_extractor.set_filter(filter_func)\n",
    "dva_cell_vw, cap_cell_vw =dva_extractor.get_dva(time=df_cell_vw[\"time_h\"], capacity=df_cell_vw[\"Q\"], voltage=df_cell_vw[\"U\"],crop_cap_Ah=(0,79.5))"
   ]
  },
  {
   "cell_type": "code",
   "execution_count": 13,
   "id": "7907f946-13dd-4415-bf24-0c8926da126c",
   "metadata": {},
   "outputs": [],
   "source": [
    "ica_extractor = ICA()\n",
    "ica_extractor.set_filter(filter_func)\n",
    "ica_cell_vw, volt_cell_vw =ica_extractor.get_ica(time=df_cell_vw[\"time_h\"], capacity=df_cell_vw[\"Q\"], voltage=df_cell_vw[\"U\"],crop_volt_V=(2.8,4.2))"
   ]
  },
  {
   "cell_type": "markdown",
   "id": "1eb86108-b5fe-41aa-9cc3-185cc9ee229b",
   "metadata": {},
   "source": [
    "## Read VW Vehicle Files"
   ]
  },
  {
   "cell_type": "code",
   "execution_count": 14,
   "id": "97e04f3b-29c3-46ea-9f71-8d0b90f753a3",
   "metadata": {},
   "outputs": [],
   "source": [
    "path2files_vw = os.path.join(GeneralConfig.path2data.value,\"VW\",\"vehicle\")"
   ]
  },
  {
   "cell_type": "code",
   "execution_count": 15,
   "id": "d61f0a66-3bb8-4813-9c48-c364e0f38c55",
   "metadata": {},
   "outputs": [],
   "source": [
    "def filter_func_preprocess_v_U(signal):\n",
    "    perc_filter = 1 #% filter\n",
    "    filtered_signal = FilterMethods().rolling_mean_df(signal,window_size=FilterMethods().round_to_next_odd_number(perc_filter/100 * len(signal)))\n",
    "    #filtered_signal = FilterMethods().savgol(signal,window_size=FilterMethods().round_to_next_odd_number(perc_filter/100 * len(signal)))\n",
    "    return filtered_signal"
   ]
  },
  {
   "cell_type": "code",
   "execution_count": 16,
   "id": "806301b9-8f18-46b3-97ee-213ee7c633b0",
   "metadata": {},
   "outputs": [],
   "source": [
    "def filter_func_preprocess_v_Q(signal):\n",
    "    perc_filter = 1 #% filter\n",
    "    filtered_signal = FilterMethods().rolling_mean_df(signal,window_size=FilterMethods().round_to_next_odd_number(perc_filter/100 * len(signal)))\n",
    "    #filtered_signal = FilterMethods().savgol(signal,window_size=FilterMethods().round_to_next_odd_number(perc_filter/100 * len(signal)))\n",
    "    return filtered_signal"
   ]
  },
  {
   "cell_type": "code",
   "execution_count": 17,
   "id": "213c8ef4-85de-4a59-86e2-dec85d972a7e",
   "metadata": {},
   "outputs": [],
   "source": [
    "read_pickle = ReadPickle()\n",
    "read_pickle.set_filter_U(filter_func_preprocess_v_U)\n",
    "read_pickle.set_filter_Q(filter_func_preprocess_v_Q)"
   ]
  },
  {
   "cell_type": "code",
   "execution_count": 18,
   "id": "ebf32c65-6d2f-4374-9757-f72bb2790b60",
   "metadata": {},
   "outputs": [],
   "source": [
    "df_vw =  read_pickle.read(os.path.join(path2files_vw,\"VW_ID3_JB_8A_C40_2021.pkl\"))\n",
    "df_vw_aged =  read_pickle.read(os.path.join(path2files_vw,\"VW_ID3_JB_8A_C40_2023.pkl\"))"
   ]
  },
  {
   "cell_type": "code",
   "execution_count": 19,
   "id": "04e2b274-66c1-4cad-9a1c-17661f48520d",
   "metadata": {},
   "outputs": [
    {
     "data": {
      "text/plain": [
       "12.90062193447406"
      ]
     },
     "execution_count": 19,
     "metadata": {},
     "output_type": "execute_result"
    }
   ],
   "source": [
    "df_vw.Q.max()-df_vw_aged.Q.max()"
   ]
  },
  {
   "cell_type": "code",
   "execution_count": 20,
   "id": "c9dd65b8-b162-44bd-8bd3-0a790bf3459e",
   "metadata": {},
   "outputs": [],
   "source": [
    "def filter_func_v(signal):\n",
    "    perc_filter = 1 #% filter\n",
    "    filtered_signal = FilterMethods().rolling_mean_numpy(signal,window_size=FilterMethods().round_to_next_odd_number(perc_filter/100 * len(signal)))\n",
    "    filtered_signal_reverse = FilterMethods().rolling_mean_numpy(np.flip(signal),window_size=FilterMethods().round_to_next_odd_number(perc_filter/100 * len(signal)))\n",
    "    return (filtered_signal+np.flip(filtered_signal_reverse))/2"
   ]
  },
  {
   "cell_type": "code",
   "execution_count": 21,
   "id": "a0015b1c-d523-4a73-b092-b71b3cb7e191",
   "metadata": {},
   "outputs": [],
   "source": [
    "dva_extractor = DVA()\n",
    "dva_extractor.set_filter(filter_func_v)"
   ]
  },
  {
   "cell_type": "code",
   "execution_count": 22,
   "id": "3c8b3769-753b-4588-a48f-32ccbdf2bbab",
   "metadata": {},
   "outputs": [],
   "source": [
    "dva_vw, cap_vw =dva_extractor.get_dva(time=df_vw[\"time_h\"], capacity=df_vw[\"Q\"], voltage=df_vw[\"U\"],crop_cap_Ah=(1,180))\n",
    "dva_vw_aged, cap_vw_aged =dva_extractor.get_dva(time=df_vw_aged[\"time_h\"], capacity=df_vw_aged[\"Q\"], voltage=df_vw_aged[\"U\"],crop_cap_Ah=(1,180))"
   ]
  },
  {
   "cell_type": "code",
   "execution_count": 23,
   "id": "37b515cf-684a-47d6-b10f-650a3056a652",
   "metadata": {},
   "outputs": [],
   "source": [
    "deltaQ_vw =  dva_extractor.get_Q_shift_for_lower_cut_off_voltage(df_vehicle = df_vw, df_cell = df_cell_vw,n_seriell=108,n_parallel=2)\n",
    "deltaQ_vw_aged =  dva_extractor.get_Q_shift_for_lower_cut_off_voltage(df_vehicle = df_vw_aged, df_cell = df_cell_vw,n_seriell=108,n_parallel=2)"
   ]
  },
  {
   "cell_type": "code",
   "execution_count": 24,
   "id": "da0184f3-084e-4c87-b333-3cf31dc6a084",
   "metadata": {},
   "outputs": [],
   "source": [
    "# shift aged vehicle to Initial\n",
    "deltaQ_vw2= dva_extractor.get_Q_shift_for_lower_cut_off_voltage(df_vehicle = df_vw_aged, df_cell = df_vw,n_seriell=1,n_parallel=1)"
   ]
  },
  {
   "cell_type": "code",
   "execution_count": 25,
   "id": "17463082-5e39-4e6e-8968-e84edf8350d7",
   "metadata": {},
   "outputs": [],
   "source": [
    "ica_extractor = ICA()\n",
    "ica_extractor.set_filter(filter_func_v)\n",
    "ica_extractor.set_post_filter(filter_func_v)\n",
    "ica_vw, volt_vw =ica_extractor.get_ica(time=df_vw[\"time_h\"], capacity=df_vw[\"Q\"], voltage=df_vw[\"U\"],crop_volt_V=(360,500))\n",
    "ica_vw_aged, volt_vw_aged =ica_extractor.get_ica(time=df_vw_aged[\"time_h\"], capacity=df_vw_aged[\"Q\"], voltage=df_vw_aged[\"U\"],crop_volt_V=(364,500))"
   ]
  },
  {
   "cell_type": "markdown",
   "id": "73f07e44-9286-4356-b7a2-08ff8ce893bc",
   "metadata": {},
   "source": [
    "## Read Tesla Cell File"
   ]
  },
  {
   "cell_type": "code",
   "execution_count": 26,
   "id": "dc99c575-ec62-402c-bf50-02d818ca2a5f",
   "metadata": {},
   "outputs": [],
   "source": [
    "path2files = os.path.join(GeneralConfig.path2data.value,\"Tesla\",\"cell\")"
   ]
  },
  {
   "cell_type": "code",
   "execution_count": 27,
   "id": "a3d6a6a0-a4a0-44f2-8d76-f3eaf12f9e95",
   "metadata": {
    "tags": []
   },
   "outputs": [],
   "source": [
    "def filter_func_preprocess_U(signal):\n",
    "    perc_filter = 0.1/100 * len(signal) #% filter\n",
    "    filtered_signal = FilterMethods().rolling_mean_df(signal,window_size=FilterMethods().round_to_next_odd_number(perc_filter))\n",
    "    #filtered_signal = FilterMethods().savgol(signal,window_size=FilterMethods().round_to_next_odd_number(perc_filter/100 * len(signal)))\n",
    "    return filtered_signal"
   ]
  },
  {
   "cell_type": "code",
   "execution_count": 28,
   "id": "b125f8e3-c468-4380-aec7-cb1df12360a1",
   "metadata": {},
   "outputs": [],
   "source": [
    "def filter_func_preprocess_Q(signal):\n",
    "    perc_filter = 0.1/100 * len(signal) #% filter\n",
    "    filtered_signal = FilterMethods().rolling_mean_df(signal,window_size=FilterMethods().round_to_next_odd_number(perc_filter))\n",
    "    #filtered_signal = FilterMethods().savgol(signal,window_size=FilterMethods().round_to_next_odd_number(perc_filter/100 * len(signal)))\n",
    "    return filtered_signal"
   ]
  },
  {
   "cell_type": "code",
   "execution_count": 29,
   "id": "cb17d20a-4c59-4cbe-9141-2217d25ec84d",
   "metadata": {},
   "outputs": [],
   "source": [
    "read_pickle = ReadPickle()\n",
    "read_pickle.set_filter_U(filter_func_preprocess_U)\n",
    "read_pickle.set_filter_Q(filter_func_preprocess_Q)"
   ]
  },
  {
   "cell_type": "code",
   "execution_count": 30,
   "id": "d30e2c08-7b8a-4445-8b72-c1c1ef9ed56f",
   "metadata": {},
   "outputs": [],
   "source": [
    "df_cell_tesla =  read_pickle.read(os.path.join(path2files,\"Tesla_CATL_161Ah_LFP_20deg_C57.pkl\"))"
   ]
  },
  {
   "cell_type": "markdown",
   "id": "aa511063-45a4-4f63-a154-3c741e20ffab",
   "metadata": {},
   "source": [
    "### Tesla Cell DVA/ICA"
   ]
  },
  {
   "cell_type": "code",
   "execution_count": 31,
   "id": "4d9596af-52f4-4408-b2fd-a2b56b16cef2",
   "metadata": {},
   "outputs": [],
   "source": [
    "def filter_func(signal):\n",
    "    perc_filter = 0.5 #% filter\n",
    "    filtered_signal = FilterMethods().rolling_mean_numpy(signal,window_size=FilterMethods().round_to_next_odd_number(perc_filter/100 * len(signal)))\n",
    "    filtered_signal_reverse = FilterMethods().rolling_mean_numpy(np.flip(signal),window_size=FilterMethods().round_to_next_odd_number(perc_filter/100 * len(signal)))\n",
    "    return (filtered_signal+np.flip(filtered_signal_reverse))/2"
   ]
  },
  {
   "cell_type": "code",
   "execution_count": 32,
   "id": "e016edc6-4382-4178-b44d-1a1092900739",
   "metadata": {},
   "outputs": [],
   "source": [
    "dva_extractor = DVA()\n",
    "dva_extractor.set_filter(filter_func)\n",
    "dva_cell_tesla, cap_cell_tesla =dva_extractor.get_dva(time=df_cell_tesla[\"time_h\"], capacity=df_cell_tesla[\"Q\"], voltage=df_cell_tesla[\"U\"],crop_cap_Ah=(0,163))"
   ]
  },
  {
   "cell_type": "code",
   "execution_count": 33,
   "id": "f532662a-4d53-414a-a955-c4b5f760680a",
   "metadata": {},
   "outputs": [],
   "source": [
    "ica_extractor = ICA()\n",
    "ica_extractor.set_filter(filter_func)\n",
    "ica_cell_tesla, volt_cell_tesla =ica_extractor.get_ica(time=df_cell_tesla[\"time_h\"], capacity=df_cell_tesla[\"Q\"], voltage=df_cell_tesla[\"U\"],crop_volt_V=(2.6,3.6))"
   ]
  },
  {
   "cell_type": "markdown",
   "id": "8c19ac09-6406-480b-afe6-bb0facee1545",
   "metadata": {},
   "source": [
    "## Read Tesla Vehicle Files"
   ]
  },
  {
   "cell_type": "code",
   "execution_count": 34,
   "id": "3f74c076-efcd-44bc-9ed6-75e3a0cd6cf1",
   "metadata": {},
   "outputs": [],
   "source": [
    "path2files_tesla = os.path.join(GeneralConfig.path2data.value,\"Tesla\",\"vehicle\")"
   ]
  },
  {
   "cell_type": "code",
   "execution_count": 35,
   "id": "bfa86bbe-2000-42ac-9252-46d48c4486e3",
   "metadata": {},
   "outputs": [],
   "source": [
    "def filter_func_preprocess_v_U(signal):\n",
    "    perc_filter = 1 #% filter\n",
    "    filtered_signal = FilterMethods().rolling_mean_df(signal,window_size=FilterMethods().round_to_next_odd_number(perc_filter/100 * len(signal)))\n",
    "    #filtered_signal = FilterMethods().savgol(signal,window_size=FilterMethods().round_to_next_odd_number(perc_filter/100 * len(signal)))\n",
    "    return filtered_signal"
   ]
  },
  {
   "cell_type": "code",
   "execution_count": 36,
   "id": "5bc2da34-ef45-4348-8792-703974690ff6",
   "metadata": {},
   "outputs": [],
   "source": [
    "def filter_func_preprocess_v_Q(signal):\n",
    "    perc_filter = 1 #% filter\n",
    "    filtered_signal = FilterMethods().rolling_mean_df(signal,window_size=FilterMethods().round_to_next_odd_number(perc_filter/100 * len(signal)))\n",
    "    #filtered_signal = FilterMethods().savgol(signal,window_size=FilterMethods().round_to_next_odd_number(perc_filter/100 * len(signal)))\n",
    "    return filtered_signal"
   ]
  },
  {
   "cell_type": "code",
   "execution_count": 37,
   "id": "e6064480-abbb-4e0d-9c4a-a0c3b3cc0024",
   "metadata": {},
   "outputs": [],
   "source": [
    "read_pickle = ReadPickle()\n",
    "read_pickle.set_filter_U(filter_func_preprocess_v_U)\n",
    "read_pickle.set_filter_Q(filter_func_preprocess_v_Q)"
   ]
  },
  {
   "cell_type": "code",
   "execution_count": 38,
   "id": "ef276e82-b686-4cdc-ada6-3787ad39a70e",
   "metadata": {},
   "outputs": [],
   "source": [
    "df_tesla =  read_pickle.read(os.path.join(path2files_tesla,\"Tesla_JB_8A_CEE7_C57_2021.pkl\"))\n",
    "df_tesla_aged =  read_pickle.read(os.path.join(path2files_tesla,\"Tesla_JB_8A_CEE7_C57_2022.pkl\"))"
   ]
  },
  {
   "cell_type": "code",
   "execution_count": 39,
   "id": "8974e162-0302-4e1f-a92b-01d9fd8d0b37",
   "metadata": {},
   "outputs": [
    {
     "data": {
      "text/plain": [
       "5.338256596390863"
      ]
     },
     "execution_count": 39,
     "metadata": {},
     "output_type": "execute_result"
    }
   ],
   "source": [
    "df_tesla.Q.max()-df_tesla_aged.Q.max()"
   ]
  },
  {
   "cell_type": "code",
   "execution_count": 40,
   "id": "91f06f7e-7ed0-475f-a3ff-d55b61894aa8",
   "metadata": {},
   "outputs": [],
   "source": [
    "def filter_func_v(signal):\n",
    "    perc_filter = 1 #% filter\n",
    "    filtered_signal = FilterMethods().rolling_mean_numpy(signal,window_size=FilterMethods().round_to_next_odd_number(perc_filter/100 * len(signal)))\n",
    "    filtered_signal_reverse = FilterMethods().rolling_mean_numpy(np.flip(signal),window_size=FilterMethods().round_to_next_odd_number(perc_filter/100 * len(signal)))\n",
    "    return (filtered_signal+np.flip(filtered_signal_reverse))/2"
   ]
  },
  {
   "cell_type": "code",
   "execution_count": 41,
   "id": "67749484-08f3-48c4-8914-b67c257c986e",
   "metadata": {},
   "outputs": [],
   "source": [
    "dva_extractor = DVA()\n",
    "dva_extractor.set_filter(filter_func_v)"
   ]
  },
  {
   "cell_type": "code",
   "execution_count": 42,
   "id": "519e050e-3304-47ee-abcf-028f310712f8",
   "metadata": {},
   "outputs": [],
   "source": [
    "dva_tesla, cap_tesla = dva_extractor.get_dva(time=df_tesla[\"time_h\"], capacity=df_tesla[\"Q\"], voltage=df_tesla[\"U\"],crop_cap_Ah=(1,180))\n",
    "dva_tesla_aged, cap_tesla_aged = dva_extractor.get_dva(time=df_tesla_aged[\"time_h\"], capacity=df_tesla_aged[\"Q\"], voltage=df_tesla_aged[\"U\"],crop_cap_Ah=(1,180))"
   ]
  },
  {
   "cell_type": "code",
   "execution_count": 43,
   "id": "5ed56fad-8066-4bbe-a8b3-b05bd6cbc3dd",
   "metadata": {},
   "outputs": [],
   "source": [
    "deltaQ_tesla =  dva_extractor.get_Q_shift_for_lower_cut_off_voltage(df_vehicle = df_tesla, df_cell = df_cell_tesla,n_seriell=106,n_parallel=1)\n",
    "deltaQ_tesla_aged =  dva_extractor.get_Q_shift_for_lower_cut_off_voltage(df_vehicle = df_tesla_aged, df_cell = df_cell_tesla,n_seriell=106,n_parallel=1)"
   ]
  },
  {
   "cell_type": "code",
   "execution_count": 44,
   "id": "30986511-0642-4a8b-9e61-c989f8f8edf6",
   "metadata": {},
   "outputs": [],
   "source": [
    "# shift aged vehicle to Initial\n",
    "deltaQ_tesla2= dva_extractor.get_Q_shift_for_lower_cut_off_voltage(df_vehicle = df_tesla_aged, df_cell = df_tesla,n_seriell=1,n_parallel=1)"
   ]
  },
  {
   "cell_type": "code",
   "execution_count": 45,
   "id": "7b533f3c-856b-4f23-b83e-df520a377a0b",
   "metadata": {},
   "outputs": [],
   "source": [
    "ica_extractor = ICA()\n",
    "ica_extractor.set_filter(filter_func_v)\n",
    "ica_extractor.set_post_filter(filter_func_v)\n",
    "ica_tesla, volt_tesla = ica_extractor.get_ica(time=df_tesla[\"time_h\"], capacity=df_tesla[\"Q\"], voltage=df_tesla[\"U\"],\n",
    "                                              crop_volt_V=(280,390),postfilter=True,postfilter_volt_range=(350,360))\n",
    "ica_tesla_aged, volt_tesla_aged = ica_extractor.get_ica(time=df_tesla_aged[\"time_h\"], capacity=df_tesla_aged[\"Q\"], voltage=df_tesla_aged[\"U\"],\n",
    "                                                        crop_volt_V=(280,390),postfilter=True,postfilter_volt_range=(350,360))"
   ]
  },
  {
   "cell_type": "markdown",
   "id": "7aa0a7bd-d02a-4818-aba1-f14a0764bfc4",
   "metadata": {},
   "source": [
    "## Plot"
   ]
  },
  {
   "cell_type": "code",
   "execution_count": 46,
   "id": "6282736c-2386-488d-a2aa-b46c813e7741",
   "metadata": {},
   "outputs": [],
   "source": [
    "def plot_dva_vw(axes,\n",
    "                  cap_v, dva_v,\n",
    "                cap_v_aged, dva_v_aged,\n",
    "                  shift_factor,\n",
    "               shift_factor_aged):\n",
    "\n",
    "    Q_nom = 78\n",
    "    axes.plot(cap_v+shift_factor,dva_v*Q_nom*2,color=VisualizationConfig.TUMblau.value)\n",
    "    axes.plot(cap_v_aged+shift_factor_aged,dva_v_aged*Q_nom*2,color=VisualizationConfig.TUMorange.value)\n",
    "    axes.set_ylabel(r\"$Q_{veh.}\\ \\frac{dU_{veh.}}{dQ_{veh.}}$ in V\",fontsize=9)\n",
    "    axes.set_xlabel(r\"Vehicle charge in Ah\",fontsize=9) \n",
    "    axes.set_xlim([0,156])\n",
    "    axes.set_ylim([0,216])\n",
    "    tick_positions =np.array([0,54,108,162,216])\n",
    "    axes.set_yticks(tick_positions)\n",
    "    tick_positions = np.array([0,40,80,120,156])\n",
    "    axes.set_xticks(tick_positions)\n",
    "    axes.grid(axis='both')\n",
    "    axes.xaxis.set_minor_locator(FixedLocator([20,60,100,140]))\n",
    "    axes.set_axisbelow(True)\n",
    "    axes.tick_params('x', top=False, labeltop=False,bottom=True, labelbottom=True)\n",
    "    axes.tick_params('y', left=True, labelleft=True,right=True, labelright=False)\n",
    "    axes.tick_params(axis='x', labelsize=9)\n",
    "    axes.tick_params(axis='y', labelsize=9)\n",
    "    \n",
    "    return axes"
   ]
  },
  {
   "cell_type": "code",
   "execution_count": 47,
   "id": "91855bc6-8342-4771-af13-62abad3688d2",
   "metadata": {},
   "outputs": [],
   "source": [
    "def plot_dva_tesla(axes,\n",
    "                  cap_v, dva_v,\n",
    "                   cap_v_aged, dva_v_aged,\n",
    "                  shift_factor,\n",
    "                  shift_factor_aged):\n",
    "\n",
    "    Q_nom = 161\n",
    "    axes.plot(cap_v+shift_factor,dva_v*Q_nom,color=VisualizationConfig.TUMblau.value)\n",
    "    axes.plot(cap_v_aged+shift_factor_aged,dva_v_aged*Q_nom,color=VisualizationConfig.TUMorange.value)\n",
    "    \n",
    "    axes.set_ylabel(r\"$Q_{veh.}\\cdot \\frac{dU_{veh.}}{dQ_{veh.}}$ in V\",fontsize=9)\n",
    "    axes.set_xlabel(r\"Vehicle charge in Ah\",fontsize=9) \n",
    "    axes.set_xlim([0,106])\n",
    "    axes.set_ylim([0,81])\n",
    "    tick_positions =np.array([0,27,54,81,106])\n",
    "    axes.set_yticks(tick_positions)\n",
    "    tick_positions = np.array([0,40,80,120,161])\n",
    "    axes.set_xticks(tick_positions)\n",
    "    axes.grid(axis='both')\n",
    "    axes.set_axisbelow(True)\n",
    "    axes.xaxis.set_minor_locator(FixedLocator([20,60,100,140]))\n",
    "    axes.tick_params('x', top=False, labeltop=False,bottom=True, labelbottom=True)\n",
    "    axes.tick_params('y', left=True, labelleft=True,right=True, labelright=False)\n",
    "    axes.tick_params(axis='x', labelsize=9)\n",
    "    axes.tick_params(axis='y', labelsize=9)\n",
    "    \n",
    "    return axes"
   ]
  },
  {
   "cell_type": "code",
   "execution_count": 48,
   "id": "48d85f3d-415c-4ec2-9c8b-9d00d904f311",
   "metadata": {},
   "outputs": [],
   "source": [
    "def plot_ica_vw(axes,\n",
    "                  volt_v, ica_v,\n",
    "                volt_v_aged, ica_v_aged,):\n",
    "    \n",
    "    \n",
    "    mask_init = ica_v<4.48\n",
    "    mask_aged= ica_v_aged<4.48\n",
    "    axes.plot(volt_v[mask_init],ica_v[mask_init],color=VisualizationConfig.TUMblau.value)\n",
    "    axes.plot(volt_v_aged[mask_aged],ica_v_aged[mask_aged],color=VisualizationConfig.TUMorange.value)\n",
    "    \n",
    "    axes.set_ylabel(r\"$\\frac{dQ_{veh.}}{dU_{veh.}}$ in $\\frac{Ah}{V}$\",fontsize=9)\n",
    "    axes.set_xlabel(r\"Vehicle voltage in V\",fontsize=9) \n",
    "    axes.set_xlim([360,450])\n",
    "    axes.set_ylim([0,5])\n",
    "    tick_positions =np.array([0,1,2,3,4,5])\n",
    "    axes.set_yticks(tick_positions)\n",
    "    tick_positions = np.array(list(range(360,451,18)))\n",
    "    axes.set_xticks(tick_positions)\n",
    "    axes.grid(axis='both')\n",
    "    #axes.xaxis.set_minor_locator(FixedLocator([20,60,100,140]))\n",
    "    axes.set_axisbelow(True)\n",
    "    axes.tick_params('x', top=False, labeltop=False,bottom=True, labelbottom=True)\n",
    "    axes.tick_params('y', left=True, labelleft=True,right=True, labelright=False)\n",
    "    axes.tick_params(axis='x', labelsize=9)\n",
    "    axes.tick_params(axis='y', labelsize=9) \n",
    "    \n",
    "     \n",
    "    #insert axes left\n",
    "    axins = axes.inset_axes([408,2.2, 30,2.5],transform = axes.transData) # [x0, y0, width, height]\n",
    "\n",
    "    axins.plot(volt_v,ica_v,color=VisualizationConfig.TUMblau.value)\n",
    "    axins.plot(volt_v_aged,ica_v_aged,color=VisualizationConfig.TUMorange.value)\n",
    "\n",
    "    handles, labels =axins.get_legend_handles_labels()  \n",
    "    axins.legend(handles=handles,loc=\"center\",fontsize=9,ncols=1,handletextpad=0,title=\"C\",\n",
    "                 bbox_to_anchor=(435,2.55),  bbox_transform=axes.transData,\n",
    "            framealpha =1 , fancybox=False,labelspacing=0,columnspacing=0,edgecolor=\"none\",facecolor=\"none\")\n",
    "    # subregion of the original image\n",
    "    x1, x2, y1, y2 = 402, 418, 0.8, 1.8\n",
    "    axins.set_xlim(x1, x2)\n",
    "    axins.set_ylim(y1, y2)\n",
    "    axins.set_xticklabels([])\n",
    "    axins.set_yticklabels([])\n",
    "    axes.indicate_inset_zoom(axins, edgecolor=\"black\")\n",
    "    axins.tick_params('x', top=False, labeltop=False,bottom=False, labelbottom=False)\n",
    "    axins.tick_params('y', left=False, labelleft=False,right=False, labelright=False)\n",
    "    axins.annotate(text='', xy=(405,1.7), xytext=(412.5,0.9), arrowprops=dict(arrowstyle='<|-', shrinkA=0, shrinkB=0,facecolor=\"k\"))\n",
    "\n",
    "    return axes"
   ]
  },
  {
   "cell_type": "code",
   "execution_count": 49,
   "id": "fad693a5-0536-4320-a0d5-656830e837c2",
   "metadata": {},
   "outputs": [],
   "source": [
    "def plot_ica_tesla(axes,\n",
    "                  volt_v, ica_v,\n",
    "                  volt_v_aged, ica_v_aged):\n",
    "    mask_init = ica_v<175\n",
    "    mask_aged= ica_v_aged<175\n",
    "    axes.plot(volt_v[mask_init],ica_v[mask_init],color=VisualizationConfig.TUMblau.value)\n",
    "    axes.plot(volt_v_aged[mask_aged],ica_v_aged[mask_aged],color=VisualizationConfig.TUMorange.value)\n",
    "    \n",
    "    axes.set_ylabel(r\"$\\frac{dQ_{veh.}}{dU_{veh.}}$ in $\\frac{Ah}{V}$\",fontsize=9)\n",
    "    axes.set_xlabel(r\"Vehicle voltage in V\",fontsize=9) \n",
    "    axes.set_xlim([340,360])\n",
    "    axes.set_ylim([0,200])\n",
    "    tick_positions =np.array([0,50,100,150,200])\n",
    "    axes.set_yticks(tick_positions)\n",
    "    tick_positions = np.array(list(range(340,361,5)))#np.array([330,356,382])\n",
    "    axes.set_xticks(tick_positions)\n",
    "    axes.grid(axis='both')\n",
    "    #axes.xaxis.set_minor_locator(FixedLocator([20,60,100,140]))\n",
    "    axes.set_axisbelow(True)\n",
    "    axes.tick_params('x', top=False, labeltop=False,bottom=True, labelbottom=True)\n",
    "    axes.tick_params('y', left=True, labelleft=True,right=True, labelright=False)\n",
    "    axes.tick_params(axis='x', labelsize=9)\n",
    "    axes.tick_params(axis='y', labelsize=9)\n",
    "    \n",
    "    #insert axes left\n",
    "    axins = axes.inset_axes([344.4,30, 5,80],transform = axes.transData) # [x0, y0, width, height]\n",
    "\n",
    "    axins.plot(volt_v,ica_v,color=VisualizationConfig.TUMblau.value)\n",
    "    axins.plot(volt_v_aged,ica_v_aged,color=VisualizationConfig.TUMorange.value)\n",
    "    handles, labels =axins.get_legend_handles_labels()  \n",
    "    axins.legend(handles=handles,loc=\"center\",fontsize=9,ncols=1,handletextpad=0,title=\"A\",\n",
    "                 bbox_to_anchor=(345,95),  bbox_transform=axes.transData,\n",
    "            framealpha =1 , fancybox=False,labelspacing=0,columnspacing=0,edgecolor=\"none\",facecolor=\"none\")\n",
    "    \n",
    "    # subregion of the original image\n",
    "    x1, x2, y1, y2 = 342, 344.5, 0, 12\n",
    "    axins.set_xlim(x1, x2)\n",
    "    axins.set_ylim(y1, y2)\n",
    "    axins.set_xticklabels([])\n",
    "    axins.set_yticklabels([])\n",
    "    axes.indicate_inset_zoom(axins, edgecolor=\"black\")\n",
    "    axins.tick_params('x', top=False, labeltop=False,bottom=False, labelbottom=False)\n",
    "    axins.tick_params('y', left=False, labelleft=False,right=False, labelright=False)\n",
    "    axins.annotate(text='', xy=(342.3,2.7), xytext=(343.4,11.5), arrowprops=dict(arrowstyle='<|-', shrinkA=0, shrinkB=0,facecolor=\"k\"))\n",
    "\n",
    "    return axes"
   ]
  },
  {
   "cell_type": "code",
   "execution_count": 50,
   "id": "1f0db70d-8f84-44d0-bbb0-778756c8b7ad",
   "metadata": {},
   "outputs": [],
   "source": [
    "def add_FOI_ICA_VW(axes):\n",
    "    axes.annotate(text='A', xy=(371.5,2.2), xytext=(363.5,2.5),fontsize=9,\n",
    "                      arrowprops=dict(arrowstyle='-', shrinkA=0, shrinkB=0,facecolor=\"k\", mutation_scale=20))   \n",
    "    axes.annotate(text='B', xy=(394.5,4.5), xytext=(400,4.1),fontsize=9,\n",
    "                      arrowprops=dict(arrowstyle='-', shrinkA=0, shrinkB=0,facecolor=\"k\", mutation_scale=20))\n",
    "    # C is annotated in axins\n",
    "    axes.annotate(text='D', xy=(440,1.5), xytext=(441,2.3),fontsize=9,\n",
    "                      arrowprops=dict(arrowstyle='-', shrinkA=0, shrinkB=0,facecolor=\"k\", mutation_scale=20))\n",
    "    #axes.annotate(text='', xy=(363.7,0.4), xytext=(363.7,1.4),fontsize=9,\n",
    "    #                  arrowprops=dict(arrowstyle='->', shrinkA=0, shrinkB=0,facecolor=\"k\", mutation_scale=5))\n",
    "    axes.annotate(text='', xy=(446,1.5), xytext=(446,2.5),fontsize=9,\n",
    "                      arrowprops=dict(arrowstyle='->', shrinkA=0, shrinkB=0,facecolor=\"k\", mutation_scale=5))\n",
    "    return axes"
   ]
  },
  {
   "cell_type": "code",
   "execution_count": 51,
   "id": "b38c865d-36d3-44cc-8675-d77b53e2ba47",
   "metadata": {},
   "outputs": [],
   "source": [
    "def add_FOI_ICA_T(axes): \n",
    "    # A is annotated in the axins\n",
    "    axes.annotate(text='B', xy=(353,53.5), xytext=(354,70),fontsize=9,\n",
    "                      arrowprops=dict(arrowstyle='-', shrinkA=0, shrinkB=0,facecolor=\"k\", mutation_scale=20))\n",
    "    \n",
    "    axes.annotate(text='C', xy=(357,110), xytext=(358,160),fontsize=9,\n",
    "                      arrowprops=dict(arrowstyle='-', shrinkA=0, shrinkB=0,facecolor=\"k\", mutation_scale=20))\n",
    "    return axes"
   ]
  },
  {
   "cell_type": "code",
   "execution_count": 52,
   "id": "68eae19b-21b5-4dcd-9732-44638a421517",
   "metadata": {},
   "outputs": [],
   "source": [
    "def add_FOI_DVA_VW(axes):\n",
    " \n",
    "    Q_nom = 78*2\n",
    "    #anode\n",
    "    stage_2_init_dva =np.max(dva_vw[cap_vw>80])\n",
    "    stage_2_init_cap =cap_vw[dva_vw==stage_2_init_dva]\n",
    "    \n",
    "    stage_2_aged_dva =np.max(dva_vw_aged[cap_vw_aged>80])\n",
    "    stage_2_aged_cap =cap_vw_aged[dva_vw_aged==stage_2_aged_dva] + deltaQ_vw2\n",
    "    \n",
    "    axes.scatter(stage_2_init_cap,stage_2_init_dva*Q_nom,marker=\"d\",color=VisualizationConfig.TUMblau.value,s=20,zorder=5,ec=\"k\")\n",
    "    axes.scatter(stage_2_aged_cap,stage_2_aged_dva*Q_nom,marker=\"d\",color=VisualizationConfig.TUMorange.value,s=20,zorder=5,ec=\"k\")\n",
    "    \n",
    "    axes.annotate(text='', xy=(stage_2_init_cap+5,170), xytext=(stage_2_init_cap-5,170),fontsize=9,\n",
    "                      arrowprops=dict(arrowstyle='->', shrinkA=0, shrinkB=0,facecolor=\"k\", mutation_scale=5)) \n",
    "    axes.annotate(text='$\\Delta Q_{NE}=1.2Ah$', xy=(stage_2_init_cap-2,180),fontsize=9,ha=\"center\")\n",
    "    # cathode\n",
    "    c_init_dva =np.max(dva_vw[(cap_vw>120)&(cap_vw<140)])\n",
    "    c_init_cap =cap_vw[dva_vw==c_init_dva]\n",
    "    \n",
    "    c_aged_dva =np.max(dva_vw_aged[(cap_vw_aged>120)&(cap_vw_aged<130)])\n",
    "    c_aged_cap =cap_vw_aged[dva_vw_aged==c_aged_dva] + deltaQ_vw2\n",
    "    \n",
    "    axes.scatter(c_init_cap,c_init_dva*Q_nom,marker=\"o\",color=VisualizationConfig.TUMblau.value,s=20,zorder=5,ec=\"k\")\n",
    "    axes.scatter(c_aged_cap,c_aged_dva*Q_nom,marker=\"o\",color=VisualizationConfig.TUMorange.value,s=20,zorder=5,ec=\"k\")\n",
    "    \n",
    "    axes.annotate(text='', xy=(c_aged_cap+10+3,140), xytext=(c_aged_cap-10+3,140),fontsize=9,\n",
    "                      arrowprops=dict(arrowstyle='<-', shrinkA=0, shrinkB=0,facecolor=\"k\", mutation_scale=5)) \n",
    "    axes.annotate(text='$\\Delta Q_{PE}=(4.7Ah)$', xy=(c_aged_cap+2,150+2),fontsize=9,ha=\"center\",bbox=dict(boxstyle='square,pad=0',fc='white', ec='none', alpha=0.6))\n",
    "    \n",
    "    axes.annotate(text='', xy=(np.max(cap_vw),95), xytext=(np.max(cap_vw)-34,95),fontsize=9,\n",
    "                      arrowprops=dict(arrowstyle='<-', shrinkA=0, shrinkB=0,facecolor=\"k\", mutation_scale=5)) \n",
    "    axes.annotate(text='$\\Delta Q_{B}=13.3Ah$', xy=(np.max(cap_vw)-17,65),fontsize=9,ha=\"center\",bbox=dict(boxstyle='square,pad=0',fc='white', ec='none', alpha=0.6))\n",
    "\n",
    "    return axes"
   ]
  },
  {
   "cell_type": "code",
   "execution_count": 53,
   "id": "c5e446dc-7541-4c60-b3a9-1b82023bab6f",
   "metadata": {},
   "outputs": [],
   "source": [
    "def add_FOI_DVA_T(axes):\n",
    "   \n",
    "    Q_nom = 161\n",
    "    #anode\n",
    "    stage_2_init_dva_T =np.max(dva_tesla[(cap_tesla>80)&(cap_tesla<120)])\n",
    "    stage_2_init_cap_T =cap_tesla[dva_tesla==stage_2_init_dva_T]\n",
    "    \n",
    "    stage_2_aged_dva_T =np.max(dva_tesla_aged[(cap_tesla_aged>80)&(cap_tesla_aged<120)])\n",
    "    stage_2_aged_cap_T =cap_tesla_aged[dva_tesla_aged==stage_2_aged_dva_T] + deltaQ_tesla2\n",
    "    \n",
    "    axes.scatter(stage_2_init_cap_T,stage_2_init_dva_T*Q_nom,marker=\"d\",color=VisualizationConfig.TUMblau.value,s=20,zorder=5,ec=\"k\")\n",
    "    axes.scatter(stage_2_aged_cap_T,stage_2_aged_dva_T*Q_nom,marker=\"d\",color=VisualizationConfig.TUMorange.value,s=20,zorder=5,ec=\"k\")\n",
    "    \n",
    "    axes.annotate(text='', xy=(stage_2_init_cap_T+5,62), xytext=(stage_2_init_cap_T-5,62),fontsize=9,\n",
    "                      arrowprops=dict(arrowstyle='<-', shrinkA=0, shrinkB=0,facecolor=\"k\", mutation_scale=5)) \n",
    "    axes.annotate(text='$\\Delta Q_{NE}=0.2Ah$', xy=(stage_2_init_cap_T,67+1),fontsize=9,ha=\"center\",bbox=dict(boxstyle='square,pad=0',fc='white', ec='none', alpha=0.6))\n",
    "    \n",
    "    axes.annotate(text='', xy=(np.max(cap_tesla),84), xytext=(np.max(cap_tesla)-20,84),fontsize=9,\n",
    "                      arrowprops=dict(arrowstyle='<-', shrinkA=0, shrinkB=0,facecolor=\"k\", mutation_scale=5)) \n",
    "    axes.annotate(text='$\\Delta Q_{B}=4.7Ah$', xy=(np.max(cap_vw)-11,90),fontsize=9,ha=\"center\",bbox=dict(boxstyle='square,pad=0',fc='white', ec='none', alpha=0.6))\n",
    "    \n",
    "    return axes"
   ]
  },
  {
   "cell_type": "code",
   "execution_count": 54,
   "id": "e9e2ef44-babf-425a-82ca-1576d1eaf198",
   "metadata": {},
   "outputs": [
    {
     "name": "stderr",
     "output_type": "stream",
     "text": [
      "C:\\Users\\ga97req\\AppData\\Local\\anaconda3\\envs\\dva_tool\\Lib\\site-packages\\matplotlib\\text.py:1461: FutureWarning: Calling float on a single element Series is deprecated and will raise a TypeError in the future. Use float(ser.iloc[0]) instead\n",
      "  x = float(self.convert_xunits(x))\n",
      "C:\\Users\\ga97req\\AppData\\Local\\anaconda3\\envs\\dva_tool\\Lib\\site-packages\\matplotlib\\text.py:894: FutureWarning: Calling float on a single element Series is deprecated and will raise a TypeError in the future. Use float(ser.iloc[0]) instead\n",
      "  x = float(self.convert_xunits(self._x))\n",
      "C:\\Users\\ga97req\\AppData\\Local\\anaconda3\\envs\\dva_tool\\Lib\\site-packages\\matplotlib\\text.py:753: FutureWarning: Calling float on a single element Series is deprecated and will raise a TypeError in the future. Use float(ser.iloc[0]) instead\n",
      "  posx = float(self.convert_xunits(self._x))\n",
      "C:\\Users\\ga97req\\AppData\\Local\\anaconda3\\envs\\dva_tool\\Lib\\site-packages\\matplotlib\\text.py:566: FutureWarning: Calling float on a single element Series is deprecated and will raise a TypeError in the future. Use float(ser.iloc[0]) instead\n",
      "  posx = float(self.convert_xunits(self._x))\n",
      "C:\\Users\\ga97req\\AppData\\Local\\anaconda3\\envs\\dva_tool\\Lib\\site-packages\\matplotlib\\text.py:1461: FutureWarning: Calling float on a single element Series is deprecated and will raise a TypeError in the future. Use float(ser.iloc[0]) instead\n",
      "  x = float(self.convert_xunits(x))\n",
      "C:\\Users\\ga97req\\AppData\\Local\\anaconda3\\envs\\dva_tool\\Lib\\site-packages\\matplotlib\\text.py:894: FutureWarning: Calling float on a single element Series is deprecated and will raise a TypeError in the future. Use float(ser.iloc[0]) instead\n",
      "  x = float(self.convert_xunits(self._x))\n",
      "C:\\Users\\ga97req\\AppData\\Local\\anaconda3\\envs\\dva_tool\\Lib\\site-packages\\matplotlib\\text.py:753: FutureWarning: Calling float on a single element Series is deprecated and will raise a TypeError in the future. Use float(ser.iloc[0]) instead\n",
      "  posx = float(self.convert_xunits(self._x))\n",
      "C:\\Users\\ga97req\\AppData\\Local\\anaconda3\\envs\\dva_tool\\Lib\\site-packages\\matplotlib\\text.py:566: FutureWarning: Calling float on a single element Series is deprecated and will raise a TypeError in the future. Use float(ser.iloc[0]) instead\n",
      "  posx = float(self.convert_xunits(self._x))\n"
     ]
    },
    {
     "data": {
      "image/png": "[encoded data removed]",
      "text/plain": [
       "<Figure size 684.386x401.575 with 4 Axes>"
      ]
     },
     "metadata": {},
     "output_type": "display_data"
    }
   ],
   "source": [
    "heigth = 5.1 #cm\n",
    "fig, axes= plt.subplots(2,2,\n",
    "                        figsize=(VisualizationConfig.textwidth_in_in.value,\n",
    "                                2 * cm2inch(heigth)))\n",
    "\n",
    "\n",
    "axes[0][0] = plot_dva_vw(axes = axes[0][0],\n",
    "                         cap_v = cap_vw, dva_v=dva_vw,\n",
    "                         cap_v_aged = cap_vw_aged, dva_v_aged=dva_vw_aged,\n",
    "                         shift_factor =0,\n",
    "                         shift_factor_aged = deltaQ_vw2)\n",
    "\n",
    "axes[0][1] = plot_dva_tesla(axes = axes[0][1],\n",
    "                            cap_v = cap_tesla, dva_v=dva_tesla,\n",
    "                            cap_v_aged = cap_tesla_aged, dva_v_aged=dva_tesla_aged,\n",
    "                            shift_factor = 0,\n",
    "                            shift_factor_aged = deltaQ_tesla2)\n",
    "\n",
    "\n",
    "axes[1][0] = plot_ica_vw(axes[1][0],\n",
    "                              volt_v = volt_vw , ica_v = ica_vw,\n",
    "                              volt_v_aged = volt_vw_aged , ica_v_aged = ica_vw_aged)\n",
    "\n",
    "axes[1][1] = plot_ica_tesla(axes[1][1],\n",
    "                            volt_v = volt_tesla , ica_v = ica_tesla,\n",
    "                            volt_v_aged = volt_tesla_aged , ica_v_aged = ica_tesla_aged)\n",
    "\n",
    "\n",
    "\n",
    "#Text DVA VW\n",
    "axes[0,0] = add_FOI_DVA_VW(axes[0,0])\n",
    "# DVA Tesla\n",
    "axes[0,1] = add_FOI_DVA_T(axes[0,1])\n",
    "# ICA VW\n",
    "axes[1,0] = add_FOI_ICA_VW(axes[1,0])\n",
    "# ICA Tesla\n",
    "axes[1,1] = add_FOI_ICA_T(axes[1,1])\n",
    "#\n",
    "# legend\n",
    "#add legend etries\n",
    "handles, labels =axes[0][0].get_legend_handles_labels()  \n",
    "line2 = plt.hlines(0,0,1,label=r'400 km', color=VisualizationConfig.TUMblau.value)\n",
    "line3 = plt.hlines(0,0,1,label=r'32600 km',color=VisualizationConfig.TUMorange.value)\n",
    "symbol1 = plt.Line2D([0],[0],label=r'stage 2 shift',markerfacecolor=\"lightgray\",markeredgecolor=\"k\",marker=\"d\",color=\"none\",markersize=7)\n",
    "symbol2 = plt.Line2D([0],[0],label=r'H2 shift',markerfacecolor=\"lightgray\",markeredgecolor=\"k\",marker=\"o\",color=\"none\",markersize=7)\n",
    "# add manual symbols to auto legend\n",
    "handles.extend([line2,symbol1, line3,symbol2])\n",
    "lgd1= axes[0][0].legend(handles=handles,loc=\"center\",fontsize=9,ncols=2,handletextpad=0.4,\n",
    "           framealpha =1 , fancybox=False,labelspacing=0.4,columnspacing=0.7,edgecolor=\"black\",bbox_to_anchor=(0.5, 1.5),title=r\"$\\bf{VW\\ ID.3\\ Pro\\ Performance}$\",alignment='center')\n",
    "\n",
    "handles, labels =axes[0][1].get_legend_handles_labels()  \n",
    "line3 = plt.hlines(0,0,1,label=r'1000 km', color=VisualizationConfig.TUMblau.value)\n",
    "line4 = plt.hlines(0,0,1,label=r'26300 km',color=VisualizationConfig.TUMorange.value)\n",
    "# add manual symbols to auto legend\n",
    "handles.extend([line3,symbol1,line4])\n",
    "lgd2 = axes[0][1].legend(handles=handles,loc=\"center\",fontsize=9,ncols=2,handletextpad=0.4,\n",
    "           framealpha =1 , fancybox=False,labelspacing=0.4,columnspacing=0.7,edgecolor=\"black\",bbox_to_anchor=(0.5, 1.5),title=r\"$\\bf{Tesla\\ Model\\ 3\\ Standard\\ Range\\ Plus}$\",alignment='center')\n",
    "\n",
    "fig.align_ylabels([axes[0][0],axes[1][0]])\n",
    "fig.align_ylabels([axes[0][1],axes[1][1]])\n",
    "plt.tight_layout()\n",
    "\n",
    "axes[0][0].text(-0.1, 1.2, r'a)', horizontalalignment='center',fontsize=9,\n",
    "     verticalalignment='center', transform=axes[0][0].transAxes)\n",
    "axes[0][1].text(-0.1, 1.2, r'b)', horizontalalignment='center',fontsize=9,\n",
    "     verticalalignment='center', transform=axes[0][1].transAxes)\n",
    "axes[1][0].text(-0.1, 1.2, r'c)', horizontalalignment='center',fontsize=9,\n",
    "     verticalalignment='center', transform=axes[1][0].transAxes)\n",
    "axes[1][1].text(-0.1, 1.2, r'd)', horizontalalignment='center',fontsize=9,\n",
    "     verticalalignment='center', transform=axes[1][1].transAxes)\n",
    "\n",
    "fig.savefig(os.path.join(GeneralConfig.path2figures.value,\"05-POCV_DVA_ICA_VW_Tesla_aging.pdf\"),bbox_extra_artists=(lgd1,lgd2)) \n",
    "fig.savefig(os.path.join(GeneralConfig.path2figures.value,\"05-POCV_DVA_ICA_VW_Tesla_aging.png\"),dpi=300,bbox_extra_artists=(lgd1,lgd2)) "
   ]
  },
  {
   "cell_type": "code",
   "execution_count": 94,
   "id": "baa22e21-b37b-4bb0-92b1-09f3458e8b29",
   "metadata": {},
   "outputs": [
    {
     "data": {
      "text/plain": [
       "0.7494506273972289"
      ]
     },
     "execution_count": 94,
     "metadata": {},
     "output_type": "execute_result"
    }
   ],
   "source": [
    "deltaQ_vw2"
   ]
  },
  {
   "cell_type": "code",
   "execution_count": 95,
   "id": "5e95bcbc-7cd3-44c3-a5f4-e4c4fe4ff5ee",
   "metadata": {},
   "outputs": [
    {
     "data": {
      "text/plain": [
       "0.44811715298590266"
      ]
     },
     "execution_count": 95,
     "metadata": {},
     "output_type": "execute_result"
    }
   ],
   "source": [
    "deltaQ_tesla2"
   ]
  },
  {
   "cell_type": "markdown",
   "id": "b2be715f-68d5-43f5-83f9-867f100c4d27",
   "metadata": {},
   "source": [
    "## DVA Features VW"
   ]
  },
  {
   "cell_type": "markdown",
   "id": "853c8d09-cb73-4318-9a2c-ef612eadf202",
   "metadata": {},
   "source": [
    "### total capacity loss"
   ]
  },
  {
   "cell_type": "code",
   "execution_count": 96,
   "id": "8df89bfd-3171-4261-a144-5b6801ebcf08",
   "metadata": {},
   "outputs": [
    {
     "data": {
      "text/plain": [
       "0.7494506273972289"
      ]
     },
     "execution_count": 96,
     "metadata": {},
     "output_type": "execute_result"
    }
   ],
   "source": [
    "deltaQ_vw2"
   ]
  },
  {
   "cell_type": "code",
   "execution_count": 97,
   "id": "3fa68bac-6355-4bc4-b470-4e20a09e6e38",
   "metadata": {},
   "outputs": [
    {
     "name": "stdout",
     "output_type": "stream",
     "text": [
      "148.86\n"
     ]
    }
   ],
   "source": [
    "print(round(np.max(cap_vw),2))"
   ]
  },
  {
   "cell_type": "code",
   "execution_count": 98,
   "id": "25447b45-c64d-428f-9fe5-65783c9579fa",
   "metadata": {},
   "outputs": [
    {
     "name": "stdout",
     "output_type": "stream",
     "text": [
      "135.96\n"
     ]
    }
   ],
   "source": [
    "print(round(np.max(cap_vw_aged),2))"
   ]
  },
  {
   "cell_type": "code",
   "execution_count": 99,
   "id": "e62bbce0-f055-4fbb-af7a-1471f55fd8d7",
   "metadata": {},
   "outputs": [
    {
     "name": "stdout",
     "output_type": "stream",
     "text": [
      "12.15\n"
     ]
    }
   ],
   "source": [
    "dQ =round(np.max(cap_vw),2)-round(np.max(cap_vw_aged),2) - round(np.max(deltaQ_vw2),2) #the deltaQ from the shift must also be considered\n",
    "print(round(dQ,2))"
   ]
  },
  {
   "cell_type": "markdown",
   "id": "4186e087-7682-43aa-908b-7e48cdc07c78",
   "metadata": {},
   "source": [
    "### VW init anode and balancing features"
   ]
  },
  {
   "cell_type": "code",
   "execution_count": 100,
   "id": "6c2fe73c-8e13-4ea7-8c37-4115f57c60ed",
   "metadata": {},
   "outputs": [],
   "source": [
    "stage_2_init_dva =np.max(dva_vw[cap_vw>80])\n",
    "stage_2_init_cap =cap_vw[dva_vw==stage_2_init_dva]"
   ]
  },
  {
   "cell_type": "code",
   "execution_count": 101,
   "id": "f9e68ab5-1c60-4a69-9fed-c6426d22fd84",
   "metadata": {},
   "outputs": [
    {
     "name": "stdout",
     "output_type": "stream",
     "text": [
      "85.72\n"
     ]
    }
   ],
   "source": [
    "QA_init = round(stage_2_init_cap.values[0],2)\n",
    "print(round(QA_init,2))"
   ]
  },
  {
   "cell_type": "code",
   "execution_count": 102,
   "id": "8253234a-dbe2-4f68-a3d3-0c8a294cba7b",
   "metadata": {},
   "outputs": [
    {
     "name": "stdout",
     "output_type": "stream",
     "text": [
      "63.14\n"
     ]
    }
   ],
   "source": [
    "QB_init = np.max(cap_vw)-QA_init\n",
    "print(round(QB_init,2))"
   ]
  },
  {
   "cell_type": "markdown",
   "id": "8a3ce8c7-a56e-402a-9138-a35043ae4395",
   "metadata": {},
   "source": [
    "### VW aged anode and balancing features"
   ]
  },
  {
   "cell_type": "code",
   "execution_count": 103,
   "id": "4745346c-691e-4c93-84c9-6e3b0055c801",
   "metadata": {},
   "outputs": [],
   "source": [
    "stage_2_aged_dva =np.max(dva_vw_aged[cap_vw_aged>80])\n",
    "stage_2_aged_cap =cap_vw_aged[dva_vw_aged==stage_2_aged_dva]"
   ]
  },
  {
   "cell_type": "code",
   "execution_count": 104,
   "id": "62801af7-5d35-40f4-bd34-74f89ead49c2",
   "metadata": {},
   "outputs": [
    {
     "name": "stdout",
     "output_type": "stream",
     "text": [
      "86.14\n"
     ]
    }
   ],
   "source": [
    "QA_aged = round(stage_2_aged_cap.values[0],2)\n",
    "print(round(QA_aged,2))"
   ]
  },
  {
   "cell_type": "code",
   "execution_count": 105,
   "id": "adbd465c-ff2a-4ff3-8abe-73a5d06c2071",
   "metadata": {},
   "outputs": [
    {
     "name": "stdout",
     "output_type": "stream",
     "text": [
      "49.82\n"
     ]
    }
   ],
   "source": [
    "QB_aged = round(np.max(cap_vw_aged)-QA_aged,2)\n",
    "print(round(QB_aged,2))"
   ]
  },
  {
   "cell_type": "markdown",
   "id": "9c6b45b4-c568-4230-a04d-d0c81241a629",
   "metadata": {},
   "source": [
    "### Feature shift anode and balancing"
   ]
  },
  {
   "cell_type": "code",
   "execution_count": 106,
   "id": "cdb8f3c9-e001-4e73-b9ee-e9b6edeefd7b",
   "metadata": {},
   "outputs": [
    {
     "name": "stdout",
     "output_type": "stream",
     "text": [
      "-1.17\n"
     ]
    }
   ],
   "source": [
    "dQA = round(np.max(QA_init),2) -  round(np.max(QA_aged),2) - round(np.max(deltaQ_vw2),2)\n",
    "print(round(dQA,2))"
   ]
  },
  {
   "cell_type": "code",
   "execution_count": 107,
   "id": "7c311e32-ad78-4ed6-9711-1cadd80daadc",
   "metadata": {},
   "outputs": [
    {
     "name": "stdout",
     "output_type": "stream",
     "text": [
      "13.32\n"
     ]
    }
   ],
   "source": [
    "dQB = round(np.max(QB_init),2) -  round(np.max(QB_aged),2)  # the delta offset is already added in dQA\n",
    "print(round(dQB,2))"
   ]
  },
  {
   "cell_type": "code",
   "execution_count": 108,
   "id": "586a51e9-d99b-4bb7-b7ac-73fffcf9d648",
   "metadata": {},
   "outputs": [
    {
     "data": {
      "text/plain": [
       "12.15"
      ]
     },
     "execution_count": 108,
     "metadata": {},
     "output_type": "execute_result"
    }
   ],
   "source": [
    "round(dQA+dQB,2) # apporximately the whole capacity loss, diff of 0.1Ah due to rounding effects"
   ]
  },
  {
   "cell_type": "markdown",
   "id": "d64b36ce-b264-47ce-8a73-4d5853bd4ff5",
   "metadata": {},
   "source": [
    "### VW init cathode features"
   ]
  },
  {
   "cell_type": "code",
   "execution_count": 109,
   "id": "d611fb19-9f93-4d68-8ae8-76dd2c32235c",
   "metadata": {},
   "outputs": [],
   "source": [
    "c_init_dva =np.max(dva_vw[(cap_vw>120)&(cap_vw<140)])\n",
    "c_init_cap =cap_vw[dva_vw==c_init_dva]"
   ]
  },
  {
   "cell_type": "code",
   "execution_count": 110,
   "id": "5c67b73f-ccfd-4273-9e57-3edb76960e25",
   "metadata": {},
   "outputs": [
    {
     "name": "stdout",
     "output_type": "stream",
     "text": [
      "15.43\n"
     ]
    }
   ],
   "source": [
    "QC_init = round(np.max(cap_vw),2)-round(np.max(c_init_cap),2)\n",
    "print(round(QC_init,2))"
   ]
  },
  {
   "cell_type": "code",
   "execution_count": 111,
   "id": "9f323be4-f003-402f-baa2-19c8d53a0548",
   "metadata": {},
   "outputs": [
    {
     "name": "stdout",
     "output_type": "stream",
     "text": [
      "47.71\n"
     ]
    }
   ],
   "source": [
    "Q_LLI_init =  round(np.max(QB_init),2)-round(np.max(QC_init),2)\n",
    "print(round(Q_LLI_init,2))"
   ]
  },
  {
   "cell_type": "markdown",
   "id": "8d52ad63-03da-4044-a8c7-0a668be63dde",
   "metadata": {},
   "source": [
    "### VW aged cathode features"
   ]
  },
  {
   "cell_type": "code",
   "execution_count": 112,
   "id": "98d11078-7782-439b-ac71-6793c9595063",
   "metadata": {},
   "outputs": [],
   "source": [
    "c_aged_dva =np.max(dva_vw_aged[(cap_vw_aged>120)&(cap_vw_aged<130)])\n",
    "c_aged_cap =cap_vw_aged[dva_vw_aged==c_aged_dva]"
   ]
  },
  {
   "cell_type": "code",
   "execution_count": 113,
   "id": "4190a357-a0ef-4357-8eaa-f5ffd49e55fb",
   "metadata": {},
   "outputs": [
    {
     "name": "stdout",
     "output_type": "stream",
     "text": [
      "9.99\n"
     ]
    }
   ],
   "source": [
    "QC_aged = round(np.max(cap_vw_aged),2)-round(np.max(c_aged_cap),2)\n",
    "print(round(QC_aged,2))"
   ]
  },
  {
   "cell_type": "code",
   "execution_count": 114,
   "id": "867dcc19-b531-4c38-9d01-f45920a7b4fc",
   "metadata": {},
   "outputs": [
    {
     "name": "stdout",
     "output_type": "stream",
     "text": [
      "39.83\n"
     ]
    }
   ],
   "source": [
    "Q_LLI_aged =  round(np.max(QB_aged),2)-round(np.max(QC_aged),2)\n",
    "print(round(Q_LLI_aged,2))"
   ]
  },
  {
   "cell_type": "markdown",
   "id": "04facab6-8b3a-4215-9c88-9d5f42cbdbca",
   "metadata": {},
   "source": [
    "### Feature shift cathode"
   ]
  },
  {
   "cell_type": "code",
   "execution_count": 115,
   "id": "d76507ac-c459-49d9-8fc0-bf23e3a0b0ba",
   "metadata": {},
   "outputs": [
    {
     "name": "stdout",
     "output_type": "stream",
     "text": [
      "4.69\n"
     ]
    }
   ],
   "source": [
    "dQC = round(np.max(QC_init),2) -  round(np.max(QC_aged),2)  - round(np.max(deltaQ_vw2),2)\n",
    "print(round(dQC,2))"
   ]
  },
  {
   "cell_type": "code",
   "execution_count": 116,
   "id": "9b982984-e06f-416d-b77a-469a61ac71c7",
   "metadata": {},
   "outputs": [
    {
     "name": "stdout",
     "output_type": "stream",
     "text": [
      "44.52\n"
     ]
    }
   ],
   "source": [
    "Q_LLI_aged_fixed =  round(np.max(QB_aged),2)-round(np.max(QC_aged),2)+round(np.max(dQC),2)\n",
    "print(round(Q_LLI_aged_fixed,2))"
   ]
  },
  {
   "cell_type": "code",
   "execution_count": 117,
   "id": "bd949eb8-fad6-4e5a-a7da-33647ee92eae",
   "metadata": {},
   "outputs": [
    {
     "name": "stdout",
     "output_type": "stream",
     "text": [
      "7.88\n"
     ]
    }
   ],
   "source": [
    "false_capacity_loss_due_to_LLI = Q_LLI_init-Q_LLI_aged\n",
    "print(round(false_capacity_loss_due_to_LLI,2))"
   ]
  },
  {
   "cell_type": "code",
   "execution_count": 118,
   "id": "7445d840-e01b-4330-ab89-b2ec9b268eae",
   "metadata": {},
   "outputs": [
    {
     "name": "stdout",
     "output_type": "stream",
     "text": [
      "3.19\n"
     ]
    }
   ],
   "source": [
    "actual_capacity_loss_due_to_LLI = Q_LLI_init-Q_LLI_aged_fixed\n",
    "print(round(actual_capacity_loss_due_to_LLI,2))"
   ]
  },
  {
   "cell_type": "code",
   "execution_count": 119,
   "id": "ebea32e8-04a2-47e4-b0eb-1b2e73f4c83c",
   "metadata": {},
   "outputs": [
    {
     "name": "stdout",
     "output_type": "stream",
     "text": [
      "8.96\n"
     ]
    }
   ],
   "source": [
    "missing_Q_due_to_v_limits = dQ-actual_capacity_loss_due_to_LLI\n",
    "print(round(missing_Q_due_to_v_limits,2))"
   ]
  },
  {
   "cell_type": "markdown",
   "id": "fe0ee6f5-2f3f-4942-93db-f8b587a99d81",
   "metadata": {},
   "source": [
    "This is the estimated actual loss of capacity is 3.19 Ah. We assume that if the voltage boundaries were reached further 8.96 Ah are charged into the vehicle."
   ]
  },
  {
   "cell_type": "code",
   "execution_count": 120,
   "id": "f6d8fcb5-f921-4bb0-a356-3df2e42b7aa3",
   "metadata": {},
   "outputs": [
    {
     "data": {
      "text/plain": [
       "<matplotlib.collections.PathCollection at 0x21ad4366650>"
      ]
     },
     "execution_count": 120,
     "metadata": {},
     "output_type": "execute_result"
    },
    {
     "data": {
      "image/png": "[encoded data removed]",
      "text/plain": [
       "<Figure size 640x480 with 1 Axes>"
      ]
     },
     "metadata": {},
     "output_type": "display_data"
    }
   ],
   "source": [
    "plt.plot(cap_vw,dva_vw*156)\n",
    "plt.plot(cap_vw_aged+deltaQ_vw2,dva_vw_aged*156)\n",
    "plt.ylim([0,216])\n",
    "\n",
    "plt.scatter(stage_2_init_cap,stage_2_init_dva*156)\n",
    "plt.scatter(stage_2_aged_cap+deltaQ_vw2,stage_2_aged_dva*156)\n",
    "\n",
    "plt.scatter(c_init_cap,c_init_dva*156)\n",
    "plt.scatter(c_aged_cap,c_aged_dva*156)"
   ]
  },
  {
   "cell_type": "markdown",
   "id": "ff808872-b6b0-403a-9f8f-c6600dc3a31a",
   "metadata": {},
   "source": [
    "## DVA Features Tesla"
   ]
  },
  {
   "cell_type": "markdown",
   "id": "3922b6d8-8177-40bd-a899-8bcc9b468437",
   "metadata": {},
   "source": [
    "### total capacity loss"
   ]
  },
  {
   "cell_type": "code",
   "execution_count": 121,
   "id": "ec52ad3f-6dbc-4e4e-a0aa-726535cc8004",
   "metadata": {},
   "outputs": [
    {
     "data": {
      "text/plain": [
       "0.44811715298590266"
      ]
     },
     "execution_count": 121,
     "metadata": {},
     "output_type": "execute_result"
    }
   ],
   "source": [
    "deltaQ_tesla2"
   ]
  },
  {
   "cell_type": "code",
   "execution_count": 122,
   "id": "e58f3829-05dc-412b-ba22-593be57b1853",
   "metadata": {},
   "outputs": [
    {
     "name": "stdout",
     "output_type": "stream",
     "text": [
      "160.79\n"
     ]
    }
   ],
   "source": [
    "print(round(np.max(cap_tesla),2))"
   ]
  },
  {
   "cell_type": "code",
   "execution_count": 123,
   "id": "01058f07-685e-4c18-ae99-8dbd7e98c29b",
   "metadata": {},
   "outputs": [
    {
     "name": "stdout",
     "output_type": "stream",
     "text": [
      "155.45\n"
     ]
    }
   ],
   "source": [
    "print(round(np.max(cap_tesla_aged),2))"
   ]
  },
  {
   "cell_type": "code",
   "execution_count": 124,
   "id": "a5f1013b-a3fa-4d94-bddb-1b5b29099947",
   "metadata": {},
   "outputs": [
    {
     "name": "stdout",
     "output_type": "stream",
     "text": [
      "4.89\n"
     ]
    }
   ],
   "source": [
    "dQ_T =round(np.max(cap_tesla),2)-round(np.max(cap_tesla_aged),2) - round(np.max(deltaQ_tesla2),2) #the deltaQ from the shift must also be considered\n",
    "print(round(dQ_T,2))"
   ]
  },
  {
   "cell_type": "markdown",
   "id": "69b4d606-1b03-45cd-8c55-322ab21da7d7",
   "metadata": {},
   "source": [
    "### Tesla init anode and balancing features"
   ]
  },
  {
   "cell_type": "code",
   "execution_count": 125,
   "id": "8cb50168-8171-46b4-b964-b113611ca37e",
   "metadata": {},
   "outputs": [],
   "source": [
    "stage_2_init_dva_T =np.max(dva_tesla[(cap_tesla>80)&(cap_tesla<120)])\n",
    "stage_2_init_cap_T =cap_tesla[dva_tesla==stage_2_init_dva_T]"
   ]
  },
  {
   "cell_type": "code",
   "execution_count": 126,
   "id": "a2dca42d-f022-414a-ad5d-056b7466a02c",
   "metadata": {},
   "outputs": [
    {
     "name": "stdout",
     "output_type": "stream",
     "text": [
      "94.79\n"
     ]
    }
   ],
   "source": [
    "QA_init_T = round(stage_2_init_cap_T.values[0],2)\n",
    "print(round(QA_init_T,2))"
   ]
  },
  {
   "cell_type": "code",
   "execution_count": 127,
   "id": "3662fbe3-a965-435c-9c6b-0149daa14349",
   "metadata": {},
   "outputs": [
    {
     "name": "stdout",
     "output_type": "stream",
     "text": [
      "66.0\n"
     ]
    }
   ],
   "source": [
    "QB_init_T = np.max(cap_tesla)-QA_init_T\n",
    "print(round(QB_init_T,2))"
   ]
  },
  {
   "cell_type": "markdown",
   "id": "9d824e42-d7a3-430d-8ade-45e11bc4a3b5",
   "metadata": {},
   "source": [
    "### Tesla aged anode and balancing features"
   ]
  },
  {
   "cell_type": "code",
   "execution_count": 128,
   "id": "65129156-9d85-4410-8085-877297b13b33",
   "metadata": {},
   "outputs": [],
   "source": [
    "stage_2_aged_dva_T =np.max(dva_tesla_aged[(cap_tesla_aged>80)&(cap_tesla_aged<120)])\n",
    "stage_2_aged_cap_T =cap_tesla_aged[dva_tesla_aged==stage_2_aged_dva_T]"
   ]
  },
  {
   "cell_type": "code",
   "execution_count": 129,
   "id": "6c77cf96-75d1-4240-97f9-135ea6d42e97",
   "metadata": {},
   "outputs": [
    {
     "name": "stdout",
     "output_type": "stream",
     "text": [
      "94.17\n"
     ]
    }
   ],
   "source": [
    "QA_aged_T = round(stage_2_aged_cap_T.values[0],2)\n",
    "print(round(QA_aged_T,2))"
   ]
  },
  {
   "cell_type": "code",
   "execution_count": 130,
   "id": "568e7f98-85ab-42f2-9e0b-ca2cdb8d7aea",
   "metadata": {},
   "outputs": [
    {
     "name": "stdout",
     "output_type": "stream",
     "text": [
      "61.28\n"
     ]
    }
   ],
   "source": [
    "QB_aged_T = np.max(cap_tesla_aged)-QA_aged_T\n",
    "print(round(QB_aged_T,2))"
   ]
  },
  {
   "cell_type": "markdown",
   "id": "48f15f52-1c05-46aa-962c-c88763642398",
   "metadata": {},
   "source": [
    "### Feature shift anode and balancing"
   ]
  },
  {
   "cell_type": "code",
   "execution_count": 131,
   "id": "2578aaad-adb7-4f98-a1aa-606465c44fc8",
   "metadata": {},
   "outputs": [
    {
     "name": "stdout",
     "output_type": "stream",
     "text": [
      "0.17\n"
     ]
    }
   ],
   "source": [
    "dQA_T = round(np.max(QA_init_T),2) -  round(np.max(QA_aged_T),2) - round(np.max(deltaQ_tesla2),2)\n",
    "print(round(dQA_T,2))"
   ]
  },
  {
   "cell_type": "code",
   "execution_count": 132,
   "id": "1bce67be-82d6-4be7-a37b-dbcaedf78d86",
   "metadata": {},
   "outputs": [
    {
     "name": "stdout",
     "output_type": "stream",
     "text": [
      "4.72\n"
     ]
    }
   ],
   "source": [
    "dQB_T = round(np.max(QB_init_T),2) -  round(np.max(QB_aged_T),2)  # the delta offset is already added in dQA\n",
    "print(round(dQB_T,2))"
   ]
  },
  {
   "cell_type": "code",
   "execution_count": 133,
   "id": "2eda1e86-900c-4887-9872-de9772230553",
   "metadata": {},
   "outputs": [
    {
     "data": {
      "text/plain": [
       "4.89"
      ]
     },
     "execution_count": 133,
     "metadata": {},
     "output_type": "execute_result"
    }
   ],
   "source": [
    "round(dQA_T+dQB_T,2)"
   ]
  },
  {
   "cell_type": "code",
   "execution_count": null,
   "id": "790c313a-c448-41c3-8882-7e881949632c",
   "metadata": {},
   "outputs": [],
   "source": []
  },
  {
   "cell_type": "code",
   "execution_count": null,
   "id": "ad6504a8-df52-44e6-aa3c-e64202751b72",
   "metadata": {},
   "outputs": [],
   "source": []
  }
 ],
 "metadata": {
  "kernelspec": {
   "display_name": "Python 3 (ipykernel)",
   "language": "python",
   "name": "python3"
  },
  "language_info": {
   "codemirror_mode": {
    "name": "ipython",
    "version": 3
   },
   "file_extension": ".py",
   "mimetype": "text/x-python",
   "name": "python",
   "nbconvert_exporter": "python",
   "pygments_lexer": "ipython3",
   "version": "3.11.9"
  }
 },
 "nbformat": 4,
 "nbformat_minor": 5
}
