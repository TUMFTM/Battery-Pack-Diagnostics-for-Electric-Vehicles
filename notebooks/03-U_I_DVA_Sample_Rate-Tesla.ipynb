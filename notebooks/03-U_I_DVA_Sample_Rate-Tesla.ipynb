{
 "cells": [
  {
   "cell_type": "markdown",
   "id": "6bd31ece-561a-42d8-aa23-1ac09d479de6",
   "metadata": {},
   "source": [
    "# Analyze the Sample Rate of the Signals"
   ]
  },
  {
   "cell_type": "code",
   "execution_count": 1,
   "id": "142155de-4659-4ee7-bfa3-71861fb7d627",
   "metadata": {},
   "outputs": [],
   "source": [
    "import os\n",
    "import sys\n",
    "import math\n",
    "sys.path.append(os.path.join(os.getcwd().partition('Code')[0], \"Code\"))\n",
    "from src.config_base import GeneralConfig"
   ]
  },
  {
   "cell_type": "code",
   "execution_count": 2,
   "id": "d339dc8a-434e-4e30-920e-17a398b17e91",
   "metadata": {},
   "outputs": [],
   "source": [
    "import pandas as pd\n",
    "\n",
    "import numpy as np\n",
    "import matplotlib.pyplot as plt\n",
    "import matplotlib.ticker as ticker\n",
    "from matplotlib.ticker import FormatStrFormatter\n",
    "from matplotlib.ticker import AutoMinorLocator, FixedLocator\n",
    "from matplotlib.lines import Line2D\n",
    "import matplotlib.gridspec as gridspec"
   ]
  },
  {
   "cell_type": "code",
   "execution_count": 3,
   "id": "3ad84777-97c2-4383-858c-1a3651e4b590",
   "metadata": {},
   "outputs": [],
   "source": [
    "from src.data.read_pickle import ReadPickle\n",
    "from src.filtering.filter_methods import FilterMethods\n",
    "from src.voltage_capacity_analysis.ica import ICA\n",
    "from src.voltage_capacity_analysis.dva import DVA\n",
    "from src.visualization.config_visualization import VisualizationConfig, instantiate_matplotlib_parameters, cm2inch\n",
    "instantiate_matplotlib_parameters()\n",
    "from src.visualization.colormaps import ColorMaps\n",
    "from src.utils.bode_utils import Bode\n",
    "from bode_utils import set_log_ticks"
   ]
  },
  {
   "cell_type": "code",
   "execution_count": 4,
   "id": "75acc803-939f-439d-a9f3-a2ea4b37f431",
   "metadata": {},
   "outputs": [
    {
     "data": {
      "image/png": "[encoded data removed]",
      "text/html": [
       "<div style=\"vertical-align: middle;\"><strong>tum_orange_blue</strong> </div><div class=\"cmap\"><img alt=\"tum_orange_blue colormap\" title=\"tum_orange_blue\" style=\"border: 1px solid #555;\" src=\"data:image/png;base64,iVBORw0KGgoAAAANSUhEUgAAAgAAAABACAYAAABsv8+/AAAAHnRFWHRUaXRsZQB0dW1fb3JhbmdlX2JsdWUgY29sb3JtYXDqIpipAAAAJHRFWHREZXNjcmlwdGlvbgB0dW1fb3JhbmdlX2JsdWUgY29sb3JtYXAgnnHGAAAAMHRFWHRBdXRob3IATWF0cGxvdGxpYiB2My44LjQsIGh0dHBzOi8vbWF0cGxvdGxpYi5vcmdkzrK0AAAAMnRFWHRTb2Z0d2FyZQBNYXRwbG90bGliIHYzLjguNCwgaHR0cHM6Ly9tYXRwbG90bGliLm9yZ0poLZMAAAHUSURBVHic7dZLTsMwFEBRh72yTNZmBrSVmmLSUj6De84kSkycpzQSdxuvb3OMMbYxx8dxjE/Pt4P18/l2sP5f+x3sc/ay2OeyvpjrZn0313L9fP/25Ppl/uvr22Vlnu6/nuv5937v3/317/3s835prnv3+6PnjcV943J+Os6D9eV3uVif+/X9HNfH2zm/N9dynt1+R3Mdzj0P5r5z3tt5HnzP+7nn59cfnm+3z7fnm7v5FnM/Otfj3+fuuT/1fR6+99U8i/X59frd3+fp+vn/AQAQIgAAIEgAAECQAACAIAEAAEECAACCBAAABAkAAAgSAAAQJAAAIEgAAECQAACAIAEAAEECAACCBAAABAkAAAgSAAAQJAAAIEgAAECQAACAIAEAAEECAACCBAAABAkAAAgSAAAQJAAAIEgAAECQAACAIAEAAEECAACCBAAABAkAAAgSAAAQJAAAIEgAAECQAACAIAEAAEECAACCBAAABAkAAAgSAAAQJAAAIEgAAECQAACAIAEAAEECAACCBAAABAkAAAgSAAAQJAAAIEgAAECQAACAIAEAAEECAACCBAAABAkAAAgSAAAQJAAAIEgAAECQAACAIAEAAEECAACCBAAABL0D1huq9hb1rQgAAAAASUVORK5CYII=\"></div><div style=\"vertical-align: middle; max-width: 514px; display: flex; justify-content: space-between;\"><div style=\"float: left;\"><div title=\"#0065bdff\" style=\"display: inline-block; width: 1em; height: 1em; margin: 0; vertical-align: middle; border: 1px solid #555; background-color: #0065bdff;\"></div> under</div><div style=\"margin: 0 auto; display: inline-block;\">bad <div title=\"#00000000\" style=\"display: inline-block; width: 1em; height: 1em; margin: 0; vertical-align: middle; border: 1px solid #555; background-color: #00000000;\"></div></div><div style=\"float: right;\">over <div title=\"#e37222ff\" style=\"display: inline-block; width: 1em; height: 1em; margin: 0; vertical-align: middle; border: 1px solid #555; background-color: #e37222ff;\"></div></div>"
      ],
      "text/plain": [
       "<matplotlib.colors.ListedColormap at 0x24f47cdd310>"
      ]
     },
     "execution_count": 4,
     "metadata": {},
     "output_type": "execute_result"
    }
   ],
   "source": [
    "tum_cmap = ColorMaps.blue_orange_tum(grayscale=0.5)\n",
    "colors = tum_cmap(np.linspace(0,1, 7))\n",
    "ind_colors = [0,1,2,-1,-2,-3]\n",
    "tum_cmap"
   ]
  },
  {
   "cell_type": "markdown",
   "id": "d955ac47-b57b-42cd-895a-ffa2fe542ce0",
   "metadata": {},
   "source": [
    "## Read VW Cell File"
   ]
  },
  {
   "cell_type": "code",
   "execution_count": 5,
   "id": "6a4f1cff-38f1-4175-9baf-b033b21e760f",
   "metadata": {},
   "outputs": [],
   "source": [
    "path2files = os.path.join(GeneralConfig.path2data.value,\"Tesla\",\"vehicle\")"
   ]
  },
  {
   "cell_type": "code",
   "execution_count": 6,
   "id": "fcffd5d2-b080-4291-9513-ebc0cc026bd2",
   "metadata": {
    "tags": []
   },
   "outputs": [],
   "source": [
    "def filter_func_preprocess_U(signal):\n",
    "    perc_filter = 2/100 * len(signal) #% filter\n",
    "    filtered_signal = FilterMethods().rolling_mean_df(signal,window_size=FilterMethods().round_to_next_odd_number(perc_filter))\n",
    "    #filtered_signal = FilterMethods().savgol(signal,window_size=FilterMethods().round_to_next_odd_number(perc_filter/100 * len(signal)))\n",
    "    return filtered_signal"
   ]
  },
  {
   "cell_type": "code",
   "execution_count": 7,
   "id": "fce15b23-d71e-445c-8da3-c757c7e1fd4c",
   "metadata": {},
   "outputs": [],
   "source": [
    "def filter_func_preprocess_Q(signal):\n",
    "    perc_filter = 2/100 * len(signal) #% filter\n",
    "    filtered_signal = FilterMethods().rolling_mean_df(signal,window_size=FilterMethods().round_to_next_odd_number(perc_filter))\n",
    "    #filtered_signal = FilterMethods().savgol(signal,window_size=FilterMethods().round_to_next_odd_number(perc_filter/100 * len(signal)))\n",
    "    return filtered_signal"
   ]
  },
  {
   "cell_type": "code",
   "execution_count": 8,
   "id": "135960a2-6dca-4029-a41a-e7032fce2ab2",
   "metadata": {},
   "outputs": [],
   "source": [
    "read_pickle = ReadPickle()\n",
    "read_pickle.set_filter_U(filter_func_preprocess_U)\n",
    "read_pickle.set_filter_Q(filter_func_preprocess_Q)"
   ]
  },
  {
   "cell_type": "code",
   "execution_count": 9,
   "id": "0d4f40bb-7496-48c6-bd1b-3906b084d8f1",
   "metadata": {},
   "outputs": [],
   "source": [
    "vehicle = \"Tesla_JB_8A_CEE7_C57_2021.pkl\""
   ]
  },
  {
   "cell_type": "code",
   "execution_count": 10,
   "id": "22f87431-6ff4-4822-971f-66868f4ad6ad",
   "metadata": {},
   "outputs": [],
   "source": [
    "df_1 =  read_pickle.read(os.path.join(path2files,vehicle)) # alle 10s"
   ]
  },
  {
   "cell_type": "code",
   "execution_count": 11,
   "id": "5468ed03-272b-4af2-bbe8-324c9025c2bd",
   "metadata": {},
   "outputs": [
    {
     "data": {
      "text/plain": [
       "10.0"
      ]
     },
     "execution_count": 11,
     "metadata": {},
     "output_type": "execute_result"
    }
   ],
   "source": [
    "df_1.time_s.diff().mean()"
   ]
  },
  {
   "cell_type": "code",
   "execution_count": 12,
   "id": "cb43090e-4d75-473f-8ac0-af19ae19c416",
   "metadata": {},
   "outputs": [],
   "source": [
    "df_2 =  read_pickle.read(os.path.join(path2files,vehicle),resample=60) "
   ]
  },
  {
   "cell_type": "code",
   "execution_count": 13,
   "id": "1d8ce08b-5d73-49e6-a23d-5930baf073fe",
   "metadata": {},
   "outputs": [
    {
     "data": {
      "text/plain": [
       "60.0"
      ]
     },
     "execution_count": 13,
     "metadata": {},
     "output_type": "execute_result"
    }
   ],
   "source": [
    "df_2.time_s.diff().mean()"
   ]
  },
  {
   "cell_type": "code",
   "execution_count": 14,
   "id": "940a16e2-7265-4781-ad78-797d3a30d116",
   "metadata": {},
   "outputs": [],
   "source": [
    "df_3 =  read_pickle.read(os.path.join(path2files,vehicle),resample=5*60) "
   ]
  },
  {
   "cell_type": "code",
   "execution_count": 15,
   "id": "a71fee19-afec-4b23-a5b2-b9b8a5d737d2",
   "metadata": {
    "tags": []
   },
   "outputs": [
    {
     "data": {
      "text/plain": [
       "300.0"
      ]
     },
     "execution_count": 15,
     "metadata": {},
     "output_type": "execute_result"
    }
   ],
   "source": [
    "df_3.time_s.diff().mean()"
   ]
  },
  {
   "cell_type": "code",
   "execution_count": 16,
   "id": "4efcbc5a-44c4-46c9-8e68-cf83a2111e18",
   "metadata": {
    "tags": []
   },
   "outputs": [],
   "source": [
    "df_4 =  read_pickle.read(os.path.join(path2files,vehicle),resample=15*60) "
   ]
  },
  {
   "cell_type": "code",
   "execution_count": 17,
   "id": "2e8b2942-8be8-48a9-b43d-5d8034bb2afc",
   "metadata": {},
   "outputs": [
    {
     "data": {
      "text/plain": [
       "900.0"
      ]
     },
     "execution_count": 17,
     "metadata": {},
     "output_type": "execute_result"
    }
   ],
   "source": [
    "df_4.time_s.diff().mean()"
   ]
  },
  {
   "cell_type": "code",
   "execution_count": 18,
   "id": "9b7e3781-206d-4cc6-91c2-5281a012fe25",
   "metadata": {},
   "outputs": [],
   "source": [
    "df_5 =  read_pickle.read(os.path.join(path2files,vehicle),resample=30*60) "
   ]
  },
  {
   "cell_type": "code",
   "execution_count": 19,
   "id": "45549398-2cc1-4a09-aa1f-f8fc444e7fd7",
   "metadata": {},
   "outputs": [
    {
     "data": {
      "text/plain": [
       "1800.0"
      ]
     },
     "execution_count": 19,
     "metadata": {},
     "output_type": "execute_result"
    }
   ],
   "source": [
    "df_5.time_s.diff().mean()"
   ]
  },
  {
   "cell_type": "code",
   "execution_count": 20,
   "id": "4b0c2892-b34f-4dae-a5bb-3bbe3dd29013",
   "metadata": {},
   "outputs": [],
   "source": [
    "df_6 =  read_pickle.read(os.path.join(path2files,vehicle),resample=60*60)"
   ]
  },
  {
   "cell_type": "code",
   "execution_count": 21,
   "id": "6bfa31c7-aeb1-4348-978d-c5aaf1939ebe",
   "metadata": {},
   "outputs": [
    {
     "data": {
      "text/plain": [
       "3600.0"
      ]
     },
     "execution_count": 21,
     "metadata": {},
     "output_type": "execute_result"
    }
   ],
   "source": [
    "df_6.time_s.diff().mean()"
   ]
  },
  {
   "cell_type": "code",
   "execution_count": 22,
   "id": "16a9039f-6198-46d6-8cc1-31c9e4584dad",
   "metadata": {},
   "outputs": [],
   "source": [
    "def no_filt(signal):\n",
    "    return signal"
   ]
  },
  {
   "cell_type": "code",
   "execution_count": 23,
   "id": "4223cdc0-d596-4d63-b928-f6247f670198",
   "metadata": {},
   "outputs": [],
   "source": [
    "def filter_func_1(signal):\n",
    "    perc_filter =1 #% filter\n",
    "    filtered_signal = FilterMethods().rolling_mean_numpy(signal,window_size=FilterMethods().round_to_next_odd_number(perc_filter/100 * len(signal)))\n",
    "    filtered_signal_reverse = FilterMethods().rolling_mean_numpy(np.flip(signal),window_size=FilterMethods().round_to_next_odd_number(perc_filter/100 * len(signal)))\n",
    "    return (filtered_signal+np.flip(filtered_signal_reverse))/2"
   ]
  },
  {
   "cell_type": "code",
   "execution_count": 24,
   "id": "f6822f5a-6c74-4e0b-9051-fdf9a36cd486",
   "metadata": {},
   "outputs": [],
   "source": [
    "def filter_func_4(signal):\n",
    "    ws = FilterMethods().round_to_next_odd_number(1/100 * len(signal))+1 # to mitigate the sinus \n",
    "    filtered_signal = FilterMethods().rolling_mean_numpy(signal,window_size=ws)\n",
    "    filtered_signal_reverse = FilterMethods().rolling_mean_numpy(np.flip(signal),window_size=ws)\n",
    "    return (filtered_signal+np.flip(filtered_signal_reverse))/2"
   ]
  },
  {
   "cell_type": "code",
   "execution_count": 25,
   "id": "f08ac2db-bc3c-4073-a075-735f8652ee6c",
   "metadata": {},
   "outputs": [],
   "source": [
    "def filter_func_6(signal):\n",
    "    perc_filter = 10 #% filter\n",
    "    filtered_signal = FilterMethods().rolling_mean_numpy(signal,window_size=FilterMethods().round_to_next_odd_number(perc_filter/100 * len(signal)))\n",
    "    filtered_signal_reverse = FilterMethods().rolling_mean_numpy(np.flip(signal),window_size=FilterMethods().round_to_next_odd_number(perc_filter/100 * len(signal)))\n",
    "    return (filtered_signal+np.flip(filtered_signal_reverse))/2"
   ]
  },
  {
   "cell_type": "code",
   "execution_count": 26,
   "id": "ba256846-b6d4-45e7-a308-3613620bfa74",
   "metadata": {},
   "outputs": [],
   "source": [
    "dva_extractor = DVA()\n",
    "dva_extractor.set_filter(filter_func_1)\n",
    "dva_1, cap_1 =dva_extractor.get_dva(time=df_1[\"time_h\"], capacity=df_1[\"Q\"], voltage=df_1[\"U\"],crop_cap_Ah=(1,161))\n",
    "\n",
    "dva_extractor.set_filter(filter_func_1)\n",
    "dva_2, cap_2 =dva_extractor.get_dva(time=df_2[\"time_h\"], capacity=df_2[\"Q\"], voltage=df_2[\"U\"],crop_cap_Ah=(1,161))\n",
    "\n",
    "dva_extractor.set_filter(filter_func_1)\n",
    "dva_3, cap_3 =dva_extractor.get_dva(time=df_3[\"time_h\"], capacity=df_3[\"Q\"], voltage=df_3[\"U\"],crop_cap_Ah=(1,161))\n",
    "\n",
    "dva_extractor.set_filter(filter_func_4)\n",
    "dva_4, cap_4 =dva_extractor.get_dva(time=df_4[\"time_h\"], capacity=df_4[\"Q\"], voltage=df_4[\"U\"],crop_cap_Ah=(1,161))\n",
    "\n",
    "dva_extractor.set_filter(filter_func_1)\n",
    "dva_5, cap_5 =dva_extractor.get_dva(time=df_5[\"time_h\"], capacity=df_5[\"Q\"], voltage=df_5[\"U\"],crop_cap_Ah=(1,161))\n",
    "\n",
    "dva_extractor.set_filter(filter_func_1)\n",
    "dva_6, cap_6 =dva_extractor.get_dva(time=df_6[\"time_h\"], capacity=df_6[\"Q\"], voltage=df_6[\"U\"],crop_cap_Ah=(1,161))"
   ]
  },
  {
   "cell_type": "code",
   "execution_count": 27,
   "id": "f6429b53-4fc0-496e-85dc-1405b2096d6f",
   "metadata": {},
   "outputs": [],
   "source": [
    "ica_extractor = ICA()\n",
    "ica_extractor.set_filter(filter_func_1)\n",
    "ica_extractor.set_post_filter(filter_func_1)\n",
    "ica_1, volt_1 = ica_extractor.get_ica(time=df_1[\"time_h\"], capacity=df_1[\"Q\"], voltage=df_1[\"U\"],crop_volt_V=(0,390),postfilter=False,postfilter_volt_range=(3.315,3.34),IQR_filter=True,absolute=True)\n",
    "ica_2, volt_2 = ica_extractor.get_ica(time=df_2[\"time_h\"], capacity=df_2[\"Q\"], voltage=df_2[\"U\"],crop_volt_V=(0,390),postfilter=False,postfilter_volt_range=(3.315,3.34),IQR_filter=True,absolute=True)\n",
    "ica_3, volt_3 = ica_extractor.get_ica(time=df_3[\"time_h\"], capacity=df_3[\"Q\"], voltage=df_3[\"U\"],crop_volt_V=(0,390),postfilter=False,postfilter_volt_range=(3.315,3.34),IQR_filter=True,absolute=True)\n",
    "\n",
    "ica_5, volt_5 = ica_extractor.get_ica(time=df_5[\"time_h\"], capacity=df_5[\"Q\"], voltage=df_5[\"U\"],crop_volt_V=(0,390),postfilter=False,postfilter_volt_range=(3.315,3.34),IQR_filter=True,absolute=True)\n",
    "ica_6, volt_6 = ica_extractor.get_ica(time=df_6[\"time_h\"], capacity=df_6[\"Q\"], voltage=df_6[\"U\"],crop_volt_V=(0,390),postfilter=False,postfilter_volt_range=(3.315,3.34),IQR_filter=True,absolute=True)\n",
    "\n",
    "ica_extractor.set_filter(filter_func_1)\n",
    "ica_4, volt_4 = ica_extractor.get_ica(time=df_4[\"time_h\"], capacity=df_4[\"Q\"], voltage=df_4[\"U\"],crop_volt_V=(0,390),postfilter=False,postfilter_volt_range=(3.315,3.34),IQR_filter=True,absolute=True)"
   ]
  },
  {
   "cell_type": "markdown",
   "id": "af1aa8ff-bb93-44c3-827a-2723f4290e21",
   "metadata": {},
   "source": [
    "\n",
    "## fokus on the graphite peak, as this peak shows the greatest change in voltage in teh area of interest. if this peak cannot be resolved, the sample rate is to low "
   ]
  },
  {
   "cell_type": "markdown",
   "id": "52db3ff2-9e12-47f5-980e-178c6d7955d1",
   "metadata": {},
   "source": [
    "### Plots"
   ]
  },
  {
   "cell_type": "code",
   "execution_count": 28,
   "id": "384d22c4-f3e0-412a-9080-03547c90c557",
   "metadata": {},
   "outputs": [],
   "source": [
    "def DVA_plot_v(axes, lst_cap, lst_dva):\n",
    "    Q_nom = 161\n",
    "    # 6 Ah shift compared to cell\n",
    "    alpha=1\n",
    "    for ind,(cap,dva) in enumerate(zip(lst_cap,lst_dva)):\n",
    "        axes.plot(cap,dva*Q_nom,color=colors[ind_colors[ind]],alpha=alpha)\n",
    "        alpha-=0\n",
    "    axes.set_ylabel(r\"$Q_{veh.}\\cdot\\frac{dU_{veh.}}{dQ_{veh.}}$ in V\",fontsize=9)\n",
    "    axes.set_xlabel(r\"Vehicle charge in Ah\",fontsize=9) \n",
    "    \n",
    "    axes.set_xlim([0,166])\n",
    "    axes.set_ylim([0,106])\n",
    "    tick_positions =np.array([0,27,54,81,106])\n",
    "    axes.set_yticks(tick_positions)\n",
    "    tick_positions = np.array([0,40,80,120,161])\n",
    "    axes.set_xticks(tick_positions)\n",
    "    axes.xaxis.set_minor_locator(FixedLocator([20,60,100,140]))\n",
    "    axes.grid(color=\"gainsboro\")\n",
    "    axes.set_axisbelow(True)\n",
    "    \n",
    "    # inset axes left\n",
    "    axins = axes.inset_axes([110, 10, 36,90],transform = axes.transData) # [x0, y0, width, height]\n",
    "    alpha=1\n",
    "    for ind,(cap,dva) in enumerate(zip(lst_cap,lst_dva)):\n",
    "        axins.plot(cap,dva*Q_nom,color=colors[ind_colors[ind]],alpha=alpha)\n",
    "        alpha-=0\n",
    "    # subregion of the original image\n",
    "    x1, x2, y1, y2 = 90, 98,30,53\n",
    "    axins.set_xlim(x1, x2)\n",
    "    axins.set_ylim(y1, y2)\n",
    "    axins.set_xticklabels([])\n",
    "    axins.set_yticklabels([])\n",
    "    axins.set_xticks([])\n",
    "    axins.set_yticks([])\n",
    "    #axins.grid()\n",
    "    axes.indicate_inset_zoom(axins, edgecolor=\"black\")\n",
    "    return axes"
   ]
  },
  {
   "cell_type": "code",
   "execution_count": 29,
   "id": "eec6e57a-74dc-40b4-8e0c-7f7e9b8b98fe",
   "metadata": {},
   "outputs": [],
   "source": [
    "def ICA_plot_v1(axes, lst_volt, lst_ica):\n",
    "    alpha=1\n",
    "    for ind,(volt,ica) in enumerate(zip(lst_volt,lst_ica)):\n",
    "        axes.plot(volt,ica,color=colors[ind_colors[ind]],alpha=alpha)\n",
    "    \n",
    "    axes.set_ylabel(r\"$\\frac{dQ_{veh.}}{dU_{veh.}}$ in $\\frac{Ah}{V}$\",fontsize=9)\n",
    "    axes.set_xlabel(r\"Vehicle voltage in V\",fontsize=9) \n",
    "    axes.set_xlim([350,360])\n",
    "    axes.set_ylim([0,200])\n",
    "    tick_positions =np.array([0,50,100,150,200])\n",
    "    axes.set_yticks(tick_positions)\n",
    "    tick_positions = np.array(list(range(350,361,5)))#np.array([330,356,382])\n",
    "    axes.set_xticks(tick_positions)\n",
    "    axes.grid(axis='both')\n",
    "    #axes.xaxis.set_minor_locator(FixedLocator([20,60,100,140]))\n",
    "    axes.set_axisbelow(True)\n",
    "    axes.tick_params('x', top=False, labeltop=False,bottom=True, labelbottom=True)\n",
    "    axes.tick_params('y', left=True, labelleft=True,right=True, labelright=False)\n",
    "    axes.tick_params(axis='x', labelsize=9)\n",
    "    axes.tick_params(axis='y', labelsize=9)\n",
    "    \n",
    "    return axes"
   ]
  },
  {
   "cell_type": "code",
   "execution_count": 30,
   "id": "b41ab206-f0a2-4532-843a-fcd4a0edd7ae",
   "metadata": {},
   "outputs": [],
   "source": [
    "def ICA_plot_v2(axes, lst_volt, lst_ica):\n",
    "    alpha=1\n",
    "    for ind,(volt,ica) in enumerate(zip(lst_volt,lst_ica)):\n",
    "        axes.plot(volt,ica,color=colors[ind_colors[-3]],alpha=alpha)\n",
    "    \n",
    "    #axes.set_ylabel(r\"$\\frac{dQ_{veh.}}{dU_{veh.}}$ in $\\frac{Ah}{V}$\",fontsize=9)\n",
    "    axes.set_xlabel(r\"Vehicle voltage in V\",fontsize=9) \n",
    "    axes.set_xlim([350,360])\n",
    "    #axes.set_ylim([0,200])\n",
    "    #tick_positions =np.array([0,50,100,150,200])\n",
    "    #axes.set_yticks(tick_positions)\n",
    "    tick_positions = np.array(list(range(350,361,5)))#np.array([330,356,382])\n",
    "    axes.set_xticks(tick_positions)\n",
    "    axes.grid(axis='both')\n",
    "    #axes.xaxis.set_minor_locator(FixedLocator([20,60,100,140]))\n",
    "    axes.set_axisbelow(True)\n",
    "    axes.tick_params('x', top=False, labeltop=False,bottom=True, labelbottom=True)\n",
    "    axes.tick_params('y', left=True, labelleft=False,right=True, labelright=False)\n",
    "    axes.tick_params(axis='x', labelsize=9)\n",
    "    axes.tick_params(axis='y', labelsize=9)\n",
    "    \n",
    "    return axes"
   ]
  },
  {
   "cell_type": "code",
   "execution_count": 31,
   "id": "934f71b0-49c4-4dd1-9445-5d8b1d499dcd",
   "metadata": {},
   "outputs": [
    {
     "name": "stderr",
     "output_type": "stream",
     "text": [
      "C:\\Users\\ga97req\\AppData\\Local\\Temp\\ipykernel_12144\\2023743721.py:28: UserWarning: This figure includes Axes that are not compatible with tight_layout, so results might be incorrect.\n",
      "  plt.tight_layout()\n",
      "C:\\Users\\ga97req\\AppData\\Local\\Temp\\ipykernel_12144\\2023743721.py:28: UserWarning: The figure layout has changed to tight\n",
      "  plt.tight_layout()\n"
     ]
    },
    {
     "data": {
      "image/png": "[encoded data removed]",
      "text/plain": [
       "<Figure size 329.736x314.961 with 3 Axes>"
      ]
     },
     "metadata": {},
     "output_type": "display_data"
    }
   ],
   "source": [
    "nrow = 2\n",
    "fig= plt.figure(figsize=(VisualizationConfig.columnwidth_in_in.value,\n",
    "                                nrow*cm2inch(4)),layout=\"constrained\")\n",
    "gs = gridspec.GridSpec(2, 2,hspace=0.8)\n",
    "\n",
    "axes_DVA = fig.add_subplot(gs[0, :])\n",
    "axes_DVA = DVA_plot_v(axes_DVA, [cap_1,cap_2,cap_3,cap_4,cap_5,cap_6], lst_dva = [dva_1,dva_2,dva_3,dva_4,dva_5,dva_6])\n",
    "\n",
    "axes_ICA = fig.add_subplot(gs[1, 0])\n",
    "axes_ICA = ICA_plot_v1(axes_ICA, lst_volt = [volt_1,volt_2,volt_3], lst_ica = [ica_1,ica_2,ica_3])\n",
    "\n",
    "\n",
    "axes_ICA2 = fig.add_subplot(gs[1, 1],sharey=axes_ICA)\n",
    "axes_ICA2 = ICA_plot_v2(axes_ICA2, lst_volt = [volt_4], lst_ica=[ica_4])\n",
    "\n",
    "handles, labels = axes_DVA.get_legend_handles_labels() \n",
    "line1 = Line2D([0], [0], label='  10 s', color=colors[ind_colors[0]])\n",
    "line2 = Line2D([0], [0], label='  60 s', color=colors[ind_colors[1]])\n",
    "line3 = Line2D([0], [0], label='300 s', color=colors[ind_colors[2]])\n",
    "line4 = Line2D([0], [0], label='  900 s', color=colors[ind_colors[3]])\n",
    "line5 = Line2D([0], [0], label='1800 s', color=colors[ind_colors[4]])\n",
    "line6 = Line2D([0], [0], label='3600 s', color=colors[ind_colors[5]])\n",
    "# add manual symbols to auto legend\n",
    "handles.extend([line1, line2, line3, line4, line5, line6])\n",
    "lgd = fig.legend(handles=handles,loc=\"center\",fontsize=9,framealpha =1 ,ncol=2, fancybox=False,labelspacing=0.25,edgecolor=\"black\",bbox_to_anchor=(0.5, 0.99))\n",
    "\n",
    "\n",
    "plt.tight_layout()\n",
    "axes_DVA.text(-0.11, 1.2, 'a)', horizontalalignment='left',fontsize=9,\n",
    "     verticalalignment='center', transform=axes_DVA.transAxes)\n",
    "axes_ICA.text(-0.25, 1.18, r'b)', horizontalalignment='left',fontsize=9,\n",
    "     verticalalignment='center', transform=axes_ICA.transAxes)\n",
    "axes_ICA2.text(-0.1, 1.18, r'c)', horizontalalignment='left',fontsize=9,\n",
    "     verticalalignment='center', transform=axes_ICA2.transAxes)\n",
    "\n",
    "fig.savefig(os.path.join(GeneralConfig.path2figures.value,\"03-DVA_ICA_Sample_Rate_Tesla.pdf\"),bbox_extra_artists=([lgd]),bbox_inches=\"tight\")\n",
    "fig.savefig(os.path.join(GeneralConfig.path2figures.value,\"03-DVA_ICA_Sample_Rate_Tesla.png\"),dpi=300,bbox_inches=\"tight\")"
   ]
  },
  {
   "cell_type": "code",
   "execution_count": 32,
   "id": "f2fc186a-f6b0-4bcb-b03d-97ca9e5af450",
   "metadata": {},
   "outputs": [
    {
     "data": {
      "text/plain": [
       "[<matplotlib.lines.Line2D at 0x24f4de50510>]"
      ]
     },
     "execution_count": 32,
     "metadata": {},
     "output_type": "execute_result"
    },
    {
     "data": {
      "image/png": "[encoded data removed]",
      "text/plain": [
       "<Figure size 640x480 with 1 Axes>"
      ]
     },
     "metadata": {},
     "output_type": "display_data"
    }
   ],
   "source": [
    "plt.plot(cap_1,dva_1)\n",
    "plt.plot(cap_2,dva_2)\n",
    "plt.plot(cap_3,dva_3)\n",
    "plt.plot(cap_4,dva_4)\n",
    "plt.plot(cap_5,dva_5)\n",
    "plt.plot(cap_6,dva_6)"
   ]
  },
  {
   "cell_type": "code",
   "execution_count": 33,
   "id": "6461ab95-5ad3-46d1-a45d-56a0822a38ff",
   "metadata": {},
   "outputs": [
    {
     "data": {
      "text/plain": [
       "[<matplotlib.lines.Line2D at 0x24f4e7857d0>]"
      ]
     },
     "execution_count": 33,
     "metadata": {},
     "output_type": "execute_result"
    },
    {
     "data": {
      "image/png": "[encoded data removed]",
      "text/plain": [
       "<Figure size 640x480 with 1 Axes>"
      ]
     },
     "metadata": {},
     "output_type": "display_data"
    }
   ],
   "source": [
    "plt.plot(volt_1,ica_1)\n",
    "#plt.plot(volt_2,ica_2)\n",
    "#plt.plot(volt_3,ica_3)\n",
    "plt.plot(volt_4,ica_4)\n",
    "#plt.plot(volt_5,ica_5)\n",
    "#plt.plot(volt_6,ica_6)\n"
   ]
  },
  {
   "cell_type": "code",
   "execution_count": null,
   "id": "da1cc371-b407-40be-9516-1c93a8e5b4fb",
   "metadata": {},
   "outputs": [],
   "source": []
  }
 ],
 "metadata": {
  "kernelspec": {
   "display_name": "Python 3 (ipykernel)",
   "language": "python",
   "name": "python3"
  },
  "language_info": {
   "codemirror_mode": {
    "name": "ipython",
    "version": 3
   },
   "file_extension": ".py",
   "mimetype": "text/x-python",
   "name": "python",
   "nbconvert_exporter": "python",
   "pygments_lexer": "ipython3",
   "version": "3.11.9"
  }
 },
 "nbformat": 4,
 "nbformat_minor": 5
}
