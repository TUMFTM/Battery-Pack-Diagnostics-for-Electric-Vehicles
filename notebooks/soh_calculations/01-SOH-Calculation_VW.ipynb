{
 "cells": [
  {
   "cell_type": "markdown",
   "id": "83a41d25-c882-4d12-abe2-6aebcf417292",
   "metadata": {},
   "source": [
    "### Calculation of SOH for the VW Measurements"
   ]
  },
  {
   "cell_type": "code",
   "execution_count": 1,
   "id": "99f0ccf4-41ab-4478-9e19-73170b2ed7f6",
   "metadata": {},
   "outputs": [],
   "source": [
    "import os\n",
    "import sys\n",
    "import math\n",
    "sys.path.append(os.path.join(os.getcwd().partition('Code')[0], \"Code\"))\n",
    "from src.config_base import GeneralConfig"
   ]
  },
  {
   "cell_type": "code",
   "execution_count": 2,
   "id": "0f332a55-4f87-4112-9408-924a6c474938",
   "metadata": {},
   "outputs": [],
   "source": [
    "import pandas as pd\n",
    "import numpy as np\n",
    "import matplotlib.pyplot as plt\n",
    "import matplotlib.ticker as ticker\n",
    "import matplotlib.patches as mpatches\n",
    "import matplotlib.text as mtext"
   ]
  },
  {
   "cell_type": "code",
   "execution_count": 3,
   "id": "d9759eb3-e37e-44b4-958b-87c819517cf3",
   "metadata": {},
   "outputs": [],
   "source": [
    "from src.data.read_pickle import ReadPickle\n",
    "from src.filtering.filter_methods import FilterMethods\n",
    "from src.voltage_capacity_analysis.dva import DVA\n",
    "from src.visualization.config_visualization import VisualizationConfig\n",
    "from src.visualization.colormaps import ColorMaps"
   ]
  },
  {
   "cell_type": "code",
   "execution_count": 4,
   "id": "b9cb8a48-1268-4047-8799-32ec9f9ea5e2",
   "metadata": {},
   "outputs": [],
   "source": [
    "tum_orange_cmap = ColorMaps.blue_orange_tum()"
   ]
  },
  {
   "cell_type": "code",
   "execution_count": 5,
   "id": "bdbb2b6e-2527-4b1e-9b56-2ddc423fdfb7",
   "metadata": {},
   "outputs": [],
   "source": [
    "colors_pack = tum_orange_cmap(np.linspace(0,1, 7))"
   ]
  },
  {
   "cell_type": "code",
   "execution_count": 6,
   "id": "a4bd9e16-6745-4320-85f0-6c539a217e39",
   "metadata": {},
   "outputs": [],
   "source": [
    "colors_pack = np.vstack([colors_pack,np.array([156/255,157/255,159/255,1])])"
   ]
  },
  {
   "cell_type": "code",
   "execution_count": 7,
   "id": "eb727d0a-dbd1-4b32-90fe-5c006f57c7eb",
   "metadata": {},
   "outputs": [],
   "source": [
    "def cm2inch(value):\n",
    "    return value/2.54"
   ]
  },
  {
   "cell_type": "code",
   "execution_count": 8,
   "id": "c853c4ef-38ea-4912-ae18-35e4b4630605",
   "metadata": {},
   "outputs": [],
   "source": [
    "nominal_capacity_cell = 78 # for vw id3 cell it is 2*78Ah=156Ah"
   ]
  },
  {
   "cell_type": "code",
   "execution_count": 9,
   "id": "a019d3d5-80c1-4fba-90f2-3ec2ec66063b",
   "metadata": {},
   "outputs": [],
   "source": [
    "net_energy = 58_000 #kWh vehicle COC\n",
    "gross_energy = 62_000 #kWh vehicle COC"
   ]
  },
  {
   "cell_type": "markdown",
   "id": "9203128d-7cd8-4c36-8e43-6f1d3c915fc3",
   "metadata": {},
   "source": [
    "# Read Cell Files"
   ]
  },
  {
   "cell_type": "code",
   "execution_count": 10,
   "id": "b77c053f-5916-4b68-9625-bdb99600acd5",
   "metadata": {},
   "outputs": [],
   "source": [
    "path2files_cell = os.path.join(GeneralConfig.path2data.value,\"VW\",\"cell\")"
   ]
  },
  {
   "cell_type": "code",
   "execution_count": 11,
   "id": "4733e5ac-9346-42b7-8a04-fac82238ab18",
   "metadata": {},
   "outputs": [],
   "source": [
    "read_pickle = ReadPickle()"
   ]
  },
  {
   "cell_type": "code",
   "execution_count": 12,
   "id": "d6b13847-7ef5-40fa-9856-a40de5c60fc5",
   "metadata": {},
   "outputs": [],
   "source": [
    "df_cell = read_pickle.read(os.path.join(path2files_cell,\"VW_LG_78Ah_NMC_20deg_CP_C45.pkl\"))"
   ]
  },
  {
   "cell_type": "code",
   "execution_count": 13,
   "id": "ea617193-e679-4b14-9b32-0f3c916368dd",
   "metadata": {},
   "outputs": [],
   "source": [
    "def print_infos_full_signal_cell(df):\n",
    "    cell_v_max = df[\"U\"].max()\n",
    "    cell_v_min = df[\"U\"].min()\n",
    "    print(\"Voltage:\")\n",
    "    print(f\"Max. voltage: {cell_v_max:.3f} V\")\n",
    "    print(f\"Min. voltage: {cell_v_min:.3f} V\")\n",
    "    cell_soc_max = df[\"SOC\"].max()\n",
    "    cell_soc_min = df[\"SOC\"].min()\n",
    "    print(\"SOC:\")\n",
    "    print(f\"Max. SOC: {cell_soc_max:.2f} %\")\n",
    "    print(f\"Min. SOC: {cell_soc_min:.2f} %\")\n",
    "    cell_charge_max = df[\"Q\"].max()\n",
    "    power = df[\"I\"]*(df[\"U\"])\n",
    "    norm_time = df[\"time_h\"]-df[\"time_h\"].iloc[0]\n",
    "    energy =np.trapz(y=power, x=norm_time)\n",
    "    print(\"Capacity:\")\n",
    "    print(f\"Max. capacity: {cell_charge_max:.2f} Ah\")\n",
    "    print(f\"Max. energy: {energy:.2f} Wh\")\n",
    "    s=108\n",
    "    p=2\n",
    "    print(\"SOH\")\n",
    "    print(f\"SOH_cap: {cell_charge_max/(nominal_capacity_cell)*100:.2f} %\")\n",
    "    print(f\"SOH_e_net: {energy*(p*s)/(net_energy)*100:.2f} %\")\n",
    "    print(f\"SOH_e_gross: {energy*(p*s)/(gross_energy)*100:.2f} %\")\n",
    "    return cell_charge_max"
   ]
  },
  {
   "cell_type": "code",
   "execution_count": 14,
   "id": "05860bbb-7e13-41b9-aff4-be426ceb8a13",
   "metadata": {},
   "outputs": [
    {
     "name": "stdout",
     "output_type": "stream",
     "text": [
      "Voltage:\n",
      "Max. voltage: 4.200 V\n",
      "Min. voltage: 2.794 V\n",
      "SOC:\n",
      "Max. SOC: 100.00 %\n",
      "Min. SOC: 0.00 %\n",
      "Capacity:\n",
      "Max. capacity: 80.26 Ah\n",
      "Max. energy: 299.82 Wh\n",
      "SOH\n",
      "SOH_cap: 102.89 %\n",
      "SOH_e_net: 111.66 %\n",
      "SOH_e_gross: 104.45 %\n"
     ]
    },
    {
     "data": {
      "text/plain": [
       "80.2562514811762"
      ]
     },
     "execution_count": 14,
     "metadata": {},
     "output_type": "execute_result"
    }
   ],
   "source": [
    "print_infos_full_signal_cell(df_cell)"
   ]
  },
  {
   "cell_type": "markdown",
   "id": "a1de3dd6-6f42-47d8-a360-6be7d1379ce1",
   "metadata": {},
   "source": [
    "# Read Vehicle Files"
   ]
  },
  {
   "cell_type": "code",
   "execution_count": 15,
   "id": "13a3496d-40e1-498f-a3b0-a6372eb769d6",
   "metadata": {},
   "outputs": [
    {
     "name": "stdout",
     "output_type": "stream",
     "text": [
      "75\n"
     ]
    }
   ],
   "source": [
    "# nominal capacity estimated from initial VW measurement 2021\n",
    "nominal_capacity_vehicle_v_limits = 75\n",
    "print(nominal_capacity_vehicle_v_limits)"
   ]
  },
  {
   "cell_type": "code",
   "execution_count": 16,
   "id": "36fcdbdf-1d51-4666-9861-ebd74d32290f",
   "metadata": {},
   "outputs": [],
   "source": [
    "def print_infos_full_signal_vehicle(df,s=108,p=2,Q_offset = 0,E_offset=0):\n",
    "    cell_v_max = df[\"U\"].max()\n",
    "    cell_v_min = df[\"U\"].min()\n",
    "    print(\"Voltage:\")\n",
    "    print(f\"Max. voltage: {cell_v_max:.3f} V\")\n",
    "    print(f\"Min. voltage: {cell_v_min:.3f} V\")\n",
    "    cell_soc_max = df[\"SOC\"].max()\n",
    "    cell_soc_min = df[\"SOC\"].min()\n",
    "    print(\"SOC:\")\n",
    "    print(f\"Max. SOC: {cell_soc_max:.2f} %\")\n",
    "    print(f\"Min. SOC: {cell_soc_min:.2f} %\")\n",
    "    cell_charge_max = df[\"Q\"].max()+Q_offset\n",
    "    power = df[\"I\"]*(df[\"U\"])\n",
    "    norm_time = df[\"time_h\"]-df[\"time_h\"].iloc[0]\n",
    "    energy =np.trapz(y=power, x=norm_time)+E_offset\n",
    "    print(\"Capacity:\")\n",
    "    print(f\"Max. capacity: {cell_charge_max:.2f} Ah\")\n",
    "    print(f\"Max. energy: {energy/1000:.2f} kWh\")\n",
    "    print(\"SOH\")\n",
    "    print(f\"SOH_cap: {cell_charge_max/(p*nominal_capacity_vehicle_v_limits)*100:.2f} %\")\n",
    "    print(f\"SOH_e_net: {energy/(net_energy)*100:.2f} %\")\n",
    "    print(f\"SOH_e_gross: {energy/(gross_energy)*100:.2f} %\")\n",
    "    return cell_charge_max"
   ]
  },
  {
   "cell_type": "code",
   "execution_count": 17,
   "id": "fe448e6f-43e2-40e5-8b73-d44e3e61916c",
   "metadata": {},
   "outputs": [],
   "source": [
    "vehicle_charges = []"
   ]
  },
  {
   "cell_type": "code",
   "execution_count": 18,
   "id": "8eaaca35-af26-4d46-8aad-e6bccf857375",
   "metadata": {},
   "outputs": [],
   "source": [
    "path2files_vw = os.path.join(GeneralConfig.path2data.value,\"VW\",\"vehicle\")"
   ]
  },
  {
   "cell_type": "code",
   "execution_count": 19,
   "id": "0ced7c2a-4258-480c-a720-ec9ead15be40",
   "metadata": {},
   "outputs": [],
   "source": [
    "def filter_func_preprocess_v_U(signal):\n",
    "    perc_filter = 1 #% filter\n",
    "    filtered_signal = FilterMethods().rolling_mean_df(signal,window_size=FilterMethods().round_to_next_odd_number(perc_filter/100 * len(signal)))\n",
    "    #filtered_signal = FilterMethods().savgol(signal,window_size=FilterMethods().round_to_next_odd_number(perc_filter/100 * len(signal)))\n",
    "    return filtered_signal"
   ]
  },
  {
   "cell_type": "code",
   "execution_count": 20,
   "id": "738b9525-8a13-4a81-af0f-f2479221e7a6",
   "metadata": {},
   "outputs": [],
   "source": [
    "def filter_func_preprocess_v_Q(signal):\n",
    "    perc_filter = 1 #% filter\n",
    "    filtered_signal = FilterMethods().rolling_mean_df(signal,window_size=FilterMethods().round_to_next_odd_number(perc_filter/100 * len(signal)))\n",
    "    #filtered_signal = FilterMethods().savgol(signal,window_size=FilterMethods().round_to_next_odd_number(perc_filter/100 * len(signal)))\n",
    "    return filtered_signal"
   ]
  },
  {
   "cell_type": "code",
   "execution_count": 21,
   "id": "28173688-2792-442d-a91e-b61cb162db9f",
   "metadata": {},
   "outputs": [],
   "source": [
    "read_pickle = ReadPickle()\n",
    "read_pickle.set_filter_U(filter_func_preprocess_v_U)\n",
    "#read_pickle.set_filter_Q(filter_func_preprocess_v_Q)"
   ]
  },
  {
   "cell_type": "code",
   "execution_count": 22,
   "id": "99803163-38be-4cc6-b6e7-e024d3145cd1",
   "metadata": {},
   "outputs": [
    {
     "name": "stdout",
     "output_type": "stream",
     "text": [
      "Voltage:\n",
      "Max. voltage: 451.574 V\n",
      "Min. voltage: 359.304 V\n",
      "SOC:\n",
      "Max. SOC: 95.60 %\n",
      "Min. SOC: 0.01 %\n",
      "Capacity:\n",
      "Max. capacity: 149.54 Ah\n",
      "Max. energy: 60.57 kWh\n",
      "SOH\n",
      "SOH_cap: 99.69 %\n",
      "SOH_e_net: 104.44 %\n",
      "SOH_e_gross: 97.70 %\n"
     ]
    }
   ],
   "source": [
    "df_vw =  read_pickle.read(os.path.join(path2files_vw,\"VW_ID3_JB_8A_C40_2021.pkl\"))\n",
    "vehicle_charges.append(print_infos_full_signal_vehicle(df_vw,p=2))"
   ]
  },
  {
   "cell_type": "code",
   "execution_count": 23,
   "id": "241cf1fe-5a8b-41d7-82a9-776ec10b8b63",
   "metadata": {},
   "outputs": [
    {
     "name": "stdout",
     "output_type": "stream",
     "text": [
      "Voltage:\n",
      "Max. voltage: 446.195 V\n",
      "Min. voltage: 362.500 V\n",
      "SOC:\n",
      "Max. SOC: 96.00 %\n",
      "Min. SOC: 0.00 %\n",
      "Capacity:\n",
      "Max. capacity: 136.56 Ah\n",
      "Max. energy: 55.04 kWh\n",
      "SOH\n",
      "SOH_cap: 91.04 %\n",
      "SOH_e_net: 94.90 %\n",
      "SOH_e_gross: 88.78 %\n"
     ]
    }
   ],
   "source": [
    "df_vw_aged =  read_pickle.read(os.path.join(path2files_vw,\"VW_ID3_JB_8A_C40_2023.pkl\"))\n",
    "vehicle_charges.append(print_infos_full_signal_vehicle(df_vw_aged,p=2))"
   ]
  },
  {
   "cell_type": "code",
   "execution_count": 24,
   "id": "26b4fdbf-017e-43df-afb0-df9984d39650",
   "metadata": {},
   "outputs": [
    {
     "data": {
      "text/plain": [
       "8.6"
      ]
     },
     "execution_count": 24,
     "metadata": {},
     "output_type": "execute_result"
    }
   ],
   "source": [
    "12.1-3.5"
   ]
  },
  {
   "cell_type": "code",
   "execution_count": 25,
   "id": "f9f52dfe-73fe-46c8-9646-30e0f2c81dff",
   "metadata": {},
   "outputs": [
    {
     "name": "stdout",
     "output_type": "stream",
     "text": [
      "Voltage:\n",
      "Max. voltage: 446.195 V\n",
      "Min. voltage: 362.500 V\n",
      "SOC:\n",
      "Max. SOC: 96.00 %\n",
      "Min. SOC: 0.00 %\n",
      "Capacity:\n",
      "Max. capacity: 145.16 Ah\n",
      "Max. energy: 58.91 kWh\n",
      "SOH\n",
      "SOH_cap: 96.77 %\n",
      "SOH_e_net: 101.58 %\n",
      "SOH_e_gross: 95.02 %\n"
     ]
    }
   ],
   "source": [
    "df_vw_aged_plus =  read_pickle.read(os.path.join(path2files_vw,\"VW_ID3_JB_8A_C40_2023.pkl\")) # plus cathode capacity\n",
    "E_offset_estimate = (8.6)*np.mean([454,446]) # 3.7*108 # 3.7V is to low for this high voltage regime. \n",
    "vehicle_charges.append(print_infos_full_signal_vehicle(df_vw_aged_plus,p=2,Q_offset = 8.6,E_offset=E_offset_estimate))"
   ]
  },
  {
   "cell_type": "code",
   "execution_count": 27,
   "id": "ca777ac9-b4df-4e77-86bd-37585b8d87af",
   "metadata": {},
   "outputs": [
    {
     "name": "stdout",
     "output_type": "stream",
     "text": [
      "Voltage:\n",
      "Max. voltage: 454.500 V\n",
      "Min. voltage: 361.500 V\n",
      "SOC:\n",
      "Max. SOC: 96.00 %\n",
      "Min. SOC: 0.00 %\n",
      "Capacity:\n",
      "Max. capacity: 146.14 Ah\n",
      "Max. energy: 59.44 kWh\n",
      "SOH\n",
      "SOH_cap: 97.43 %\n",
      "SOH_e_net: 102.49 %\n",
      "SOH_e_gross: 95.88 %\n"
     ]
    }
   ],
   "source": [
    "df_vw_aged_su =  pd.read_feather(os.path.join(path2files_vw,\"VW_ID3_JB_8A_C40_2024.feather\"))\n",
    "vehicle_charges.append(print_infos_full_signal_vehicle(df_vw_aged_su,p=2))"
   ]
  },
  {
   "cell_type": "code",
   "execution_count": null,
   "id": "43e77490-e5cb-43b9-b2b6-a52360fa3f68",
   "metadata": {},
   "outputs": [],
   "source": []
  }
 ],
 "metadata": {
  "kernelspec": {
   "display_name": "Python 3 (ipykernel)",
   "language": "python",
   "name": "python3"
  },
  "language_info": {
   "codemirror_mode": {
    "name": "ipython",
    "version": 3
   },
   "file_extension": ".py",
   "mimetype": "text/x-python",
   "name": "python",
   "nbconvert_exporter": "python",
   "pygments_lexer": "ipython3",
   "version": "3.11.9"
  }
 },
 "nbformat": 4,
 "nbformat_minor": 5
}
